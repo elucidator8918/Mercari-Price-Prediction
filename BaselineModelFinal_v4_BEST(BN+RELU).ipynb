{
  "cells": [
    {
      "cell_type": "markdown",
      "metadata": {
        "id": "f571117c"
      },
      "source": [
        "### Importing all the necessary Libraries"
      ],
      "id": "f571117c"
    },
    {
      "cell_type": "code",
      "execution_count": null,
      "metadata": {
        "colab": {
          "background_save": true
        },
        "id": "Ppgysh9OajUG"
      },
      "outputs": [],
      "source": [
        "!pip install scikit-optimize\n",
        "!pip install pandas==1.4.4\n",
        "!pip install scikit-optimize"
      ],
      "id": "Ppgysh9OajUG"
    },
    {
      "cell_type": "code",
      "execution_count": null,
      "metadata": {
        "colab": {
          "background_save": true
        },
        "id": "b3347fc7"
      },
      "outputs": [],
      "source": [
        "import numpy as np\n",
        "import pandas as pd\n",
        "import matplotlib.pyplot as plt\n",
        "from sklearn.model_selection import train_test_split\n",
        "import scipy\n",
        "import scipy.sparse\n",
        "import gensim.models\n",
        "from scipy.sparse import hstack\n",
        "from tqdm import tqdm,tqdm_notebook\n",
        "from prettytable import PrettyTable\n",
        "from sklearn.linear_model import SGDRegressor,Lasso,Ridge,ElasticNet\n",
        "import joblib\n",
        "from sklearn.svm import SVR\n",
        "from sklearn.metrics import mean_squared_log_error\n",
        "from xgboost import XGBRegressor\n",
        "from lightgbm import LGBMRegressor\n",
        "from xgboost import XGBRegressor\n",
        "from sklearn.model_selection import GridSearchCV\n",
        "from sklearn.model_selection import train_test_split, RandomizedSearchCV\n",
        "from sklearn.preprocessing import OneHotEncoder\n",
        "from skopt import BayesSearchCV\n",
        "import tensorflow as tf\n",
        "from tensorflow.keras.layers import Dense, Input,Dropout,Flatten,concatenate\n",
        "import tensorflow.keras\n",
        "from tensorflow.keras.models import Model,load_model\n",
        "from tensorflow.keras.layers import BatchNormalization\n",
        "from tensorflow.keras.utils import plot_model\n",
        "from tensorflow.keras.callbacks import ModelCheckpoint,TensorBoard,EarlyStopping\n",
        "from tensorflow.keras import optimizers\n",
        "from tensorflow.keras.metrics import mean_squared_logarithmic_error\n",
        "import warnings\n",
        "from torch.utils.data import DataLoader,TensorDataset,Dataset\n",
        "from torchvision.transforms import ToTensor\n",
        "%matplotlib inline\n",
        "warnings.filterwarnings(\"ignore\")\n",
        "import re\n",
        "from sklearn.feature_extraction.text import TfidfVectorizer\n",
        "from nltk.tokenize import word_tokenize\n",
        "from prettytable import PrettyTable\n",
        "import joblib\n",
        "import gc\n",
        "from sklearn.feature_extraction.text import CountVectorizer, TfidfVectorizer\n",
        "from nltk.corpus import wordnet as wn\n",
        "from nltk.stem.wordnet import WordNetLemmatizer\n",
        "import tensorflow as tf\n",
        "import datetime\n",
        "%load_ext tensorboard"
      ],
      "id": "b3347fc7"
    },
    {
      "cell_type": "code",
      "execution_count": null,
      "metadata": {
        "colab": {
          "background_save": true,
          "base_uri": "https://localhost:8080/"
        },
        "id": "1PKeMiZ0pm3x",
        "outputId": "63838b52-8d6a-4019-9f18-71fb28d2129b"
      },
      "outputs": [
        {
          "name": "stderr",
          "output_type": "stream",
          "text": [
            "[nltk_data] Downloading package wordnet to /root/nltk_data...\n",
            "[nltk_data] Downloading package vader_lexicon to /root/nltk_data...\n",
            "[nltk_data] Downloading package stopwords to /root/nltk_data...\n",
            "[nltk_data]   Unzipping corpora/stopwords.zip.\n",
            "[nltk_data] Downloading package omw-1.4 to /root/nltk_data...\n"
          ]
        }
      ],
      "source": [
        "import nltk\n",
        "nltk.download('wordnet')\n",
        "nltk.download('vader_lexicon')\n",
        "nltk.download('stopwords')\n",
        "nltk.download('omw-1.4')\n",
        "from nltk.corpus import stopwords"
      ],
      "id": "1PKeMiZ0pm3x"
    },
    {
      "cell_type": "markdown",
      "metadata": {
        "id": "914febe9"
      },
      "source": [
        "### Loading the train dataframe from joblib"
      ],
      "id": "914febe9"
    },
    {
      "cell_type": "code",
      "execution_count": null,
      "metadata": {
        "id": "MMH6QnLra-Ku"
      },
      "outputs": [],
      "source": [
        "from google.colab import drive\n",
        "drive.mount('/content/gdrive')"
      ],
      "id": "MMH6QnLra-Ku"
    },
    {
      "cell_type": "code",
      "execution_count": null,
      "metadata": {
        "id": "81c5a6b5"
      },
      "outputs": [],
      "source": [
        "df_train = joblib.load('/content/gdrive/MyDrive/binary_files/df_train_26Jan23_v1.joblib')\n",
        "df_cval = joblib.load('/content/gdrive/MyDrive/binary_files/df_cval_26Jan23_v1.joblib')\n",
        "df_test = joblib.load('/content/gdrive/MyDrive/binary_files/df_test_26Jan23_v1.joblib')"
      ],
      "id": "81c5a6b5"
    },
    {
      "cell_type": "code",
      "execution_count": null,
      "metadata": {
        "id": "aAb2uf7li7zV"
      },
      "outputs": [],
      "source": [
        "y_train = np.array(df_train['price'].values).reshape(-1, 1)\n",
        "y_cval    = np.array(df_cval['price'].values).reshape(-1, 1)"
      ],
      "id": "aAb2uf7li7zV"
    },
    {
      "cell_type": "code",
      "execution_count": null,
      "metadata": {
        "id": "atg3Pbsli73a"
      },
      "outputs": [],
      "source": [
        "y_train = np.log1p(y_train)"
      ],
      "id": "atg3Pbsli73a"
    },
    {
      "cell_type": "code",
      "execution_count": null,
      "metadata": {
        "id": "kVcroj5b8Zak"
      },
      "outputs": [],
      "source": [
        "trainframe = joblib.load( '/content/gdrive/MyDrive/binary_files/trainframe_26Jan23_v1.joblib')\n",
        "cvalframe = joblib.load('/content/gdrive/MyDrive/binary_files/cvalframe_26Jan23_v1.joblib')\n",
        "testframe = joblib.load('/content/gdrive/MyDrive/binary_files/testframe_26Jan23_v1.joblib')"
      ],
      "id": "kVcroj5b8Zak"
    },
    {
      "cell_type": "code",
      "execution_count": null,
      "metadata": {
        "id": "VPQpiMCW8Zll"
      },
      "outputs": [],
      "source": [
        "target = df_train['log_price'].values\n",
        "cvaltar = df_cval['log_price'].values"
      ],
      "id": "VPQpiMCW8Zll"
    },
    {
      "cell_type": "code",
      "execution_count": null,
      "metadata": {
        "id": "zjghDNY7-nUe"
      },
      "outputs": [],
      "source": [
        "# Original price\n",
        "targ1=np.expm1(target)\n",
        "cvaltar1=np.expm1(cvaltar)"
      ],
      "id": "zjghDNY7-nUe"
    },
    {
      "cell_type": "markdown",
      "metadata": {
        "id": "e893c7f4"
      },
      "source": [
        "### Creating the custom Root Mean squared log error loss function"
      ],
      "id": "e893c7f4"
    },
    {
      "cell_type": "code",
      "execution_count": null,
      "metadata": {
        "id": "b0d4169f"
      },
      "outputs": [],
      "source": [
        "def loss(y_true,y_pred):\n",
        "    \"\"\"\n",
        "    Description -> Accepts input y1 and y2 as the true and predicted values respectively to determine the error\n",
        "                   loss and return it as the output\n",
        "    \"\"\"\n",
        "    return np.sqrt(mean_squared_log_error(y_true,y_pred))\n",
        "\n",
        "# def rmsle(y_true, y_pred):\n",
        "#     return np.sqrt(mean_squared_log_error(y_true, y_pred))"
      ],
      "id": "b0d4169f"
    },
    {
      "cell_type": "code",
      "execution_count": null,
      "metadata": {
        "id": "X_d7dERrBpF6"
      },
      "outputs": [],
      "source": [
        "def losstf(y1,y2):\n",
        "    \"\"\"\n",
        "    Description -> Accepts input y1 and y2 as the true and predicted values respectively to determine the error\n",
        "                   loss and return it as the output\n",
        "    \"\"\"\n",
        "    return tf.math.sqrt(mean_squared_logarithmic_error(y1,y2))"
      ],
      "id": "X_d7dERrBpF6"
    },
    {
      "cell_type": "code",
      "execution_count": null,
      "metadata": {
        "id": "7_6p_wRKe5g5"
      },
      "outputs": [],
      "source": [
        "def losslgb(y1,y2):\n",
        "    return 'RMSLE',loss(y1,y2),False"
      ],
      "id": "7_6p_wRKe5g5"
    },
    {
      "cell_type": "markdown",
      "metadata": {
        "id": "590bf037"
      },
      "source": [
        "### 1 - L1 Regularization - Lasso Model"
      ],
      "id": "590bf037"
    },
    {
      "cell_type": "code",
      "execution_count": null,
      "metadata": {
        "id": "2fa9d69b"
      },
      "outputs": [],
      "source": [
        "def lasso(X_train,y_train,alpha):\n",
        "    \"\"\"\n",
        "    Description -> Inputs the train dataframe, the target to predict and the alpha parameter to create a linear\n",
        "                   regression model with L1 Regularization and returns this model.\n",
        "    \"\"\"\n",
        "    model = Lasso(alpha=alpha,max_iter=2000)\n",
        "    model.fit(X_train,y_train)\n",
        "    return model"
      ],
      "id": "2fa9d69b"
    },
    {
      "cell_type": "markdown",
      "metadata": {
        "id": "d233a606"
      },
      "source": [
        "#### Fitting the lasso model"
      ],
      "id": "d233a606"
    },
    {
      "cell_type": "code",
      "execution_count": null,
      "metadata": {
        "colab": {
          "base_uri": "https://localhost:8080/"
        },
        "id": "c4672835",
        "outputId": "bed18136-1a2b-42fe-b01d-daaf5510ee36"
      },
      "outputs": [
        {
          "name": "stdout",
          "output_type": "stream",
          "text": [
            "CPU times: user 7min 3s, sys: 414 ms, total: 7min 3s\n",
            "Wall time: 7min 2s\n"
          ]
        },
        {
          "data": {
            "text/plain": [
              "0.7457773932554702"
            ]
          },
          "execution_count": 29,
          "metadata": {},
          "output_type": "execute_result"
        }
      ],
      "source": [
        "%%time\n",
        "clf = lasso(trainframe,target,1)\n",
        "y_pred = clf.predict(cvalframe)\n",
        "preds_lasso = np.expm1(y_pred.reshape(-1, 1))\n",
        "loss(cvaltar1,preds_lasso)"
      ],
      "id": "c4672835"
    },
    {
      "cell_type": "markdown",
      "metadata": {
        "id": "1584f651"
      },
      "source": [
        "#### Hyperparameter tuning using gridsearchcv"
      ],
      "id": "1584f651"
    },
    {
      "cell_type": "code",
      "execution_count": null,
      "metadata": {
        "id": "375cbfda"
      },
      "outputs": [],
      "source": [
        "param_grid = {\n",
        "    \"alpha\": [1e-08, 1e-07, 1e-06, 1e-05, 0.0001, 0.001, 0.01, 0.1, 1, 10, 100],\n",
        "    \"max_iter\": [1000,2000]}\n",
        "gr = GridSearchCV(Lasso(),param_grid,cv=2,n_jobs=-1)"
      ],
      "id": "375cbfda"
    },
    {
      "cell_type": "code",
      "execution_count": null,
      "metadata": {
        "id": "c6e7f7c7"
      },
      "outputs": [],
      "source": [
        "gridlasso = gr.fit(trainframe,target)"
      ],
      "id": "c6e7f7c7"
    },
    {
      "cell_type": "code",
      "execution_count": null,
      "metadata": {
        "colab": {
          "base_uri": "https://localhost:8080/"
        },
        "id": "e399994e",
        "outputId": "2e5829db-0d6a-47b0-b0ed-836ff6088b2d"
      },
      "outputs": [
        {
          "name": "stdout",
          "output_type": "stream",
          "text": [
            "0.5126767667553153\n"
          ]
        }
      ],
      "source": [
        "gridlasso.best_score_"
      ],
      "id": "e399994e"
    },
    {
      "cell_type": "markdown",
      "metadata": {
        "id": "tVsUad8NNavn"
      },
      "source": [
        "#### Fitting it with the best alpha value found using hyperparameter tuning"
      ],
      "id": "tVsUad8NNavn"
    },
    {
      "cell_type": "code",
      "execution_count": null,
      "metadata": {
        "colab": {
          "base_uri": "https://localhost:8080/"
        },
        "id": "ff50b313",
        "outputId": "f939a5fd-e596-412a-dde2-7d0efbd0a8ff"
      },
      "outputs": [
        {
          "name": "stdout",
          "output_type": "stream",
          "text": [
            "OrderedDict([('alpha', 1), ('max_iter', 2000)])\n",
            "RMSLE loss for train =  0.7459394918743606\n",
            "RMSLE loss for CV = 0.7457273932554702\n"
          ]
        }
      ],
      "source": [
        "print(gridlasso.best_params_)\n",
        "best_est = gridlasso.best_estimator_\n",
        "y_pred_train = best_est.predict(trainframe)\n",
        "y_pred_cv = best_est.predict(cvalframe)\n",
        "print(\"RMSLE loss for train = \", loss(targ1,np.expm1(y_pred_train)))\n",
        "print(\"RMSLE loss for CV = \", loss(cvaltar1,np.expm1(y_pred_cv)))"
      ],
      "id": "ff50b313"
    },
    {
      "cell_type": "markdown",
      "metadata": {
        "id": "00edac3f"
      },
      "source": [
        "#### Hyperparameter tuning using Bayesian Search"
      ],
      "id": "00edac3f"
    },
    {
      "cell_type": "code",
      "execution_count": null,
      "metadata": {
        "id": "9ee8e8f1"
      },
      "outputs": [],
      "source": [
        "# ref - https://towardsdatascience.com/bayesian-optimization-for-hyperparameter-tuning-how-and-why-655b0ee0b399\n",
        "param_grid = {\n",
        "    \"alpha\": [1e-08, 1e-07, 1e-06, 1e-05, 0.0001, 0.001, 0.01, 0.1, 1, 10, 100],\n",
        "    \"max_iter\": [1000,2000]}\n",
        "bayes = BayesSearchCV(estimator=SGDRegressor(penalty='l1'),search_spaces=param_grid,n_iter=70,cv=2,n_jobs=-1,random_state=23)"
      ],
      "id": "9ee8e8f1"
    },
    {
      "cell_type": "code",
      "execution_count": null,
      "metadata": {
        "id": "cd15f9e4"
      },
      "outputs": [],
      "source": [
        "bayeslasso = bayes.fit(trainframe,target)"
      ],
      "id": "cd15f9e4"
    },
    {
      "cell_type": "code",
      "execution_count": null,
      "metadata": {
        "id": "4c1077cc",
        "outputId": "330d46b4-6510-48e9-d962-3b92d956866b"
      },
      "outputs": [
        {
          "data": {
            "text/plain": [
              "0.5226757616551163"
            ]
          },
          "execution_count": 29,
          "metadata": {},
          "output_type": "execute_result"
        }
      ],
      "source": [
        "bayeslasso.best_score_"
      ],
      "id": "4c1077cc"
    },
    {
      "cell_type": "markdown",
      "metadata": {
        "id": "05554524"
      },
      "source": [
        "#### Fitting it with the best alpha value found using hyperparameter tuning"
      ],
      "id": "05554524"
    },
    {
      "cell_type": "code",
      "execution_count": null,
      "metadata": {
        "colab": {
          "base_uri": "https://localhost:8080/"
        },
        "id": "0e5da3a0",
        "outputId": "8bd0997e-da01-49f5-fd1f-54e4875ea787"
      },
      "outputs": [
        {
          "name": "stdout",
          "output_type": "stream",
          "text": [
            "OrderedDict([('alpha', 1), ('max_iter', 2000)])\n",
            "RMSLE loss for train =  0.7459394918743606\n",
            "RMSLE loss for CV = 0.7457273932554702\n"
          ]
        }
      ],
      "source": [
        "print(bayeslasso.best_params_)\n",
        "best_est = bayeslasso.best_estimator_\n",
        "y_pred_train = bayeslasso.predict(trainframe)\n",
        "y_pred_cv = bayeslasso.predict(cvalframe)\n",
        "print(\"RMSLE loss for train = \", loss(targ1,np.expm1(y_pred_train)))\n",
        "print(\"RMSLE loss for CV = \", loss(cvaltar1,np.expm1(y_pred_cv)))"
      ],
      "id": "0e5da3a0"
    },
    {
      "cell_type": "markdown",
      "metadata": {
        "id": "27562873"
      },
      "source": [
        "### 2 - L2 Regularization - Ridge Model"
      ],
      "id": "27562873"
    },
    {
      "cell_type": "code",
      "execution_count": null,
      "metadata": {
        "id": "3836a473"
      },
      "outputs": [],
      "source": [
        "def ridge(X_train,y_train,alpha):\n",
        "    \"\"\"\n",
        "    Description -> Inputs the train dataframe, the target to predict and the alpha parameter to create a linear\n",
        "                   regression model with L2 Regularization and returns this model.\n",
        "    \"\"\"\n",
        "    model = Ridge(alpha=alpha)\n",
        "    model.fit(X_train,y_train)\n",
        "    return model"
      ],
      "id": "3836a473"
    },
    {
      "cell_type": "code",
      "execution_count": null,
      "metadata": {
        "colab": {
          "base_uri": "https://localhost:8080/"
        },
        "id": "a62f79d1",
        "outputId": "ece81e07-72a2-4cff-8fa6-3d0d12c8b61e"
      },
      "outputs": [
        {
          "name": "stdout",
          "output_type": "stream",
          "text": [
            "CPU times: user 2min 41s, sys: 3min 33s, total: 6min 15s\n",
            "Wall time: 2min 13s\n"
          ]
        },
        {
          "data": {
            "text/plain": [
              "0.44464924022481916"
            ]
          },
          "execution_count": 28,
          "metadata": {},
          "output_type": "execute_result"
        }
      ],
      "source": [
        "%%time\n",
        "clf = ridge(trainframe, target,1)\n",
        "y_pred = clf.predict(cvalframe)\n",
        "preds_lasso = np.expm1(y_pred.reshape(-1, 1))[:, 0]\n",
        "loss(cvaltar1,preds_lasso)"
      ],
      "id": "a62f79d1"
    },
    {
      "cell_type": "markdown",
      "metadata": {
        "id": "46b892c0"
      },
      "source": [
        "#### Hyperparameter tuning using gridsearchcv"
      ],
      "id": "46b892c0"
    },
    {
      "cell_type": "code",
      "execution_count": null,
      "metadata": {
        "id": "53b050b6"
      },
      "outputs": [],
      "source": [
        "param_grid = {\n",
        "    \"alpha\": [1e-08, 1e-07, 1e-06, 1e-05, 0.0001, 0.001, 0.01, 0.1, 1, 10, 100],\n",
        "    \"max_iter\": [1000,2000]}\n",
        "gr1 = RandomizedSearchCV(Ridge(),param_grid,cv=2,n_jobs=-1,random_state=21)"
      ],
      "id": "53b050b6"
    },
    {
      "cell_type": "code",
      "execution_count": null,
      "metadata": {
        "id": "a8257e33"
      },
      "outputs": [],
      "source": [
        "gridridge = gr1.fit(trainframe,target)"
      ],
      "id": "a8257e33"
    },
    {
      "cell_type": "code",
      "execution_count": null,
      "metadata": {
        "colab": {
          "base_uri": "https://localhost:8080/"
        },
        "id": "b322df91",
        "outputId": "277b9463-6c2c-485c-9256-ebc89a380283"
      },
      "outputs": [
        {
          "data": {
            "text/plain": [
              "0.6293308047288371"
            ]
          },
          "execution_count": 20,
          "metadata": {},
          "output_type": "execute_result"
        }
      ],
      "source": [
        "gridridge.best_score_"
      ],
      "id": "b322df91"
    },
    {
      "cell_type": "markdown",
      "metadata": {
        "id": "C1-Vsb_oNfoZ"
      },
      "source": [
        "#### Fitting it with the best alpha value found using hyperparameter tuning"
      ],
      "id": "C1-Vsb_oNfoZ"
    },
    {
      "cell_type": "code",
      "execution_count": null,
      "metadata": {
        "colab": {
          "base_uri": "https://localhost:8080/"
        },
        "id": "981ac759",
        "outputId": "a11bb933-d342-46d7-dc13-d6b42bcc9382"
      },
      "outputs": [
        {
          "name": "stdout",
          "output_type": "stream",
          "text": [
            "{'max_iter': 2000, 'alpha': 1}\n",
            "RMSLE loss for train =  0.3980171915030034\n",
            "RMSLE loss for CV =  0.44464924022481916\n"
          ]
        }
      ],
      "source": [
        "print(gridridge.best_params_)\n",
        "best_est = gridridge.best_estimator_\n",
        "y_pred_train = best_est.predict(trainframe)\n",
        "y_pred_cv = best_est.predict(cvalframe)\n",
        "print(\"RMSLE loss for train = \", loss(targ1,np.expm1(y_pred_train)))\n",
        "print(\"RMSLE loss for CV = \", loss(cvaltar1,np.expm1(y_pred_cv)))"
      ],
      "id": "981ac759"
    },
    {
      "cell_type": "markdown",
      "metadata": {
        "id": "5ea69afa"
      },
      "source": [
        "#### Hyperparameter tuning using Bayesian Search"
      ],
      "id": "5ea69afa"
    },
    {
      "cell_type": "code",
      "execution_count": null,
      "metadata": {
        "id": "7cbed8d3"
      },
      "outputs": [],
      "source": [
        "param_grid = {\n",
        "    \"alpha\": [1e-08, 1e-07, 1e-06, 1e-05, 0.0001, 0.001, 0.01, 0.1, 1, 10, 100],\n",
        "    \"max_iter\": [1000,2000]}\n",
        "bayes1 = BayesSearchCV(estimator=SGDRegressor(penalty='l1'),search_spaces=param_grid,n_iter=70,cv=2,n_jobs=-1,random_state=23)"
      ],
      "id": "7cbed8d3"
    },
    {
      "cell_type": "code",
      "execution_count": null,
      "metadata": {
        "id": "1e78386a"
      },
      "outputs": [],
      "source": [
        "bayesridge = bayes1.fit(trainframe,target)"
      ],
      "id": "1e78386a"
    },
    {
      "cell_type": "code",
      "execution_count": null,
      "metadata": {
        "id": "05495eed",
        "outputId": "37548c2d-7cff-47d9-9aee-20d3480e5e0b"
      },
      "outputs": [
        {
          "data": {
            "text/plain": [
              "0.5226782596845778"
            ]
          },
          "execution_count": 36,
          "metadata": {},
          "output_type": "execute_result"
        }
      ],
      "source": [
        "bayesridge.best_score_"
      ],
      "id": "05495eed"
    },
    {
      "cell_type": "markdown",
      "metadata": {
        "id": "EceL8lecNiWp"
      },
      "source": [
        "#### Fitting it with the best alpha value found using hyperparameter tuning"
      ],
      "id": "EceL8lecNiWp"
    },
    {
      "cell_type": "code",
      "execution_count": null,
      "metadata": {
        "colab": {
          "base_uri": "https://localhost:8080/"
        },
        "id": "ca9cf7ee",
        "outputId": "7ce60387-7b81-413b-abd7-363a8279bfd7"
      },
      "outputs": [
        {
          "name": "stdout",
          "output_type": "stream",
          "text": [
            "{'max_iter': 2000, 'alpha': 1}\n",
            "RMSLE loss for train =  0.3980171915030034\n",
            "RMSLE loss for CV =  0.44464924022481916\n"
          ]
        }
      ],
      "source": [
        "print(bayesridge.best_params_)\n",
        "best_est = bayesridge.best_estimator_\n",
        "y_pred_train = bayesridge.predict(trainframe)\n",
        "y_pred_cv = bayesridge.predict(cvalframe)\n",
        "print(\"RMSLE loss for train = \", loss(targ1,np.expm1(y_pred_train)))\n",
        "print(\"RMSLE loss for CV = \", loss(cvaltar1,np.expm1(y_pred_cv)))"
      ],
      "id": "ca9cf7ee"
    },
    {
      "cell_type": "markdown",
      "metadata": {
        "id": "9caf77ab"
      },
      "source": [
        "### 3 - L1 & L2 Regularized - ElasticNet Model"
      ],
      "id": "9caf77ab"
    },
    {
      "cell_type": "code",
      "execution_count": null,
      "metadata": {
        "id": "b4db8467"
      },
      "outputs": [],
      "source": [
        "def elasticnet(X_train,y_train,alpha):\n",
        "    \"\"\"\n",
        "    Description -> Inputs the train dataframe, the target to predict and the alpha parameter to create a linear\n",
        "                   regression model with L1 & L2 Regularization and returns this model.\n",
        "    \"\"\"\n",
        "    model = ElasticNet(alpha=alpha)\n",
        "    model.fit(X_train,y_train)\n",
        "    return model"
      ],
      "id": "b4db8467"
    },
    {
      "cell_type": "code",
      "execution_count": null,
      "metadata": {
        "colab": {
          "base_uri": "https://localhost:8080/"
        },
        "id": "4c499314",
        "outputId": "397d157d-3ed6-45f6-84e7-d7dff7c98134"
      },
      "outputs": [
        {
          "name": "stdout",
          "output_type": "stream",
          "text": [
            "CPU times: user 7min 5s, sys: 360 ms, total: 7min 5s\n",
            "Wall time: 7min 4s\n"
          ]
        },
        {
          "data": {
            "text/plain": [
              "0.7457773932554702"
            ]
          },
          "execution_count": 42,
          "metadata": {},
          "output_type": "execute_result"
        }
      ],
      "source": [
        "%%time\n",
        "clf = elasticnet(trainframe, target,1)\n",
        "y_pred = clf.predict(cvalframe)\n",
        "preds_lasso = np.expm1(y_pred.reshape(-1, 1))[:, 0]\n",
        "loss(cvaltar1,preds_lasso)"
      ],
      "id": "4c499314"
    },
    {
      "cell_type": "markdown",
      "metadata": {
        "id": "54f03bfc"
      },
      "source": [
        "#### Hyperparameter tuning using gridsearchcv"
      ],
      "id": "54f03bfc"
    },
    {
      "cell_type": "code",
      "execution_count": null,
      "metadata": {
        "id": "eb0b7cd3"
      },
      "outputs": [],
      "source": [
        "param_grid = {\n",
        "    \"alpha\": [1e-08, 1e-07, 1e-06, 1e-05, 0.0001, 0.001, 0.01, 0.1, 1, 10, 100],\n",
        "    \"max_iter\": [1000,2000]}\n",
        "gre = RandomizedSearchCV(ElasticNet(),param_grid,cv=2,n_jobs=-1,random_state=21)"
      ],
      "id": "eb0b7cd3"
    },
    {
      "cell_type": "code",
      "execution_count": null,
      "metadata": {
        "id": "VeW2Fz6aqItl"
      },
      "outputs": [],
      "source": [
        "grelas = gre.fit(trainframe,target)"
      ],
      "id": "VeW2Fz6aqItl"
    },
    {
      "cell_type": "code",
      "execution_count": null,
      "metadata": {
        "colab": {
          "base_uri": "https://localhost:8080/"
        },
        "id": "RUKbAIbJqIpr",
        "outputId": "b58dcc48-5fd8-495e-b3db-c1992e610f4b"
      },
      "outputs": [
        {
          "data": {
            "text/plain": [
              "0.5226728602061765"
            ]
          },
          "execution_count": 67,
          "metadata": {},
          "output_type": "execute_result"
        }
      ],
      "source": [
        "grelas.best_score_"
      ],
      "id": "RUKbAIbJqIpr"
    },
    {
      "cell_type": "markdown",
      "metadata": {
        "id": "njxoH-gdNoUL"
      },
      "source": [
        "#### Fitting it with the best alpha value found using hyperparameter tuning"
      ],
      "id": "njxoH-gdNoUL"
    },
    {
      "cell_type": "code",
      "execution_count": null,
      "metadata": {
        "colab": {
          "base_uri": "https://localhost:8080/"
        },
        "id": "_Pkxamb2qIL9",
        "outputId": "9b5876d0-197d-4fd4-ff92-f89578ef06c1"
      },
      "outputs": [
        {
          "name": "stdout",
          "output_type": "stream",
          "text": [
            "{'alpha': 1, 'max_iter': 2000}\n",
            "RMSLE loss for train =  0.7459394918743606\n",
            "RMSLE loss for CV =  0.7457773932554702\n"
          ]
        }
      ],
      "source": [
        "print(grelas.best_params_)\n",
        "best_est = grelas.best_estimator_\n",
        "y_pred_train = clf.predict(trainframe)\n",
        "y_pred_cv = clf.predict(cvalframe)\n",
        "print(\"RMSLE loss for train = \", loss(targ1,np.expm1(y_pred_train)))\n",
        "print(\"RMSLE loss for CV = \", loss(cvaltar1,np.expm1(y_pred_cv)))"
      ],
      "id": "_Pkxamb2qIL9"
    },
    {
      "cell_type": "markdown",
      "metadata": {
        "id": "bcdee3eb"
      },
      "source": [
        "#### Hyperparameter tuning using Bayesian Search"
      ],
      "id": "bcdee3eb"
    },
    {
      "cell_type": "code",
      "execution_count": null,
      "metadata": {
        "id": "1f1ed3e8"
      },
      "outputs": [],
      "source": [
        "param_grid = {\n",
        "    \"alpha\": [1e-08, 1e-07, 1e-06, 1e-05, 0.0001, 0.001, 0.01, 0.1, 1, 10, 100],\n",
        "    \"max_iter\": [1000,2000]}\n",
        "bayes1 = BayesSearchCV(estimator=SGDRegressor(penalty='elasticnet'),search_spaces=param_grid,n_iter=70,cv=2,n_jobs=-1,random_state=23)"
      ],
      "id": "1f1ed3e8"
    },
    {
      "cell_type": "code",
      "execution_count": null,
      "metadata": {
        "id": "Y9K1y34lq2lk"
      },
      "outputs": [],
      "source": [
        "baelas = bayes1.fit(trainframe,target)"
      ],
      "id": "Y9K1y34lq2lk"
    },
    {
      "cell_type": "code",
      "execution_count": null,
      "metadata": {
        "colab": {
          "base_uri": "https://localhost:8080/"
        },
        "id": "-xqrZ_ahq2vy",
        "outputId": "b77d2f04-6dd1-41b7-c283-a829cc794272"
      },
      "outputs": [
        {
          "data": {
            "text/plain": [
              "0.5226915920170052"
            ]
          },
          "execution_count": 71,
          "metadata": {},
          "output_type": "execute_result"
        }
      ],
      "source": [
        "baelas.best_score_"
      ],
      "id": "-xqrZ_ahq2vy"
    },
    {
      "cell_type": "markdown",
      "metadata": {
        "id": "i1CeNcVANGqj"
      },
      "source": [
        "#### Fitting it with the best alpha value found using hyperparameter tuning"
      ],
      "id": "i1CeNcVANGqj"
    },
    {
      "cell_type": "code",
      "execution_count": null,
      "metadata": {
        "colab": {
          "base_uri": "https://localhost:8080/"
        },
        "id": "69c6ee27",
        "outputId": "0a7cb0c9-daad-4e36-9f4e-180c488be3cb"
      },
      "outputs": [
        {
          "name": "stdout",
          "output_type": "stream",
          "text": [
            "{'alpha': 1, 'max_iter': 2000}\n",
            "RMSLE loss for train =  0.7459394918743606\n",
            "RMSLE loss for CV =  0.7457773932554702\n"
          ]
        }
      ],
      "source": [
        "print(baelas.best_params_)\n",
        "best_est = grelas.best_estimator_\n",
        "y_pred_train = best_est.predict(trainframe)\n",
        "y_pred_cv = best_est.predict(cvalframe)\n",
        "print(\"RMSLE loss for train = \", loss(targ1,np.expm1(y_pred_train)))\n",
        "print(\"RMSLE loss for CV = \", loss(cvaltar1,np.expm1(y_pred_cv)))"
      ],
      "id": "69c6ee27"
    },
    {
      "cell_type": "markdown",
      "metadata": {
        "id": "8653893f"
      },
      "source": [
        "### 4 - Support Vector Regression Model"
      ],
      "id": "8653893f"
    },
    {
      "cell_type": "code",
      "execution_count": null,
      "metadata": {
        "id": "2c2a80e1"
      },
      "outputs": [],
      "source": [
        "def svr(X_train,y_train,gamma,max_iter):\n",
        "    \"\"\"\n",
        "    Description -> Inputs the train dataframe, the target to predict, the gamma parameter deciding the spread \n",
        "                   and the maximum iterations to create a SVR model which is built based on the concept of SVM \n",
        "                   and returns this model. It uses a general purpose radial basis function kernel.\n",
        "    \"\"\"\n",
        "    model = SVR(kernel='rbf',gamma=gamma,max_iter=max_iter)\n",
        "    model.fit(X_train,y_train)\n",
        "    return model    "
      ],
      "id": "2c2a80e1"
    },
    {
      "cell_type": "code",
      "execution_count": null,
      "metadata": {
        "colab": {
          "base_uri": "https://localhost:8080/"
        },
        "id": "01c2c0b9",
        "outputId": "a792d80f-0eee-47aa-e1b3-9e5eba6da95c"
      },
      "outputs": [
        {
          "name": "stdout",
          "output_type": "stream",
          "text": [
            "CPU times: user 16min 53s, sys: 989 ms, total: 16min 54s\n",
            "Wall time: 16min 51s\n"
          ]
        },
        {
          "data": {
            "text/plain": [
              "0.7724058533734584"
            ]
          },
          "execution_count": 33,
          "metadata": {},
          "output_type": "execute_result"
        }
      ],
      "source": [
        "%%time\n",
        "clf = svr(trainframe, target,0.1,1000)\n",
        "y_pred = clf.predict(cvalframe)\n",
        "preds_lasso = np.expm1(y_pred.reshape(-1, 1))[:, 0]\n",
        "loss(cvaltar1,preds_lasso)"
      ],
      "id": "01c2c0b9"
    },
    {
      "cell_type": "markdown",
      "metadata": {
        "id": "8dd4ed39"
      },
      "source": [
        "#### Hyperparameter tuning using gridsearchcv(not bayesian as it will take too much time)"
      ],
      "id": "8dd4ed39"
    },
    {
      "cell_type": "code",
      "execution_count": null,
      "metadata": {
        "id": "a246b0e2"
      },
      "outputs": [],
      "source": [
        "param_grid = {\n",
        "    \"gamma\": [1e-06, 1e-05, 0.0001, 0.001, 0.01, 0.1, 1],\n",
        "    \"max_iter\": [1000,2000]}\n",
        "gr3 = GridSearchCV(SVR(kernel='rbf'),param_grid,cv=2,n_jobs=-1)"
      ],
      "id": "a246b0e2"
    },
    {
      "cell_type": "code",
      "execution_count": null,
      "metadata": {
        "id": "dd40b62f"
      },
      "outputs": [],
      "source": [
        "gridsvr = gr3.fit(trainframe,target)"
      ],
      "id": "dd40b62f"
    },
    {
      "cell_type": "code",
      "execution_count": null,
      "metadata": {
        "id": "79de0053",
        "outputId": "542ace0c-a6e6-4fe7-b1db-50d973573d62"
      },
      "outputs": [
        {
          "data": {
            "text/plain": [
              "0.18607246108036468"
            ]
          },
          "execution_count": 41,
          "metadata": {},
          "output_type": "execute_result"
        }
      ],
      "source": [
        "gridsvr.best_score_"
      ],
      "id": "79de0053"
    },
    {
      "cell_type": "code",
      "execution_count": null,
      "metadata": {
        "colab": {
          "base_uri": "https://localhost:8080/"
        },
        "id": "kjbqOyFp8t_5",
        "outputId": "58b7fa38-398a-4f2d-89fd-4789ec4b133e"
      },
      "outputs": [
        {
          "data": {
            "text/plain": [
              "SVR(gamma=0.1, max_iter=2000)"
            ]
          },
          "execution_count": 15,
          "metadata": {},
          "output_type": "execute_result"
        }
      ],
      "source": [
        "best_est=SVR(kernel='rbf',gamma=0.1,max_iter=2000)\n",
        "best_est.fit(trainframe, target)"
      ],
      "id": "kjbqOyFp8t_5"
    },
    {
      "cell_type": "markdown",
      "metadata": {
        "id": "sHQzgOvRNtRx"
      },
      "source": [
        "#### Fitting it with the best alpha value found using hyperparameter tuning"
      ],
      "id": "sHQzgOvRNtRx"
    },
    {
      "cell_type": "code",
      "execution_count": null,
      "metadata": {
        "colab": {
          "base_uri": "https://localhost:8080/"
        },
        "id": "39f2e4a1",
        "outputId": "e0fe7f12-4988-4170-80d7-c8fd1ca99f7f"
      },
      "outputs": [
        {
          "name": "stdout",
          "output_type": "stream",
          "text": [
            "{'gamma': 0.1, 'max_iter': 2000}\n",
            "RMSLE loss for train =  0.6856219523200736\n",
            "RMSLE loss for CV =  0.6872395181421347\n"
          ]
        }
      ],
      "source": [
        "#print(gridsvr.best_params_)\n",
        "print(\"{'gamma': 0.1, 'max_iter': 2000}\")\n",
        "#best_est = gridsvr.best_estimator_\n",
        "y_pred_train = best_est.predict(trainframe)\n",
        "y_pred_cv = best_est.predict(cvalframe)\n",
        "print(\"RMSLE loss for train = \", loss(targ1,np.expm1(y_pred_train)))\n",
        "print(\"RMSLE loss for CV = \", loss(cvaltar1,np.expm1(y_pred_cv)))"
      ],
      "id": "39f2e4a1"
    },
    {
      "cell_type": "markdown",
      "metadata": {
        "id": "4ad1aa92"
      },
      "source": [
        "### 5 - XGBoost Model"
      ],
      "id": "4ad1aa92"
    },
    {
      "cell_type": "code",
      "execution_count": null,
      "metadata": {
        "id": "02e48596"
      },
      "outputs": [],
      "source": [
        "def xgb(X_train,y_train,trees,lr):\n",
        "    \"\"\"\n",
        "    Description -> Inputs the train dataframe, the target to predict, the number of trees deciding the spread \n",
        "                   and the learning rate to create a XGBoost model which is built based on the concept of boosting \n",
        "                   and returns this model. It uses multithreading to decrease the wall time.\n",
        "    \"\"\"\n",
        "    model = XGBRegressor(n_estimators=trees,random_state=23,n_jobs=-1,learning_rate=lr)\n",
        "    model.fit(X_train,y_train)\n",
        "    return model"
      ],
      "id": "02e48596"
    },
    {
      "cell_type": "markdown",
      "metadata": {
        "id": "u-2ub5OuMozl"
      },
      "source": [
        "#### Hyperparameter tuning using gridsearchcv"
      ],
      "id": "u-2ub5OuMozl"
    },
    {
      "cell_type": "code",
      "execution_count": null,
      "metadata": {
        "id": "c4f9022f"
      },
      "outputs": [],
      "source": [
        "params = {'n_estimators' : [1125, 1625],\n",
        "          'max_depth' : [4, 7],\n",
        "          'subsample' : [0.5, 0.9],\n",
        "          'colsample_bytree' : [0.5, 0.7],\n",
        "          'learning_rate': [0.0005, 0.005, 0.05, 0.5]}\n",
        "clf = GridSearchCV(XGBRegressor(n_jobs=-1),params,cv=2,n_jobs=-1)"
      ],
      "id": "c4f9022f"
    },
    {
      "cell_type": "code",
      "execution_count": null,
      "metadata": {
        "colab": {
          "base_uri": "https://localhost:8080/"
        },
        "id": "Cd5dVLqUEsS6",
        "outputId": "0b29ef14-83cd-425b-a5c1-7985ccb55d62"
      },
      "outputs": [
        {
          "name": "stdout",
          "output_type": "stream",
          "text": [
            "[22:14:22] WARNING: /workspace/src/objective/regression_obj.cu:152: reg:linear is now deprecated in favor of reg:squarederror.\n",
            "GridSearchCV(cv=2, estimator=XGBRegressor(n_jobs=-1), n_jobs=-1,\n",
            "             param_grid={'colsample_bytree': [0.5, 0.9],\n",
            "                         'learning_rate': [0.0005, 0.005, 0.05, 0.5], 'max_depth': [4, 7],\n",
            "                         'n_estimators': [1125, 1625], 'subsample': [0.9]})\n",
            "\n"
          ]
        }
      ],
      "source": [
        "clf.fit(trainframe, target)"
      ],
      "id": "Cd5dVLqUEsS6"
    },
    {
      "cell_type": "code",
      "execution_count": null,
      "metadata": {
        "colab": {
          "base_uri": "https://localhost:8080/"
        },
        "id": "aJRDJvYSrGVS",
        "outputId": "9f52f38b-f60d-4936-b1a7-266a61848f59"
      },
      "outputs": [
        {
          "name": "stdout",
          "output_type": "stream",
          "text": [
            "0.5668727863882469\n"
          ]
        }
      ],
      "source": [
        "clf.best_score_"
      ],
      "id": "aJRDJvYSrGVS"
    },
    {
      "cell_type": "markdown",
      "metadata": {
        "id": "dHdsaAy_N8EC"
      },
      "source": [
        "#### Fitting it with the best alpha value found using hyperparameter tuning"
      ],
      "id": "dHdsaAy_N8EC"
    },
    {
      "cell_type": "code",
      "execution_count": null,
      "metadata": {
        "colab": {
          "base_uri": "https://localhost:8080/"
        },
        "id": "Ks5cIgd77I3Z",
        "outputId": "548cc267-4157-4a3d-b10d-923c7e7294e6"
      },
      "outputs": [
        {
          "name": "stdout",
          "output_type": "stream",
          "text": [
            "[09:46:31] WARNING: /workspace/src/objective/regression_obj.cu:152: reg:linear is now deprecated in favor of reg:squarederror.\n"
          ]
        },
        {
          "data": {
            "text/plain": [
              "XGBRegressor(colsample_bytree=0.7, learning_rate=0.5, max_depth=7,\n",
              "             n_estimators=1625, n_jobs=-1, random_state=23, subsample=0.9)"
            ]
          },
          "execution_count": 14,
          "metadata": {},
          "output_type": "execute_result"
        }
      ],
      "source": [
        "best_est=XGBRegressor(random_state=23,n_jobs=-1,colsample_bytree=0.7,learning_rate=0.5,max_depth=7,subsample=0.9,n_estimators=1625)\n",
        "best_est.fit(trainframe, target)"
      ],
      "id": "Ks5cIgd77I3Z"
    },
    {
      "cell_type": "code",
      "execution_count": null,
      "metadata": {
        "colab": {
          "base_uri": "https://localhost:8080/"
        },
        "id": "8cc89cce",
        "outputId": "3ffb4447-da8c-40ff-c39c-1c3739bd1ee7"
      },
      "outputs": [
        {
          "name": "stdout",
          "output_type": "stream",
          "text": [
            "{'colsample_bytree': 0.7, 'learning_rate': 0.5, 'max_depth': 7, 'n_estimators': 1625, 'subsample': 0.9}\n",
            "RMSLE loss for train =  0.36187806108410586\n",
            "RMSLE loss for CV =  0.4500376204091811\n"
          ]
        }
      ],
      "source": [
        "#print(clf.best_params_)\n",
        "print(\"{'colsample_bytree': 0.7, 'learning_rate': 0.5, 'max_depth': 7, 'n_estimators': 1625, 'subsample': 0.9}\")\n",
        "#best_est = clf.best_estimator_\n",
        "y_pred_train = best_est.predict(trainframe)\n",
        "y_pred_cv = best_est.predict(cvalframe)\n",
        "print(\"RMSLE loss for train = \", loss(targ1,np.expm1(y_pred_train)))\n",
        "print(\"RMSLE loss for CV = \", loss(cvaltar1,np.expm1(y_pred_cv)))"
      ],
      "id": "8cc89cce"
    },
    {
      "cell_type": "markdown",
      "metadata": {
        "id": "8746d438"
      },
      "source": [
        "\n",
        "### 6 - LightGBM Model"
      ],
      "id": "8746d438"
    },
    {
      "cell_type": "code",
      "execution_count": null,
      "metadata": {
        "id": "dd625d2f"
      },
      "outputs": [],
      "source": [
        "def lgbm(X_train,y_train,trees,lr,X_cval,y_cval,losslgb):\n",
        "    \"\"\"\n",
        "    Description -> Inputs the train dataframe, the target to predict, the number of trees deciding the spread \n",
        "                   and the learning rate to create a XGBoost model which is built based on the concept of boosting \n",
        "                   and returns this model. It uses multithreading to decrease the wall time.\n",
        "    \"\"\"\n",
        "    model = LGBMRegressor(n_estimators=trees,random_state=23,n_jobs=-1,learning_rate=lr)\n",
        "    model.fit(X_train,y_train,eval_set=[(X_cval,y_cval)],early_stopping_rounds=250,verbose=True,eval_metric=losslgb)\n",
        "    return model"
      ],
      "id": "dd625d2f"
    },
    {
      "cell_type": "code",
      "execution_count": null,
      "metadata": {
        "colab": {
          "base_uri": "https://localhost:8080/"
        },
        "id": "18006c37",
        "outputId": "1147751e-290d-4285-a8a4-7f8fc3d30661"
      },
      "outputs": [
        {
          "name": "stdout",
          "output_type": "stream",
          "text": [
            "[1]\tvalid_0's l2: 0.543521\tvalid_0's RMSLE: 0.182846\n",
            "Training until validation scores don't improve for 250 rounds.\n",
            "[2]\tvalid_0's l2: 0.532042\tvalid_0's RMSLE: 0.180874\n",
            "[3]\tvalid_0's l2: 0.521494\tvalid_0's RMSLE: 0.17904\n",
            "[4]\tvalid_0's l2: 0.511976\tvalid_0's RMSLE: 0.177375\n",
            "[5]\tvalid_0's l2: 0.503372\tvalid_0's RMSLE: 0.175853\n",
            "[6]\tvalid_0's l2: 0.495473\tvalid_0's RMSLE: 0.174446\n",
            "[7]\tvalid_0's l2: 0.488056\tvalid_0's RMSLE: 0.173114\n",
            "[8]\tvalid_0's l2: 0.481248\tvalid_0's RMSLE: 0.171868\n",
            "[9]\tvalid_0's l2: 0.475158\tvalid_0's RMSLE: 0.170754\n",
            "[10]\tvalid_0's l2: 0.469279\tvalid_0's RMSLE: 0.169681\n",
            "[11]\tvalid_0's l2: 0.463904\tvalid_0's RMSLE: 0.168695\n",
            "[12]\tvalid_0's l2: 0.458674\tvalid_0's RMSLE: 0.167725\n",
            "[13]\tvalid_0's l2: 0.453921\tvalid_0's RMSLE: 0.166816\n",
            "[14]\tvalid_0's l2: 0.449284\tvalid_0's RMSLE: 0.165929\n",
            "[15]\tvalid_0's l2: 0.44493\tvalid_0's RMSLE: 0.165115\n",
            "[16]\tvalid_0's l2: 0.441088\tvalid_0's RMSLE: 0.164379\n",
            "[17]\tvalid_0's l2: 0.437238\tvalid_0's RMSLE: 0.163645\n",
            "[18]\tvalid_0's l2: 0.43352\tvalid_0's RMSLE: 0.162948\n",
            "[19]\tvalid_0's l2: 0.430357\tvalid_0's RMSLE: 0.162321\n",
            "[20]\tvalid_0's l2: 0.427141\tvalid_0's RMSLE: 0.161715\n",
            "[21]\tvalid_0's l2: 0.423996\tvalid_0's RMSLE: 0.161106\n",
            "[22]\tvalid_0's l2: 0.421104\tvalid_0's RMSLE: 0.160546\n",
            "[23]\tvalid_0's l2: 0.418307\tvalid_0's RMSLE: 0.159993\n",
            "[24]\tvalid_0's l2: 0.415765\tvalid_0's RMSLE: 0.15949\n",
            "[25]\tvalid_0's l2: 0.412932\tvalid_0's RMSLE: 0.158983\n",
            "[26]\tvalid_0's l2: 0.409749\tvalid_0's RMSLE: 0.158423\n",
            "[27]\tvalid_0's l2: 0.407354\tvalid_0's RMSLE: 0.157963\n",
            "[28]\tvalid_0's l2: 0.404916\tvalid_0's RMSLE: 0.15749\n",
            "[29]\tvalid_0's l2: 0.402962\tvalid_0's RMSLE: 0.157098\n",
            "[30]\tvalid_0's l2: 0.399424\tvalid_0's RMSLE: 0.156469\n",
            "[31]\tvalid_0's l2: 0.397302\tvalid_0's RMSLE: 0.156064\n",
            "[32]\tvalid_0's l2: 0.395383\tvalid_0's RMSLE: 0.155675\n",
            "[33]\tvalid_0's l2: 0.392941\tvalid_0's RMSLE: 0.155206\n",
            "[34]\tvalid_0's l2: 0.38973\tvalid_0's RMSLE: 0.154613\n",
            "[35]\tvalid_0's l2: 0.386959\tvalid_0's RMSLE: 0.154106\n",
            "[36]\tvalid_0's l2: 0.38445\tvalid_0's RMSLE: 0.153638\n",
            "[37]\tvalid_0's l2: 0.382921\tvalid_0's RMSLE: 0.153334\n",
            "[38]\tvalid_0's l2: 0.380954\tvalid_0's RMSLE: 0.152958\n",
            "[39]\tvalid_0's l2: 0.378452\tvalid_0's RMSLE: 0.152505\n",
            "[40]\tvalid_0's l2: 0.376434\tvalid_0's RMSLE: 0.152122\n",
            "[41]\tvalid_0's l2: 0.374579\tvalid_0's RMSLE: 0.151778\n",
            "[42]\tvalid_0's l2: 0.372745\tvalid_0's RMSLE: 0.151425\n",
            "[43]\tvalid_0's l2: 0.371259\tvalid_0's RMSLE: 0.151113\n",
            "[44]\tvalid_0's l2: 0.369871\tvalid_0's RMSLE: 0.150845\n",
            "[45]\tvalid_0's l2: 0.36788\tvalid_0's RMSLE: 0.150467\n",
            "[46]\tvalid_0's l2: 0.366544\tvalid_0's RMSLE: 0.150183\n",
            "[47]\tvalid_0's l2: 0.364822\tvalid_0's RMSLE: 0.149856\n",
            "[48]\tvalid_0's l2: 0.363106\tvalid_0's RMSLE: 0.149523\n",
            "[49]\tvalid_0's l2: 0.36136\tvalid_0's RMSLE: 0.149178\n",
            "[50]\tvalid_0's l2: 0.359758\tvalid_0's RMSLE: 0.148857\n",
            "[51]\tvalid_0's l2: 0.358075\tvalid_0's RMSLE: 0.148552\n",
            "[52]\tvalid_0's l2: 0.356609\tvalid_0's RMSLE: 0.148279\n",
            "[53]\tvalid_0's l2: 0.354974\tvalid_0's RMSLE: 0.147972\n",
            "[54]\tvalid_0's l2: 0.35343\tvalid_0's RMSLE: 0.147679\n",
            "[55]\tvalid_0's l2: 0.352124\tvalid_0's RMSLE: 0.147407\n",
            "[56]\tvalid_0's l2: 0.350997\tvalid_0's RMSLE: 0.147174\n",
            "[57]\tvalid_0's l2: 0.349694\tvalid_0's RMSLE: 0.146896\n",
            "[58]\tvalid_0's l2: 0.348329\tvalid_0's RMSLE: 0.146613\n",
            "[59]\tvalid_0's l2: 0.34709\tvalid_0's RMSLE: 0.146387\n",
            "[60]\tvalid_0's l2: 0.346052\tvalid_0's RMSLE: 0.146173\n",
            "[61]\tvalid_0's l2: 0.344915\tvalid_0's RMSLE: 0.145945\n",
            "[62]\tvalid_0's l2: 0.343594\tvalid_0's RMSLE: 0.145687\n",
            "[63]\tvalid_0's l2: 0.342638\tvalid_0's RMSLE: 0.145482\n",
            "[64]\tvalid_0's l2: 0.341689\tvalid_0's RMSLE: 0.145281\n",
            "[65]\tvalid_0's l2: 0.340529\tvalid_0's RMSLE: 0.145052\n",
            "[66]\tvalid_0's l2: 0.339392\tvalid_0's RMSLE: 0.144828\n",
            "[67]\tvalid_0's l2: 0.338361\tvalid_0's RMSLE: 0.144631\n",
            "[68]\tvalid_0's l2: 0.337308\tvalid_0's RMSLE: 0.14441\n",
            "[69]\tvalid_0's l2: 0.336414\tvalid_0's RMSLE: 0.144231\n",
            "[70]\tvalid_0's l2: 0.335403\tvalid_0's RMSLE: 0.144005\n",
            "[71]\tvalid_0's l2: 0.334395\tvalid_0's RMSLE: 0.143804\n",
            "[72]\tvalid_0's l2: 0.333415\tvalid_0's RMSLE: 0.143624\n",
            "[73]\tvalid_0's l2: 0.332413\tvalid_0's RMSLE: 0.143423\n",
            "[74]\tvalid_0's l2: 0.331563\tvalid_0's RMSLE: 0.143245\n",
            "[75]\tvalid_0's l2: 0.330571\tvalid_0's RMSLE: 0.143033\n",
            "[76]\tvalid_0's l2: 0.329799\tvalid_0's RMSLE: 0.142864\n",
            "[77]\tvalid_0's l2: 0.329077\tvalid_0's RMSLE: 0.142708\n",
            "[78]\tvalid_0's l2: 0.32823\tvalid_0's RMSLE: 0.142528\n",
            "[79]\tvalid_0's l2: 0.327432\tvalid_0's RMSLE: 0.142375\n",
            "[80]\tvalid_0's l2: 0.326623\tvalid_0's RMSLE: 0.142218\n",
            "[81]\tvalid_0's l2: 0.325806\tvalid_0's RMSLE: 0.142049\n",
            "[82]\tvalid_0's l2: 0.325062\tvalid_0's RMSLE: 0.141903\n",
            "[83]\tvalid_0's l2: 0.324245\tvalid_0's RMSLE: 0.141739\n",
            "[84]\tvalid_0's l2: 0.32349\tvalid_0's RMSLE: 0.141575\n",
            "[85]\tvalid_0's l2: 0.322846\tvalid_0's RMSLE: 0.141428\n",
            "[86]\tvalid_0's l2: 0.322062\tvalid_0's RMSLE: 0.141258\n",
            "[87]\tvalid_0's l2: 0.321301\tvalid_0's RMSLE: 0.141106\n",
            "[88]\tvalid_0's l2: 0.32063\tvalid_0's RMSLE: 0.140956\n",
            "[89]\tvalid_0's l2: 0.319938\tvalid_0's RMSLE: 0.140805\n",
            "[90]\tvalid_0's l2: 0.319263\tvalid_0's RMSLE: 0.140678\n",
            "[91]\tvalid_0's l2: 0.318491\tvalid_0's RMSLE: 0.140504\n",
            "[92]\tvalid_0's l2: 0.317782\tvalid_0's RMSLE: 0.140363\n",
            "[93]\tvalid_0's l2: 0.317116\tvalid_0's RMSLE: 0.140213\n",
            "[94]\tvalid_0's l2: 0.316469\tvalid_0's RMSLE: 0.140081\n",
            "[95]\tvalid_0's l2: 0.315866\tvalid_0's RMSLE: 0.139951\n",
            "[96]\tvalid_0's l2: 0.315283\tvalid_0's RMSLE: 0.139827\n",
            "[97]\tvalid_0's l2: 0.314522\tvalid_0's RMSLE: 0.139657\n",
            "[98]\tvalid_0's l2: 0.313907\tvalid_0's RMSLE: 0.139531\n",
            "[99]\tvalid_0's l2: 0.313165\tvalid_0's RMSLE: 0.139361\n",
            "[100]\tvalid_0's l2: 0.312564\tvalid_0's RMSLE: 0.139235\n",
            "[101]\tvalid_0's l2: 0.311908\tvalid_0's RMSLE: 0.139105\n",
            "[102]\tvalid_0's l2: 0.311289\tvalid_0's RMSLE: 0.138971\n",
            "[103]\tvalid_0's l2: 0.310693\tvalid_0's RMSLE: 0.138843\n",
            "[104]\tvalid_0's l2: 0.310069\tvalid_0's RMSLE: 0.13871\n",
            "[105]\tvalid_0's l2: 0.309507\tvalid_0's RMSLE: 0.138595\n",
            "[106]\tvalid_0's l2: 0.308988\tvalid_0's RMSLE: 0.138478\n",
            "[107]\tvalid_0's l2: 0.308424\tvalid_0's RMSLE: 0.138353\n",
            "[108]\tvalid_0's l2: 0.307939\tvalid_0's RMSLE: 0.138246\n",
            "[109]\tvalid_0's l2: 0.307349\tvalid_0's RMSLE: 0.138115\n",
            "[110]\tvalid_0's l2: 0.306788\tvalid_0's RMSLE: 0.137999\n",
            "[111]\tvalid_0's l2: 0.306282\tvalid_0's RMSLE: 0.137904\n",
            "[112]\tvalid_0's l2: 0.305842\tvalid_0's RMSLE: 0.137815\n",
            "[113]\tvalid_0's l2: 0.305275\tvalid_0's RMSLE: 0.137697\n",
            "[114]\tvalid_0's l2: 0.304717\tvalid_0's RMSLE: 0.137576\n",
            "[115]\tvalid_0's l2: 0.304272\tvalid_0's RMSLE: 0.13748\n",
            "[116]\tvalid_0's l2: 0.303809\tvalid_0's RMSLE: 0.137384\n",
            "[117]\tvalid_0's l2: 0.303311\tvalid_0's RMSLE: 0.137268\n",
            "[118]\tvalid_0's l2: 0.302839\tvalid_0's RMSLE: 0.137172\n",
            "[119]\tvalid_0's l2: 0.302401\tvalid_0's RMSLE: 0.137083\n",
            "[120]\tvalid_0's l2: 0.301843\tvalid_0's RMSLE: 0.136961\n",
            "[121]\tvalid_0's l2: 0.301367\tvalid_0's RMSLE: 0.136858\n",
            "[122]\tvalid_0's l2: 0.300921\tvalid_0's RMSLE: 0.136763\n",
            "[123]\tvalid_0's l2: 0.300508\tvalid_0's RMSLE: 0.136676\n",
            "[124]\tvalid_0's l2: 0.300086\tvalid_0's RMSLE: 0.136587\n",
            "[125]\tvalid_0's l2: 0.299628\tvalid_0's RMSLE: 0.136485\n",
            "[126]\tvalid_0's l2: 0.299211\tvalid_0's RMSLE: 0.136397\n",
            "[127]\tvalid_0's l2: 0.298788\tvalid_0's RMSLE: 0.136304\n",
            "[128]\tvalid_0's l2: 0.29832\tvalid_0's RMSLE: 0.136196\n",
            "[129]\tvalid_0's l2: 0.297907\tvalid_0's RMSLE: 0.136099\n",
            "[130]\tvalid_0's l2: 0.297504\tvalid_0's RMSLE: 0.136015\n",
            "[131]\tvalid_0's l2: 0.297097\tvalid_0's RMSLE: 0.13592\n",
            "[132]\tvalid_0's l2: 0.296706\tvalid_0's RMSLE: 0.135836\n",
            "[133]\tvalid_0's l2: 0.296279\tvalid_0's RMSLE: 0.135742\n",
            "[134]\tvalid_0's l2: 0.295916\tvalid_0's RMSLE: 0.135664\n",
            "[135]\tvalid_0's l2: 0.295491\tvalid_0's RMSLE: 0.135574\n",
            "[136]\tvalid_0's l2: 0.295136\tvalid_0's RMSLE: 0.135498\n",
            "[137]\tvalid_0's l2: 0.294728\tvalid_0's RMSLE: 0.135409\n",
            "[138]\tvalid_0's l2: 0.294368\tvalid_0's RMSLE: 0.135334\n",
            "[139]\tvalid_0's l2: 0.294\tvalid_0's RMSLE: 0.135256\n",
            "[140]\tvalid_0's l2: 0.293571\tvalid_0's RMSLE: 0.135156\n",
            "[141]\tvalid_0's l2: 0.293183\tvalid_0's RMSLE: 0.135066\n",
            "[142]\tvalid_0's l2: 0.292836\tvalid_0's RMSLE: 0.134988\n",
            "[143]\tvalid_0's l2: 0.292485\tvalid_0's RMSLE: 0.134915\n",
            "[144]\tvalid_0's l2: 0.292148\tvalid_0's RMSLE: 0.134843\n",
            "[145]\tvalid_0's l2: 0.291796\tvalid_0's RMSLE: 0.134762\n",
            "[146]\tvalid_0's l2: 0.291431\tvalid_0's RMSLE: 0.134675\n",
            "[147]\tvalid_0's l2: 0.2911\tvalid_0's RMSLE: 0.134607\n",
            "[148]\tvalid_0's l2: 0.290755\tvalid_0's RMSLE: 0.134528\n",
            "[149]\tvalid_0's l2: 0.290432\tvalid_0's RMSLE: 0.134454\n",
            "[150]\tvalid_0's l2: 0.290101\tvalid_0's RMSLE: 0.134391\n",
            "[151]\tvalid_0's l2: 0.289752\tvalid_0's RMSLE: 0.134313\n",
            "[152]\tvalid_0's l2: 0.289433\tvalid_0's RMSLE: 0.134234\n",
            "[153]\tvalid_0's l2: 0.289109\tvalid_0's RMSLE: 0.134165\n",
            "[154]\tvalid_0's l2: 0.288771\tvalid_0's RMSLE: 0.134089\n",
            "[155]\tvalid_0's l2: 0.28847\tvalid_0's RMSLE: 0.134028\n",
            "[156]\tvalid_0's l2: 0.288176\tvalid_0's RMSLE: 0.133959\n",
            "[157]\tvalid_0's l2: 0.28786\tvalid_0's RMSLE: 0.133888\n",
            "[158]\tvalid_0's l2: 0.287571\tvalid_0's RMSLE: 0.13383\n",
            "[159]\tvalid_0's l2: 0.28727\tvalid_0's RMSLE: 0.133771\n",
            "[160]\tvalid_0's l2: 0.286967\tvalid_0's RMSLE: 0.133706\n",
            "[161]\tvalid_0's l2: 0.286658\tvalid_0's RMSLE: 0.13364\n",
            "[162]\tvalid_0's l2: 0.286378\tvalid_0's RMSLE: 0.133578\n",
            "[163]\tvalid_0's l2: 0.286086\tvalid_0's RMSLE: 0.13351\n",
            "[164]\tvalid_0's l2: 0.285812\tvalid_0's RMSLE: 0.133447\n",
            "[165]\tvalid_0's l2: 0.285549\tvalid_0's RMSLE: 0.133392\n",
            "[166]\tvalid_0's l2: 0.285241\tvalid_0's RMSLE: 0.133323\n",
            "[167]\tvalid_0's l2: 0.284964\tvalid_0's RMSLE: 0.133262\n",
            "[168]\tvalid_0's l2: 0.284681\tvalid_0's RMSLE: 0.133199\n",
            "[169]\tvalid_0's l2: 0.284384\tvalid_0's RMSLE: 0.133132\n",
            "[170]\tvalid_0's l2: 0.284084\tvalid_0's RMSLE: 0.133069\n",
            "[171]\tvalid_0's l2: 0.283811\tvalid_0's RMSLE: 0.133007\n",
            "[172]\tvalid_0's l2: 0.283539\tvalid_0's RMSLE: 0.13295\n",
            "[173]\tvalid_0's l2: 0.283272\tvalid_0's RMSLE: 0.13289\n",
            "[174]\tvalid_0's l2: 0.282986\tvalid_0's RMSLE: 0.132831\n",
            "[175]\tvalid_0's l2: 0.282712\tvalid_0's RMSLE: 0.132769\n",
            "[176]\tvalid_0's l2: 0.282464\tvalid_0's RMSLE: 0.132717\n",
            "[177]\tvalid_0's l2: 0.282176\tvalid_0's RMSLE: 0.132654\n",
            "[178]\tvalid_0's l2: 0.281878\tvalid_0's RMSLE: 0.132584\n",
            "[179]\tvalid_0's l2: 0.281633\tvalid_0's RMSLE: 0.132532\n",
            "[180]\tvalid_0's l2: 0.281387\tvalid_0's RMSLE: 0.132478\n",
            "[181]\tvalid_0's l2: 0.281121\tvalid_0's RMSLE: 0.132422\n",
            "[182]\tvalid_0's l2: 0.280859\tvalid_0's RMSLE: 0.132366\n",
            "[183]\tvalid_0's l2: 0.280618\tvalid_0's RMSLE: 0.132308\n",
            "[184]\tvalid_0's l2: 0.280368\tvalid_0's RMSLE: 0.13225\n",
            "[185]\tvalid_0's l2: 0.280044\tvalid_0's RMSLE: 0.132177\n",
            "[186]\tvalid_0's l2: 0.279787\tvalid_0's RMSLE: 0.132114\n",
            "[187]\tvalid_0's l2: 0.279515\tvalid_0's RMSLE: 0.132048\n",
            "[188]\tvalid_0's l2: 0.27926\tvalid_0's RMSLE: 0.131992\n",
            "[189]\tvalid_0's l2: 0.279033\tvalid_0's RMSLE: 0.131941\n",
            "[190]\tvalid_0's l2: 0.278806\tvalid_0's RMSLE: 0.131893\n",
            "[191]\tvalid_0's l2: 0.27858\tvalid_0's RMSLE: 0.131843\n",
            "[192]\tvalid_0's l2: 0.278348\tvalid_0's RMSLE: 0.131791\n",
            "[193]\tvalid_0's l2: 0.278133\tvalid_0's RMSLE: 0.131746\n",
            "[194]\tvalid_0's l2: 0.277892\tvalid_0's RMSLE: 0.131694\n",
            "[195]\tvalid_0's l2: 0.277665\tvalid_0's RMSLE: 0.131644\n",
            "[196]\tvalid_0's l2: 0.277403\tvalid_0's RMSLE: 0.131581\n",
            "[197]\tvalid_0's l2: 0.27717\tvalid_0's RMSLE: 0.13153\n",
            "[198]\tvalid_0's l2: 0.276939\tvalid_0's RMSLE: 0.131478\n",
            "[199]\tvalid_0's l2: 0.276727\tvalid_0's RMSLE: 0.131431\n",
            "[200]\tvalid_0's l2: 0.276461\tvalid_0's RMSLE: 0.131367\n",
            "[201]\tvalid_0's l2: 0.276239\tvalid_0's RMSLE: 0.131317\n",
            "[202]\tvalid_0's l2: 0.27603\tvalid_0's RMSLE: 0.131273\n",
            "[203]\tvalid_0's l2: 0.275826\tvalid_0's RMSLE: 0.131227\n",
            "[204]\tvalid_0's l2: 0.275625\tvalid_0's RMSLE: 0.13118\n",
            "[205]\tvalid_0's l2: 0.275405\tvalid_0's RMSLE: 0.131131\n",
            "[206]\tvalid_0's l2: 0.275173\tvalid_0's RMSLE: 0.131078\n",
            "[207]\tvalid_0's l2: 0.274977\tvalid_0's RMSLE: 0.131035\n",
            "[208]\tvalid_0's l2: 0.274765\tvalid_0's RMSLE: 0.130989\n",
            "[209]\tvalid_0's l2: 0.274563\tvalid_0's RMSLE: 0.130944\n",
            "[210]\tvalid_0's l2: 0.27436\tvalid_0's RMSLE: 0.130897\n",
            "[211]\tvalid_0's l2: 0.274168\tvalid_0's RMSLE: 0.130851\n",
            "[212]\tvalid_0's l2: 0.273967\tvalid_0's RMSLE: 0.130805\n",
            "[213]\tvalid_0's l2: 0.27378\tvalid_0's RMSLE: 0.130761\n",
            "[214]\tvalid_0's l2: 0.273588\tvalid_0's RMSLE: 0.130718\n",
            "[215]\tvalid_0's l2: 0.273386\tvalid_0's RMSLE: 0.130668\n",
            "[216]\tvalid_0's l2: 0.27318\tvalid_0's RMSLE: 0.130621\n",
            "[217]\tvalid_0's l2: 0.272981\tvalid_0's RMSLE: 0.130575\n",
            "[218]\tvalid_0's l2: 0.272794\tvalid_0's RMSLE: 0.13053\n",
            "[219]\tvalid_0's l2: 0.272602\tvalid_0's RMSLE: 0.130489\n",
            "[220]\tvalid_0's l2: 0.272389\tvalid_0's RMSLE: 0.130441\n",
            "[221]\tvalid_0's l2: 0.272177\tvalid_0's RMSLE: 0.130392\n",
            "[222]\tvalid_0's l2: 0.271998\tvalid_0's RMSLE: 0.130354\n",
            "[223]\tvalid_0's l2: 0.271818\tvalid_0's RMSLE: 0.130315\n",
            "[224]\tvalid_0's l2: 0.27161\tvalid_0's RMSLE: 0.130268\n",
            "[225]\tvalid_0's l2: 0.271442\tvalid_0's RMSLE: 0.130229\n",
            "[226]\tvalid_0's l2: 0.271256\tvalid_0's RMSLE: 0.130187\n",
            "[227]\tvalid_0's l2: 0.27109\tvalid_0's RMSLE: 0.130148\n",
            "[228]\tvalid_0's l2: 0.270918\tvalid_0's RMSLE: 0.130107\n",
            "[229]\tvalid_0's l2: 0.270741\tvalid_0's RMSLE: 0.130069\n",
            "[230]\tvalid_0's l2: 0.270571\tvalid_0's RMSLE: 0.13003\n",
            "[231]\tvalid_0's l2: 0.270397\tvalid_0's RMSLE: 0.129989\n",
            "[232]\tvalid_0's l2: 0.270221\tvalid_0's RMSLE: 0.129951\n",
            "[233]\tvalid_0's l2: 0.270055\tvalid_0's RMSLE: 0.129911\n",
            "[234]\tvalid_0's l2: 0.26988\tvalid_0's RMSLE: 0.129868\n",
            "[235]\tvalid_0's l2: 0.2697\tvalid_0's RMSLE: 0.129829\n",
            "[236]\tvalid_0's l2: 0.269536\tvalid_0's RMSLE: 0.129791\n",
            "[237]\tvalid_0's l2: 0.269355\tvalid_0's RMSLE: 0.12975\n",
            "[238]\tvalid_0's l2: 0.269161\tvalid_0's RMSLE: 0.12971\n",
            "[239]\tvalid_0's l2: 0.268993\tvalid_0's RMSLE: 0.129672\n",
            "[240]\tvalid_0's l2: 0.268838\tvalid_0's RMSLE: 0.129635\n",
            "[241]\tvalid_0's l2: 0.268661\tvalid_0's RMSLE: 0.129593\n",
            "[242]\tvalid_0's l2: 0.268499\tvalid_0's RMSLE: 0.129557\n",
            "[243]\tvalid_0's l2: 0.268332\tvalid_0's RMSLE: 0.129516\n",
            "[244]\tvalid_0's l2: 0.268165\tvalid_0's RMSLE: 0.129476\n",
            "[245]\tvalid_0's l2: 0.267994\tvalid_0's RMSLE: 0.129439\n",
            "[246]\tvalid_0's l2: 0.267836\tvalid_0's RMSLE: 0.129405\n",
            "[247]\tvalid_0's l2: 0.267685\tvalid_0's RMSLE: 0.129371\n",
            "[248]\tvalid_0's l2: 0.26754\tvalid_0's RMSLE: 0.129335\n",
            "[249]\tvalid_0's l2: 0.267378\tvalid_0's RMSLE: 0.129295\n",
            "[250]\tvalid_0's l2: 0.267226\tvalid_0's RMSLE: 0.129261\n",
            "[251]\tvalid_0's l2: 0.267083\tvalid_0's RMSLE: 0.129228\n",
            "[252]\tvalid_0's l2: 0.266931\tvalid_0's RMSLE: 0.129196\n",
            "[253]\tvalid_0's l2: 0.266758\tvalid_0's RMSLE: 0.129153\n",
            "[254]\tvalid_0's l2: 0.266613\tvalid_0's RMSLE: 0.12912\n",
            "[255]\tvalid_0's l2: 0.266463\tvalid_0's RMSLE: 0.129084\n",
            "[256]\tvalid_0's l2: 0.266308\tvalid_0's RMSLE: 0.129049\n",
            "[257]\tvalid_0's l2: 0.266129\tvalid_0's RMSLE: 0.129008\n",
            "[258]\tvalid_0's l2: 0.265978\tvalid_0's RMSLE: 0.128972\n",
            "[259]\tvalid_0's l2: 0.265831\tvalid_0's RMSLE: 0.128939\n",
            "[260]\tvalid_0's l2: 0.265667\tvalid_0's RMSLE: 0.128902\n",
            "[261]\tvalid_0's l2: 0.265527\tvalid_0's RMSLE: 0.128869\n",
            "[262]\tvalid_0's l2: 0.265386\tvalid_0's RMSLE: 0.128838\n",
            "[263]\tvalid_0's l2: 0.265241\tvalid_0's RMSLE: 0.128803\n",
            "[264]\tvalid_0's l2: 0.265099\tvalid_0's RMSLE: 0.128772\n",
            "[265]\tvalid_0's l2: 0.264955\tvalid_0's RMSLE: 0.12874\n",
            "[266]\tvalid_0's l2: 0.264816\tvalid_0's RMSLE: 0.128708\n",
            "[267]\tvalid_0's l2: 0.264673\tvalid_0's RMSLE: 0.128677\n",
            "[268]\tvalid_0's l2: 0.264534\tvalid_0's RMSLE: 0.128642\n",
            "[269]\tvalid_0's l2: 0.26439\tvalid_0's RMSLE: 0.128607\n",
            "[270]\tvalid_0's l2: 0.264227\tvalid_0's RMSLE: 0.12857\n",
            "[271]\tvalid_0's l2: 0.264098\tvalid_0's RMSLE: 0.128539\n",
            "[272]\tvalid_0's l2: 0.26396\tvalid_0's RMSLE: 0.128508\n",
            "[273]\tvalid_0's l2: 0.263817\tvalid_0's RMSLE: 0.128478\n",
            "[274]\tvalid_0's l2: 0.263679\tvalid_0's RMSLE: 0.128445\n",
            "[275]\tvalid_0's l2: 0.263538\tvalid_0's RMSLE: 0.128415\n",
            "[276]\tvalid_0's l2: 0.263406\tvalid_0's RMSLE: 0.128383\n",
            "[277]\tvalid_0's l2: 0.263272\tvalid_0's RMSLE: 0.128351\n",
            "[278]\tvalid_0's l2: 0.263128\tvalid_0's RMSLE: 0.128318\n",
            "[279]\tvalid_0's l2: 0.262975\tvalid_0's RMSLE: 0.128283\n",
            "[280]\tvalid_0's l2: 0.262828\tvalid_0's RMSLE: 0.128248\n",
            "[281]\tvalid_0's l2: 0.262691\tvalid_0's RMSLE: 0.128217\n",
            "[282]\tvalid_0's l2: 0.262558\tvalid_0's RMSLE: 0.128185\n",
            "[283]\tvalid_0's l2: 0.262423\tvalid_0's RMSLE: 0.128154\n",
            "[284]\tvalid_0's l2: 0.262287\tvalid_0's RMSLE: 0.128125\n",
            "[285]\tvalid_0's l2: 0.262161\tvalid_0's RMSLE: 0.128096\n",
            "[286]\tvalid_0's l2: 0.262006\tvalid_0's RMSLE: 0.128062\n",
            "[287]\tvalid_0's l2: 0.261878\tvalid_0's RMSLE: 0.128028\n",
            "[288]\tvalid_0's l2: 0.261751\tvalid_0's RMSLE: 0.127997\n",
            "[289]\tvalid_0's l2: 0.26163\tvalid_0's RMSLE: 0.12797\n",
            "[290]\tvalid_0's l2: 0.261503\tvalid_0's RMSLE: 0.127941\n",
            "[291]\tvalid_0's l2: 0.261385\tvalid_0's RMSLE: 0.127915\n",
            "[292]\tvalid_0's l2: 0.261263\tvalid_0's RMSLE: 0.127885\n",
            "[293]\tvalid_0's l2: 0.261145\tvalid_0's RMSLE: 0.127858\n",
            "[294]\tvalid_0's l2: 0.261007\tvalid_0's RMSLE: 0.127826\n",
            "[295]\tvalid_0's l2: 0.260883\tvalid_0's RMSLE: 0.1278\n",
            "[296]\tvalid_0's l2: 0.26076\tvalid_0's RMSLE: 0.127773\n",
            "[297]\tvalid_0's l2: 0.260611\tvalid_0's RMSLE: 0.127739\n",
            "[298]\tvalid_0's l2: 0.26049\tvalid_0's RMSLE: 0.12771\n",
            "[299]\tvalid_0's l2: 0.260361\tvalid_0's RMSLE: 0.12768\n",
            "[300]\tvalid_0's l2: 0.260231\tvalid_0's RMSLE: 0.127651\n",
            "[301]\tvalid_0's l2: 0.260091\tvalid_0's RMSLE: 0.127617\n",
            "[302]\tvalid_0's l2: 0.259984\tvalid_0's RMSLE: 0.127591\n",
            "[303]\tvalid_0's l2: 0.259858\tvalid_0's RMSLE: 0.127561\n",
            "[304]\tvalid_0's l2: 0.259751\tvalid_0's RMSLE: 0.127535\n",
            "[305]\tvalid_0's l2: 0.259623\tvalid_0's RMSLE: 0.127505\n",
            "[306]\tvalid_0's l2: 0.259514\tvalid_0's RMSLE: 0.127476\n",
            "[307]\tvalid_0's l2: 0.259401\tvalid_0's RMSLE: 0.127451\n",
            "[308]\tvalid_0's l2: 0.259226\tvalid_0's RMSLE: 0.127412\n",
            "[309]\tvalid_0's l2: 0.259106\tvalid_0's RMSLE: 0.127386\n",
            "[310]\tvalid_0's l2: 0.258992\tvalid_0's RMSLE: 0.127358\n",
            "[311]\tvalid_0's l2: 0.25888\tvalid_0's RMSLE: 0.12733\n",
            "[312]\tvalid_0's l2: 0.258755\tvalid_0's RMSLE: 0.127304\n",
            "[313]\tvalid_0's l2: 0.258649\tvalid_0's RMSLE: 0.12728\n",
            "[314]\tvalid_0's l2: 0.25852\tvalid_0's RMSLE: 0.127248\n",
            "[315]\tvalid_0's l2: 0.258407\tvalid_0's RMSLE: 0.127221\n",
            "[316]\tvalid_0's l2: 0.258281\tvalid_0's RMSLE: 0.127192\n",
            "[317]\tvalid_0's l2: 0.258163\tvalid_0's RMSLE: 0.127162\n",
            "[318]\tvalid_0's l2: 0.258051\tvalid_0's RMSLE: 0.127134\n",
            "[319]\tvalid_0's l2: 0.257925\tvalid_0's RMSLE: 0.127101\n",
            "[320]\tvalid_0's l2: 0.257813\tvalid_0's RMSLE: 0.127074\n",
            "[321]\tvalid_0's l2: 0.257702\tvalid_0's RMSLE: 0.127048\n",
            "[322]\tvalid_0's l2: 0.257591\tvalid_0's RMSLE: 0.127021\n",
            "[323]\tvalid_0's l2: 0.257466\tvalid_0's RMSLE: 0.126992\n",
            "[324]\tvalid_0's l2: 0.257345\tvalid_0's RMSLE: 0.126964\n",
            "[325]\tvalid_0's l2: 0.257228\tvalid_0's RMSLE: 0.126939\n",
            "[326]\tvalid_0's l2: 0.257118\tvalid_0's RMSLE: 0.126912\n",
            "[327]\tvalid_0's l2: 0.257007\tvalid_0's RMSLE: 0.126887\n",
            "[328]\tvalid_0's l2: 0.2569\tvalid_0's RMSLE: 0.126862\n",
            "[329]\tvalid_0's l2: 0.256794\tvalid_0's RMSLE: 0.126838\n",
            "[330]\tvalid_0's l2: 0.256647\tvalid_0's RMSLE: 0.126803\n",
            "[331]\tvalid_0's l2: 0.256522\tvalid_0's RMSLE: 0.126771\n",
            "[332]\tvalid_0's l2: 0.256422\tvalid_0's RMSLE: 0.126748\n",
            "[333]\tvalid_0's l2: 0.25628\tvalid_0's RMSLE: 0.126715\n",
            "[334]\tvalid_0's l2: 0.256164\tvalid_0's RMSLE: 0.126691\n",
            "[335]\tvalid_0's l2: 0.256042\tvalid_0's RMSLE: 0.126661\n",
            "[336]\tvalid_0's l2: 0.255941\tvalid_0's RMSLE: 0.126638\n",
            "[337]\tvalid_0's l2: 0.255839\tvalid_0's RMSLE: 0.126615\n",
            "[338]\tvalid_0's l2: 0.255739\tvalid_0's RMSLE: 0.12659\n",
            "[339]\tvalid_0's l2: 0.255636\tvalid_0's RMSLE: 0.126565\n",
            "[340]\tvalid_0's l2: 0.255533\tvalid_0's RMSLE: 0.12654\n",
            "[341]\tvalid_0's l2: 0.255423\tvalid_0's RMSLE: 0.126515\n",
            "[342]\tvalid_0's l2: 0.255318\tvalid_0's RMSLE: 0.126489\n",
            "[343]\tvalid_0's l2: 0.255216\tvalid_0's RMSLE: 0.126467\n",
            "[344]\tvalid_0's l2: 0.255118\tvalid_0's RMSLE: 0.126445\n",
            "[345]\tvalid_0's l2: 0.255002\tvalid_0's RMSLE: 0.126417\n",
            "[346]\tvalid_0's l2: 0.254885\tvalid_0's RMSLE: 0.126388\n",
            "[347]\tvalid_0's l2: 0.254773\tvalid_0's RMSLE: 0.126361\n",
            "[348]\tvalid_0's l2: 0.254668\tvalid_0's RMSLE: 0.126337\n",
            "[349]\tvalid_0's l2: 0.254564\tvalid_0's RMSLE: 0.126312\n",
            "[350]\tvalid_0's l2: 0.254469\tvalid_0's RMSLE: 0.126289\n",
            "[351]\tvalid_0's l2: 0.254364\tvalid_0's RMSLE: 0.126265\n",
            "[352]\tvalid_0's l2: 0.25426\tvalid_0's RMSLE: 0.126237\n",
            "[353]\tvalid_0's l2: 0.254158\tvalid_0's RMSLE: 0.126212\n",
            "[354]\tvalid_0's l2: 0.254065\tvalid_0's RMSLE: 0.126192\n",
            "[355]\tvalid_0's l2: 0.253974\tvalid_0's RMSLE: 0.126168\n",
            "[356]\tvalid_0's l2: 0.253884\tvalid_0's RMSLE: 0.126147\n",
            "[357]\tvalid_0's l2: 0.253787\tvalid_0's RMSLE: 0.126125\n",
            "[358]\tvalid_0's l2: 0.253692\tvalid_0's RMSLE: 0.126103\n",
            "[359]\tvalid_0's l2: 0.253596\tvalid_0's RMSLE: 0.126081\n",
            "[360]\tvalid_0's l2: 0.253508\tvalid_0's RMSLE: 0.126062\n",
            "[361]\tvalid_0's l2: 0.253416\tvalid_0's RMSLE: 0.12604\n",
            "[362]\tvalid_0's l2: 0.253328\tvalid_0's RMSLE: 0.126021\n",
            "[363]\tvalid_0's l2: 0.253237\tvalid_0's RMSLE: 0.126\n",
            "[364]\tvalid_0's l2: 0.253137\tvalid_0's RMSLE: 0.125979\n",
            "[365]\tvalid_0's l2: 0.253047\tvalid_0's RMSLE: 0.125958\n",
            "[366]\tvalid_0's l2: 0.252947\tvalid_0's RMSLE: 0.125936\n",
            "[367]\tvalid_0's l2: 0.252852\tvalid_0's RMSLE: 0.125912\n",
            "[368]\tvalid_0's l2: 0.252754\tvalid_0's RMSLE: 0.125889\n",
            "[369]\tvalid_0's l2: 0.252668\tvalid_0's RMSLE: 0.125869\n",
            "[370]\tvalid_0's l2: 0.252578\tvalid_0's RMSLE: 0.125849\n",
            "[371]\tvalid_0's l2: 0.252483\tvalid_0's RMSLE: 0.125827\n",
            "[372]\tvalid_0's l2: 0.252387\tvalid_0's RMSLE: 0.125804\n",
            "[373]\tvalid_0's l2: 0.252297\tvalid_0's RMSLE: 0.125784\n",
            "[374]\tvalid_0's l2: 0.252202\tvalid_0's RMSLE: 0.125763\n",
            "[375]\tvalid_0's l2: 0.252092\tvalid_0's RMSLE: 0.125739\n",
            "[376]\tvalid_0's l2: 0.252001\tvalid_0's RMSLE: 0.125717\n",
            "[377]\tvalid_0's l2: 0.251909\tvalid_0's RMSLE: 0.125692\n",
            "[378]\tvalid_0's l2: 0.251813\tvalid_0's RMSLE: 0.125667\n",
            "[379]\tvalid_0's l2: 0.251692\tvalid_0's RMSLE: 0.12564\n",
            "[380]\tvalid_0's l2: 0.251606\tvalid_0's RMSLE: 0.125618\n",
            "[381]\tvalid_0's l2: 0.251519\tvalid_0's RMSLE: 0.125596\n",
            "[382]\tvalid_0's l2: 0.251434\tvalid_0's RMSLE: 0.125575\n",
            "[383]\tvalid_0's l2: 0.251349\tvalid_0's RMSLE: 0.125555\n",
            "[384]\tvalid_0's l2: 0.251265\tvalid_0's RMSLE: 0.125538\n",
            "[385]\tvalid_0's l2: 0.251176\tvalid_0's RMSLE: 0.125519\n",
            "[386]\tvalid_0's l2: 0.251091\tvalid_0's RMSLE: 0.125498\n",
            "[387]\tvalid_0's l2: 0.251003\tvalid_0's RMSLE: 0.125476\n",
            "[388]\tvalid_0's l2: 0.250916\tvalid_0's RMSLE: 0.125456\n",
            "[389]\tvalid_0's l2: 0.250832\tvalid_0's RMSLE: 0.125438\n",
            "[390]\tvalid_0's l2: 0.250741\tvalid_0's RMSLE: 0.125417\n",
            "[391]\tvalid_0's l2: 0.250654\tvalid_0's RMSLE: 0.125396\n",
            "[392]\tvalid_0's l2: 0.250556\tvalid_0's RMSLE: 0.125372\n",
            "[393]\tvalid_0's l2: 0.250458\tvalid_0's RMSLE: 0.125351\n",
            "[394]\tvalid_0's l2: 0.250342\tvalid_0's RMSLE: 0.125322\n",
            "[395]\tvalid_0's l2: 0.250262\tvalid_0's RMSLE: 0.1253\n",
            "[396]\tvalid_0's l2: 0.250169\tvalid_0's RMSLE: 0.125275\n",
            "[397]\tvalid_0's l2: 0.250091\tvalid_0's RMSLE: 0.125256\n",
            "[398]\tvalid_0's l2: 0.250007\tvalid_0's RMSLE: 0.125237\n",
            "[399]\tvalid_0's l2: 0.24992\tvalid_0's RMSLE: 0.125216\n",
            "[400]\tvalid_0's l2: 0.249814\tvalid_0's RMSLE: 0.125186\n",
            "[401]\tvalid_0's l2: 0.249734\tvalid_0's RMSLE: 0.125169\n",
            "[402]\tvalid_0's l2: 0.249649\tvalid_0's RMSLE: 0.125149\n",
            "[403]\tvalid_0's l2: 0.249542\tvalid_0's RMSLE: 0.125123\n",
            "[404]\tvalid_0's l2: 0.249434\tvalid_0's RMSLE: 0.125099\n",
            "[405]\tvalid_0's l2: 0.249355\tvalid_0's RMSLE: 0.125079\n",
            "[406]\tvalid_0's l2: 0.249283\tvalid_0's RMSLE: 0.125062\n",
            "[407]\tvalid_0's l2: 0.249202\tvalid_0's RMSLE: 0.125043\n",
            "[408]\tvalid_0's l2: 0.249111\tvalid_0's RMSLE: 0.12502\n",
            "[409]\tvalid_0's l2: 0.249021\tvalid_0's RMSLE: 0.124998\n",
            "[410]\tvalid_0's l2: 0.248946\tvalid_0's RMSLE: 0.124979\n",
            "[411]\tvalid_0's l2: 0.248877\tvalid_0's RMSLE: 0.124962\n",
            "[412]\tvalid_0's l2: 0.248785\tvalid_0's RMSLE: 0.124941\n",
            "[413]\tvalid_0's l2: 0.248712\tvalid_0's RMSLE: 0.124924\n",
            "[414]\tvalid_0's l2: 0.248635\tvalid_0's RMSLE: 0.124904\n",
            "[415]\tvalid_0's l2: 0.24856\tvalid_0's RMSLE: 0.124887\n",
            "[416]\tvalid_0's l2: 0.24848\tvalid_0's RMSLE: 0.12487\n",
            "[417]\tvalid_0's l2: 0.248392\tvalid_0's RMSLE: 0.12485\n",
            "[418]\tvalid_0's l2: 0.24832\tvalid_0's RMSLE: 0.124832\n",
            "[419]\tvalid_0's l2: 0.248242\tvalid_0's RMSLE: 0.124814\n",
            "[420]\tvalid_0's l2: 0.248169\tvalid_0's RMSLE: 0.124795\n",
            "[421]\tvalid_0's l2: 0.248092\tvalid_0's RMSLE: 0.124777\n",
            "[422]\tvalid_0's l2: 0.248012\tvalid_0's RMSLE: 0.124757\n",
            "[423]\tvalid_0's l2: 0.24795\tvalid_0's RMSLE: 0.124742\n",
            "[424]\tvalid_0's l2: 0.247875\tvalid_0's RMSLE: 0.124725\n",
            "[425]\tvalid_0's l2: 0.247797\tvalid_0's RMSLE: 0.124707\n",
            "[426]\tvalid_0's l2: 0.247705\tvalid_0's RMSLE: 0.124684\n",
            "[427]\tvalid_0's l2: 0.247632\tvalid_0's RMSLE: 0.124667\n",
            "[428]\tvalid_0's l2: 0.247539\tvalid_0's RMSLE: 0.124641\n",
            "[429]\tvalid_0's l2: 0.247438\tvalid_0's RMSLE: 0.124616\n",
            "[430]\tvalid_0's l2: 0.247358\tvalid_0's RMSLE: 0.124598\n",
            "[431]\tvalid_0's l2: 0.247293\tvalid_0's RMSLE: 0.124582\n",
            "[432]\tvalid_0's l2: 0.247212\tvalid_0's RMSLE: 0.124563\n",
            "[433]\tvalid_0's l2: 0.247123\tvalid_0's RMSLE: 0.124541\n",
            "[434]\tvalid_0's l2: 0.247055\tvalid_0's RMSLE: 0.124524\n",
            "[435]\tvalid_0's l2: 0.24697\tvalid_0's RMSLE: 0.124505\n",
            "[436]\tvalid_0's l2: 0.246888\tvalid_0's RMSLE: 0.124485\n",
            "[437]\tvalid_0's l2: 0.246805\tvalid_0's RMSLE: 0.124466\n",
            "[438]\tvalid_0's l2: 0.246729\tvalid_0's RMSLE: 0.12445\n",
            "[439]\tvalid_0's l2: 0.246657\tvalid_0's RMSLE: 0.124431\n",
            "[440]\tvalid_0's l2: 0.24659\tvalid_0's RMSLE: 0.124415\n",
            "[441]\tvalid_0's l2: 0.246513\tvalid_0's RMSLE: 0.124397\n",
            "[442]\tvalid_0's l2: 0.246426\tvalid_0's RMSLE: 0.124376\n",
            "[443]\tvalid_0's l2: 0.246354\tvalid_0's RMSLE: 0.124357\n",
            "[444]\tvalid_0's l2: 0.24628\tvalid_0's RMSLE: 0.12434\n",
            "[445]\tvalid_0's l2: 0.24621\tvalid_0's RMSLE: 0.124322\n",
            "[446]\tvalid_0's l2: 0.246137\tvalid_0's RMSLE: 0.124307\n",
            "[447]\tvalid_0's l2: 0.24604\tvalid_0's RMSLE: 0.124286\n",
            "[448]\tvalid_0's l2: 0.245973\tvalid_0's RMSLE: 0.12427\n",
            "[449]\tvalid_0's l2: 0.245895\tvalid_0's RMSLE: 0.124252\n",
            "[450]\tvalid_0's l2: 0.245823\tvalid_0's RMSLE: 0.124236\n",
            "[451]\tvalid_0's l2: 0.245749\tvalid_0's RMSLE: 0.124215\n",
            "[452]\tvalid_0's l2: 0.245662\tvalid_0's RMSLE: 0.124192\n",
            "[453]\tvalid_0's l2: 0.245589\tvalid_0's RMSLE: 0.124175\n",
            "[454]\tvalid_0's l2: 0.245504\tvalid_0's RMSLE: 0.124154\n",
            "[455]\tvalid_0's l2: 0.245438\tvalid_0's RMSLE: 0.124137\n",
            "[456]\tvalid_0's l2: 0.245364\tvalid_0's RMSLE: 0.124118\n",
            "[457]\tvalid_0's l2: 0.245298\tvalid_0's RMSLE: 0.124101\n",
            "[458]\tvalid_0's l2: 0.245224\tvalid_0's RMSLE: 0.124084\n",
            "[459]\tvalid_0's l2: 0.245159\tvalid_0's RMSLE: 0.124069\n",
            "[460]\tvalid_0's l2: 0.245078\tvalid_0's RMSLE: 0.124049\n",
            "[461]\tvalid_0's l2: 0.245012\tvalid_0's RMSLE: 0.124035\n",
            "[462]\tvalid_0's l2: 0.244944\tvalid_0's RMSLE: 0.124017\n",
            "[463]\tvalid_0's l2: 0.244884\tvalid_0's RMSLE: 0.124003\n",
            "[464]\tvalid_0's l2: 0.244812\tvalid_0's RMSLE: 0.123985\n",
            "[465]\tvalid_0's l2: 0.244739\tvalid_0's RMSLE: 0.123968\n",
            "[466]\tvalid_0's l2: 0.244676\tvalid_0's RMSLE: 0.123951\n",
            "[467]\tvalid_0's l2: 0.244609\tvalid_0's RMSLE: 0.123936\n",
            "[468]\tvalid_0's l2: 0.244544\tvalid_0's RMSLE: 0.12392\n",
            "[469]\tvalid_0's l2: 0.24447\tvalid_0's RMSLE: 0.123903\n",
            "[470]\tvalid_0's l2: 0.2444\tvalid_0's RMSLE: 0.123886\n",
            "[471]\tvalid_0's l2: 0.244325\tvalid_0's RMSLE: 0.123868\n",
            "[472]\tvalid_0's l2: 0.244255\tvalid_0's RMSLE: 0.123852\n",
            "[473]\tvalid_0's l2: 0.244178\tvalid_0's RMSLE: 0.123833\n",
            "[474]\tvalid_0's l2: 0.244113\tvalid_0's RMSLE: 0.123818\n",
            "[475]\tvalid_0's l2: 0.244037\tvalid_0's RMSLE: 0.123799\n",
            "[476]\tvalid_0's l2: 0.24397\tvalid_0's RMSLE: 0.123783\n",
            "[477]\tvalid_0's l2: 0.243902\tvalid_0's RMSLE: 0.123769\n",
            "[478]\tvalid_0's l2: 0.243832\tvalid_0's RMSLE: 0.123752\n",
            "[479]\tvalid_0's l2: 0.243773\tvalid_0's RMSLE: 0.123738\n",
            "[480]\tvalid_0's l2: 0.243698\tvalid_0's RMSLE: 0.123717\n",
            "[481]\tvalid_0's l2: 0.243633\tvalid_0's RMSLE: 0.123701\n",
            "[482]\tvalid_0's l2: 0.243571\tvalid_0's RMSLE: 0.123685\n",
            "[483]\tvalid_0's l2: 0.243502\tvalid_0's RMSLE: 0.123668\n",
            "[484]\tvalid_0's l2: 0.243428\tvalid_0's RMSLE: 0.123653\n",
            "[485]\tvalid_0's l2: 0.243359\tvalid_0's RMSLE: 0.123634\n",
            "[486]\tvalid_0's l2: 0.243292\tvalid_0's RMSLE: 0.123619\n",
            "[487]\tvalid_0's l2: 0.243221\tvalid_0's RMSLE: 0.1236\n",
            "[488]\tvalid_0's l2: 0.243154\tvalid_0's RMSLE: 0.123586\n",
            "[489]\tvalid_0's l2: 0.243098\tvalid_0's RMSLE: 0.123573\n",
            "[490]\tvalid_0's l2: 0.243029\tvalid_0's RMSLE: 0.123557\n",
            "[491]\tvalid_0's l2: 0.242944\tvalid_0's RMSLE: 0.123538\n",
            "[492]\tvalid_0's l2: 0.242887\tvalid_0's RMSLE: 0.123523\n",
            "[493]\tvalid_0's l2: 0.24282\tvalid_0's RMSLE: 0.123507\n",
            "[494]\tvalid_0's l2: 0.242759\tvalid_0's RMSLE: 0.123493\n",
            "[495]\tvalid_0's l2: 0.242693\tvalid_0's RMSLE: 0.123477\n",
            "[496]\tvalid_0's l2: 0.242605\tvalid_0's RMSLE: 0.123457\n",
            "[497]\tvalid_0's l2: 0.242538\tvalid_0's RMSLE: 0.123441\n",
            "[498]\tvalid_0's l2: 0.242485\tvalid_0's RMSLE: 0.123428\n",
            "[499]\tvalid_0's l2: 0.242418\tvalid_0's RMSLE: 0.123412\n",
            "[500]\tvalid_0's l2: 0.242356\tvalid_0's RMSLE: 0.1234\n",
            "[501]\tvalid_0's l2: 0.242298\tvalid_0's RMSLE: 0.123386\n",
            "[502]\tvalid_0's l2: 0.242241\tvalid_0's RMSLE: 0.123372\n",
            "[503]\tvalid_0's l2: 0.242181\tvalid_0's RMSLE: 0.123358\n",
            "[504]\tvalid_0's l2: 0.242116\tvalid_0's RMSLE: 0.123342\n",
            "[505]\tvalid_0's l2: 0.242056\tvalid_0's RMSLE: 0.123327\n",
            "[506]\tvalid_0's l2: 0.241996\tvalid_0's RMSLE: 0.123312\n",
            "[507]\tvalid_0's l2: 0.24193\tvalid_0's RMSLE: 0.123296\n",
            "[508]\tvalid_0's l2: 0.241863\tvalid_0's RMSLE: 0.12328\n",
            "[509]\tvalid_0's l2: 0.241804\tvalid_0's RMSLE: 0.123265\n",
            "[510]\tvalid_0's l2: 0.241745\tvalid_0's RMSLE: 0.12325\n",
            "[511]\tvalid_0's l2: 0.241688\tvalid_0's RMSLE: 0.123235\n",
            "[512]\tvalid_0's l2: 0.241618\tvalid_0's RMSLE: 0.123218\n",
            "[513]\tvalid_0's l2: 0.241554\tvalid_0's RMSLE: 0.123201\n",
            "[514]\tvalid_0's l2: 0.241493\tvalid_0's RMSLE: 0.123187\n",
            "[515]\tvalid_0's l2: 0.241425\tvalid_0's RMSLE: 0.123169\n",
            "[516]\tvalid_0's l2: 0.24136\tvalid_0's RMSLE: 0.123153\n",
            "[517]\tvalid_0's l2: 0.241307\tvalid_0's RMSLE: 0.123138\n",
            "[518]\tvalid_0's l2: 0.241241\tvalid_0's RMSLE: 0.123123\n",
            "[519]\tvalid_0's l2: 0.241184\tvalid_0's RMSLE: 0.123109\n",
            "[520]\tvalid_0's l2: 0.241109\tvalid_0's RMSLE: 0.12309\n",
            "[521]\tvalid_0's l2: 0.241048\tvalid_0's RMSLE: 0.123075\n",
            "[522]\tvalid_0's l2: 0.24099\tvalid_0's RMSLE: 0.12306\n",
            "[523]\tvalid_0's l2: 0.240937\tvalid_0's RMSLE: 0.123047\n",
            "[524]\tvalid_0's l2: 0.24088\tvalid_0's RMSLE: 0.123032\n",
            "[525]\tvalid_0's l2: 0.240828\tvalid_0's RMSLE: 0.123018\n",
            "[526]\tvalid_0's l2: 0.240763\tvalid_0's RMSLE: 0.123004\n",
            "[527]\tvalid_0's l2: 0.240698\tvalid_0's RMSLE: 0.122989\n",
            "[528]\tvalid_0's l2: 0.24064\tvalid_0's RMSLE: 0.122977\n",
            "[529]\tvalid_0's l2: 0.240575\tvalid_0's RMSLE: 0.122962\n",
            "[530]\tvalid_0's l2: 0.240517\tvalid_0's RMSLE: 0.122946\n",
            "[531]\tvalid_0's l2: 0.240455\tvalid_0's RMSLE: 0.122931\n",
            "[532]\tvalid_0's l2: 0.240389\tvalid_0's RMSLE: 0.122914\n",
            "[533]\tvalid_0's l2: 0.240333\tvalid_0's RMSLE: 0.1229\n",
            "[534]\tvalid_0's l2: 0.240266\tvalid_0's RMSLE: 0.122883\n",
            "[535]\tvalid_0's l2: 0.24021\tvalid_0's RMSLE: 0.122871\n",
            "[536]\tvalid_0's l2: 0.240151\tvalid_0's RMSLE: 0.122855\n",
            "[537]\tvalid_0's l2: 0.240094\tvalid_0's RMSLE: 0.122841\n",
            "[538]\tvalid_0's l2: 0.240032\tvalid_0's RMSLE: 0.122826\n",
            "[539]\tvalid_0's l2: 0.239979\tvalid_0's RMSLE: 0.122813\n",
            "[540]\tvalid_0's l2: 0.239917\tvalid_0's RMSLE: 0.122798\n",
            "[541]\tvalid_0's l2: 0.239861\tvalid_0's RMSLE: 0.122786\n",
            "[542]\tvalid_0's l2: 0.239798\tvalid_0's RMSLE: 0.12277\n",
            "[543]\tvalid_0's l2: 0.239747\tvalid_0's RMSLE: 0.122757\n",
            "[544]\tvalid_0's l2: 0.239689\tvalid_0's RMSLE: 0.122743\n",
            "[545]\tvalid_0's l2: 0.239641\tvalid_0's RMSLE: 0.122732\n",
            "[546]\tvalid_0's l2: 0.239586\tvalid_0's RMSLE: 0.122719\n",
            "[547]\tvalid_0's l2: 0.239532\tvalid_0's RMSLE: 0.122706\n",
            "[548]\tvalid_0's l2: 0.239478\tvalid_0's RMSLE: 0.122694\n",
            "[549]\tvalid_0's l2: 0.239415\tvalid_0's RMSLE: 0.122679\n",
            "[550]\tvalid_0's l2: 0.239348\tvalid_0's RMSLE: 0.12266\n",
            "[551]\tvalid_0's l2: 0.239295\tvalid_0's RMSLE: 0.122648\n",
            "[552]\tvalid_0's l2: 0.239228\tvalid_0's RMSLE: 0.122631\n",
            "[553]\tvalid_0's l2: 0.239173\tvalid_0's RMSLE: 0.122617\n",
            "[554]\tvalid_0's l2: 0.239122\tvalid_0's RMSLE: 0.122604\n",
            "[555]\tvalid_0's l2: 0.239067\tvalid_0's RMSLE: 0.122592\n",
            "[556]\tvalid_0's l2: 0.239013\tvalid_0's RMSLE: 0.122579\n",
            "[557]\tvalid_0's l2: 0.238953\tvalid_0's RMSLE: 0.122564\n",
            "[558]\tvalid_0's l2: 0.238895\tvalid_0's RMSLE: 0.122552\n",
            "[559]\tvalid_0's l2: 0.238831\tvalid_0's RMSLE: 0.122537\n",
            "[560]\tvalid_0's l2: 0.238767\tvalid_0's RMSLE: 0.122521\n",
            "[561]\tvalid_0's l2: 0.238703\tvalid_0's RMSLE: 0.122505\n",
            "[562]\tvalid_0's l2: 0.238647\tvalid_0's RMSLE: 0.122491\n",
            "[563]\tvalid_0's l2: 0.238593\tvalid_0's RMSLE: 0.122478\n",
            "[564]\tvalid_0's l2: 0.238534\tvalid_0's RMSLE: 0.122464\n",
            "[565]\tvalid_0's l2: 0.238481\tvalid_0's RMSLE: 0.122452\n",
            "[566]\tvalid_0's l2: 0.238433\tvalid_0's RMSLE: 0.12244\n",
            "[567]\tvalid_0's l2: 0.238365\tvalid_0's RMSLE: 0.122421\n",
            "[568]\tvalid_0's l2: 0.23831\tvalid_0's RMSLE: 0.122408\n",
            "[569]\tvalid_0's l2: 0.23826\tvalid_0's RMSLE: 0.122396\n",
            "[570]\tvalid_0's l2: 0.238213\tvalid_0's RMSLE: 0.122384\n",
            "[571]\tvalid_0's l2: 0.238162\tvalid_0's RMSLE: 0.122372\n",
            "[572]\tvalid_0's l2: 0.238104\tvalid_0's RMSLE: 0.122358\n",
            "[573]\tvalid_0's l2: 0.238054\tvalid_0's RMSLE: 0.122345\n",
            "[574]\tvalid_0's l2: 0.237996\tvalid_0's RMSLE: 0.12233\n",
            "[575]\tvalid_0's l2: 0.237944\tvalid_0's RMSLE: 0.122319\n",
            "[576]\tvalid_0's l2: 0.2379\tvalid_0's RMSLE: 0.122309\n",
            "[577]\tvalid_0's l2: 0.237844\tvalid_0's RMSLE: 0.122294\n",
            "[578]\tvalid_0's l2: 0.237795\tvalid_0's RMSLE: 0.122282\n",
            "[579]\tvalid_0's l2: 0.237734\tvalid_0's RMSLE: 0.122268\n",
            "[580]\tvalid_0's l2: 0.237686\tvalid_0's RMSLE: 0.122256\n",
            "[581]\tvalid_0's l2: 0.237635\tvalid_0's RMSLE: 0.122242\n",
            "[582]\tvalid_0's l2: 0.237585\tvalid_0's RMSLE: 0.12223\n",
            "[583]\tvalid_0's l2: 0.237531\tvalid_0's RMSLE: 0.122216\n",
            "[584]\tvalid_0's l2: 0.237479\tvalid_0's RMSLE: 0.122202\n",
            "[585]\tvalid_0's l2: 0.237426\tvalid_0's RMSLE: 0.122188\n",
            "[586]\tvalid_0's l2: 0.237375\tvalid_0's RMSLE: 0.122176\n",
            "[587]\tvalid_0's l2: 0.237324\tvalid_0's RMSLE: 0.122163\n",
            "[588]\tvalid_0's l2: 0.237276\tvalid_0's RMSLE: 0.122151\n",
            "[589]\tvalid_0's l2: 0.237221\tvalid_0's RMSLE: 0.122138\n",
            "[590]\tvalid_0's l2: 0.237171\tvalid_0's RMSLE: 0.122125\n",
            "[591]\tvalid_0's l2: 0.237125\tvalid_0's RMSLE: 0.122115\n",
            "[592]\tvalid_0's l2: 0.237083\tvalid_0's RMSLE: 0.122104\n",
            "[593]\tvalid_0's l2: 0.237031\tvalid_0's RMSLE: 0.122092\n",
            "[594]\tvalid_0's l2: 0.236987\tvalid_0's RMSLE: 0.122082\n",
            "[595]\tvalid_0's l2: 0.236945\tvalid_0's RMSLE: 0.122071\n",
            "[596]\tvalid_0's l2: 0.236894\tvalid_0's RMSLE: 0.12206\n",
            "[597]\tvalid_0's l2: 0.236836\tvalid_0's RMSLE: 0.122046\n",
            "[598]\tvalid_0's l2: 0.236785\tvalid_0's RMSLE: 0.122033\n",
            "[599]\tvalid_0's l2: 0.236732\tvalid_0's RMSLE: 0.122019\n",
            "[600]\tvalid_0's l2: 0.236676\tvalid_0's RMSLE: 0.122006\n",
            "[601]\tvalid_0's l2: 0.236622\tvalid_0's RMSLE: 0.121994\n",
            "[602]\tvalid_0's l2: 0.236574\tvalid_0's RMSLE: 0.121982\n",
            "[603]\tvalid_0's l2: 0.236527\tvalid_0's RMSLE: 0.121969\n",
            "[604]\tvalid_0's l2: 0.236476\tvalid_0's RMSLE: 0.121956\n",
            "[605]\tvalid_0's l2: 0.23643\tvalid_0's RMSLE: 0.121942\n",
            "[606]\tvalid_0's l2: 0.236378\tvalid_0's RMSLE: 0.12193\n",
            "[607]\tvalid_0's l2: 0.236337\tvalid_0's RMSLE: 0.121919\n",
            "[608]\tvalid_0's l2: 0.236293\tvalid_0's RMSLE: 0.121909\n",
            "[609]\tvalid_0's l2: 0.236243\tvalid_0's RMSLE: 0.121896\n",
            "[610]\tvalid_0's l2: 0.236193\tvalid_0's RMSLE: 0.121884\n",
            "[611]\tvalid_0's l2: 0.23614\tvalid_0's RMSLE: 0.121871\n",
            "[612]\tvalid_0's l2: 0.236073\tvalid_0's RMSLE: 0.121853\n",
            "[613]\tvalid_0's l2: 0.236017\tvalid_0's RMSLE: 0.12184\n",
            "[614]\tvalid_0's l2: 0.235967\tvalid_0's RMSLE: 0.121828\n",
            "[615]\tvalid_0's l2: 0.235919\tvalid_0's RMSLE: 0.121815\n",
            "[616]\tvalid_0's l2: 0.235874\tvalid_0's RMSLE: 0.121804\n",
            "[617]\tvalid_0's l2: 0.235821\tvalid_0's RMSLE: 0.121792\n",
            "[618]\tvalid_0's l2: 0.235771\tvalid_0's RMSLE: 0.121779\n",
            "[619]\tvalid_0's l2: 0.235722\tvalid_0's RMSLE: 0.121767\n",
            "[620]\tvalid_0's l2: 0.235676\tvalid_0's RMSLE: 0.121755\n",
            "[621]\tvalid_0's l2: 0.235628\tvalid_0's RMSLE: 0.121744\n",
            "[622]\tvalid_0's l2: 0.235557\tvalid_0's RMSLE: 0.121727\n",
            "[623]\tvalid_0's l2: 0.235508\tvalid_0's RMSLE: 0.121715\n",
            "[624]\tvalid_0's l2: 0.235466\tvalid_0's RMSLE: 0.121705\n",
            "[625]\tvalid_0's l2: 0.235415\tvalid_0's RMSLE: 0.121693\n",
            "[626]\tvalid_0's l2: 0.235369\tvalid_0's RMSLE: 0.121681\n",
            "[627]\tvalid_0's l2: 0.235323\tvalid_0's RMSLE: 0.121671\n",
            "[628]\tvalid_0's l2: 0.235272\tvalid_0's RMSLE: 0.121659\n",
            "[629]\tvalid_0's l2: 0.235213\tvalid_0's RMSLE: 0.121644\n",
            "[630]\tvalid_0's l2: 0.235165\tvalid_0's RMSLE: 0.121633\n",
            "[631]\tvalid_0's l2: 0.235122\tvalid_0's RMSLE: 0.121623\n",
            "[632]\tvalid_0's l2: 0.235077\tvalid_0's RMSLE: 0.121611\n",
            "[633]\tvalid_0's l2: 0.235033\tvalid_0's RMSLE: 0.121601\n",
            "[634]\tvalid_0's l2: 0.234986\tvalid_0's RMSLE: 0.121589\n",
            "[635]\tvalid_0's l2: 0.234927\tvalid_0's RMSLE: 0.121573\n",
            "[636]\tvalid_0's l2: 0.234887\tvalid_0's RMSLE: 0.121563\n",
            "[637]\tvalid_0's l2: 0.234842\tvalid_0's RMSLE: 0.121552\n",
            "[638]\tvalid_0's l2: 0.234801\tvalid_0's RMSLE: 0.121543\n",
            "[639]\tvalid_0's l2: 0.234759\tvalid_0's RMSLE: 0.121533\n",
            "[640]\tvalid_0's l2: 0.234714\tvalid_0's RMSLE: 0.121522\n",
            "[641]\tvalid_0's l2: 0.234673\tvalid_0's RMSLE: 0.121512\n",
            "[642]\tvalid_0's l2: 0.23463\tvalid_0's RMSLE: 0.121501\n",
            "[643]\tvalid_0's l2: 0.234587\tvalid_0's RMSLE: 0.12149\n",
            "[644]\tvalid_0's l2: 0.234537\tvalid_0's RMSLE: 0.121477\n",
            "[645]\tvalid_0's l2: 0.234491\tvalid_0's RMSLE: 0.121465\n",
            "[646]\tvalid_0's l2: 0.234445\tvalid_0's RMSLE: 0.121454\n",
            "[647]\tvalid_0's l2: 0.234397\tvalid_0's RMSLE: 0.121443\n",
            "[648]\tvalid_0's l2: 0.234356\tvalid_0's RMSLE: 0.121433\n",
            "[649]\tvalid_0's l2: 0.234312\tvalid_0's RMSLE: 0.121421\n",
            "[650]\tvalid_0's l2: 0.234272\tvalid_0's RMSLE: 0.121411\n",
            "[651]\tvalid_0's l2: 0.23423\tvalid_0's RMSLE: 0.1214\n",
            "[652]\tvalid_0's l2: 0.234176\tvalid_0's RMSLE: 0.121386\n",
            "[653]\tvalid_0's l2: 0.234132\tvalid_0's RMSLE: 0.121376\n",
            "[654]\tvalid_0's l2: 0.234086\tvalid_0's RMSLE: 0.121364\n",
            "[655]\tvalid_0's l2: 0.234033\tvalid_0's RMSLE: 0.121352\n",
            "[656]\tvalid_0's l2: 0.233983\tvalid_0's RMSLE: 0.121341\n",
            "[657]\tvalid_0's l2: 0.23394\tvalid_0's RMSLE: 0.121331\n",
            "[658]\tvalid_0's l2: 0.23388\tvalid_0's RMSLE: 0.121318\n",
            "[659]\tvalid_0's l2: 0.233834\tvalid_0's RMSLE: 0.121307\n",
            "[660]\tvalid_0's l2: 0.233795\tvalid_0's RMSLE: 0.121297\n",
            "[661]\tvalid_0's l2: 0.233751\tvalid_0's RMSLE: 0.121287\n",
            "[662]\tvalid_0's l2: 0.233703\tvalid_0's RMSLE: 0.121275\n",
            "[663]\tvalid_0's l2: 0.233656\tvalid_0's RMSLE: 0.121262\n",
            "[664]\tvalid_0's l2: 0.233611\tvalid_0's RMSLE: 0.121251\n",
            "[665]\tvalid_0's l2: 0.233571\tvalid_0's RMSLE: 0.121242\n",
            "[666]\tvalid_0's l2: 0.233527\tvalid_0's RMSLE: 0.12123\n",
            "[667]\tvalid_0's l2: 0.233483\tvalid_0's RMSLE: 0.121219\n",
            "[668]\tvalid_0's l2: 0.233437\tvalid_0's RMSLE: 0.121209\n",
            "[669]\tvalid_0's l2: 0.233392\tvalid_0's RMSLE: 0.121198\n",
            "[670]\tvalid_0's l2: 0.233353\tvalid_0's RMSLE: 0.121188\n",
            "[671]\tvalid_0's l2: 0.233305\tvalid_0's RMSLE: 0.121178\n",
            "[672]\tvalid_0's l2: 0.233262\tvalid_0's RMSLE: 0.121166\n",
            "[673]\tvalid_0's l2: 0.233217\tvalid_0's RMSLE: 0.121156\n",
            "[674]\tvalid_0's l2: 0.233175\tvalid_0's RMSLE: 0.121145\n",
            "[675]\tvalid_0's l2: 0.233134\tvalid_0's RMSLE: 0.121134\n",
            "[676]\tvalid_0's l2: 0.233078\tvalid_0's RMSLE: 0.12112\n",
            "[677]\tvalid_0's l2: 0.23304\tvalid_0's RMSLE: 0.12111\n",
            "[678]\tvalid_0's l2: 0.233004\tvalid_0's RMSLE: 0.1211\n",
            "[679]\tvalid_0's l2: 0.232965\tvalid_0's RMSLE: 0.121091\n",
            "[680]\tvalid_0's l2: 0.232926\tvalid_0's RMSLE: 0.121081\n",
            "[681]\tvalid_0's l2: 0.232891\tvalid_0's RMSLE: 0.121071\n",
            "[682]\tvalid_0's l2: 0.232851\tvalid_0's RMSLE: 0.121061\n",
            "[683]\tvalid_0's l2: 0.232814\tvalid_0's RMSLE: 0.121051\n",
            "[684]\tvalid_0's l2: 0.232775\tvalid_0's RMSLE: 0.121041\n",
            "[685]\tvalid_0's l2: 0.232727\tvalid_0's RMSLE: 0.12103\n",
            "[686]\tvalid_0's l2: 0.232685\tvalid_0's RMSLE: 0.121019\n",
            "[687]\tvalid_0's l2: 0.232643\tvalid_0's RMSLE: 0.121011\n",
            "[688]\tvalid_0's l2: 0.2326\tvalid_0's RMSLE: 0.121001\n",
            "[689]\tvalid_0's l2: 0.232536\tvalid_0's RMSLE: 0.120981\n",
            "[690]\tvalid_0's l2: 0.232498\tvalid_0's RMSLE: 0.120973\n",
            "[691]\tvalid_0's l2: 0.232455\tvalid_0's RMSLE: 0.120963\n",
            "[692]\tvalid_0's l2: 0.23241\tvalid_0's RMSLE: 0.120951\n",
            "[693]\tvalid_0's l2: 0.232376\tvalid_0's RMSLE: 0.120943\n",
            "[694]\tvalid_0's l2: 0.232332\tvalid_0's RMSLE: 0.120932\n",
            "[695]\tvalid_0's l2: 0.232279\tvalid_0's RMSLE: 0.12092\n",
            "[696]\tvalid_0's l2: 0.232223\tvalid_0's RMSLE: 0.120906\n",
            "[697]\tvalid_0's l2: 0.232182\tvalid_0's RMSLE: 0.120896\n",
            "[698]\tvalid_0's l2: 0.232133\tvalid_0's RMSLE: 0.120885\n",
            "[699]\tvalid_0's l2: 0.232097\tvalid_0's RMSLE: 0.120875\n",
            "[700]\tvalid_0's l2: 0.232048\tvalid_0's RMSLE: 0.120863\n",
            "[701]\tvalid_0's l2: 0.232011\tvalid_0's RMSLE: 0.120853\n",
            "[702]\tvalid_0's l2: 0.231963\tvalid_0's RMSLE: 0.120842\n",
            "[703]\tvalid_0's l2: 0.231928\tvalid_0's RMSLE: 0.120832\n",
            "[704]\tvalid_0's l2: 0.231886\tvalid_0's RMSLE: 0.120821\n",
            "[705]\tvalid_0's l2: 0.231844\tvalid_0's RMSLE: 0.12081\n",
            "[706]\tvalid_0's l2: 0.231792\tvalid_0's RMSLE: 0.120799\n",
            "[707]\tvalid_0's l2: 0.231751\tvalid_0's RMSLE: 0.120789\n",
            "[708]\tvalid_0's l2: 0.231707\tvalid_0's RMSLE: 0.120778\n",
            "[709]\tvalid_0's l2: 0.231669\tvalid_0's RMSLE: 0.120769\n",
            "[710]\tvalid_0's l2: 0.231636\tvalid_0's RMSLE: 0.120759\n",
            "[711]\tvalid_0's l2: 0.231596\tvalid_0's RMSLE: 0.120749\n",
            "[712]\tvalid_0's l2: 0.231557\tvalid_0's RMSLE: 0.120739\n",
            "[713]\tvalid_0's l2: 0.23152\tvalid_0's RMSLE: 0.120729\n",
            "[714]\tvalid_0's l2: 0.231482\tvalid_0's RMSLE: 0.120719\n",
            "[715]\tvalid_0's l2: 0.231441\tvalid_0's RMSLE: 0.120709\n",
            "[716]\tvalid_0's l2: 0.231398\tvalid_0's RMSLE: 0.120698\n",
            "[717]\tvalid_0's l2: 0.231353\tvalid_0's RMSLE: 0.120688\n",
            "[718]\tvalid_0's l2: 0.231317\tvalid_0's RMSLE: 0.120679\n",
            "[719]\tvalid_0's l2: 0.231275\tvalid_0's RMSLE: 0.120669\n",
            "[720]\tvalid_0's l2: 0.231238\tvalid_0's RMSLE: 0.120659\n",
            "[721]\tvalid_0's l2: 0.231195\tvalid_0's RMSLE: 0.120649\n",
            "[722]\tvalid_0's l2: 0.231158\tvalid_0's RMSLE: 0.12064\n",
            "[723]\tvalid_0's l2: 0.231118\tvalid_0's RMSLE: 0.120629\n",
            "[724]\tvalid_0's l2: 0.231084\tvalid_0's RMSLE: 0.120621\n",
            "[725]\tvalid_0's l2: 0.231049\tvalid_0's RMSLE: 0.120612\n",
            "[726]\tvalid_0's l2: 0.231011\tvalid_0's RMSLE: 0.120602\n",
            "[727]\tvalid_0's l2: 0.230969\tvalid_0's RMSLE: 0.120591\n",
            "[728]\tvalid_0's l2: 0.23093\tvalid_0's RMSLE: 0.120581\n",
            "[729]\tvalid_0's l2: 0.230901\tvalid_0's RMSLE: 0.120574\n",
            "[730]\tvalid_0's l2: 0.230868\tvalid_0's RMSLE: 0.120565\n",
            "[731]\tvalid_0's l2: 0.230819\tvalid_0's RMSLE: 0.120554\n",
            "[732]\tvalid_0's l2: 0.230786\tvalid_0's RMSLE: 0.120545\n",
            "[733]\tvalid_0's l2: 0.230749\tvalid_0's RMSLE: 0.120537\n",
            "[734]\tvalid_0's l2: 0.230708\tvalid_0's RMSLE: 0.120525\n",
            "[735]\tvalid_0's l2: 0.230667\tvalid_0's RMSLE: 0.120514\n",
            "[736]\tvalid_0's l2: 0.230631\tvalid_0's RMSLE: 0.120505\n",
            "[737]\tvalid_0's l2: 0.230599\tvalid_0's RMSLE: 0.120496\n",
            "[738]\tvalid_0's l2: 0.230553\tvalid_0's RMSLE: 0.120484\n",
            "[739]\tvalid_0's l2: 0.230516\tvalid_0's RMSLE: 0.120474\n",
            "[740]\tvalid_0's l2: 0.230466\tvalid_0's RMSLE: 0.120461\n",
            "[741]\tvalid_0's l2: 0.230425\tvalid_0's RMSLE: 0.120452\n",
            "[742]\tvalid_0's l2: 0.230387\tvalid_0's RMSLE: 0.120442\n",
            "[743]\tvalid_0's l2: 0.230349\tvalid_0's RMSLE: 0.120433\n",
            "[744]\tvalid_0's l2: 0.230311\tvalid_0's RMSLE: 0.120424\n",
            "[745]\tvalid_0's l2: 0.230275\tvalid_0's RMSLE: 0.120415\n",
            "[746]\tvalid_0's l2: 0.230242\tvalid_0's RMSLE: 0.120407\n",
            "[747]\tvalid_0's l2: 0.230191\tvalid_0's RMSLE: 0.120395\n",
            "[748]\tvalid_0's l2: 0.230151\tvalid_0's RMSLE: 0.120385\n",
            "[749]\tvalid_0's l2: 0.230113\tvalid_0's RMSLE: 0.120375\n",
            "[750]\tvalid_0's l2: 0.230077\tvalid_0's RMSLE: 0.120367\n",
            "[751]\tvalid_0's l2: 0.230029\tvalid_0's RMSLE: 0.120355\n",
            "[752]\tvalid_0's l2: 0.229994\tvalid_0's RMSLE: 0.120346\n",
            "[753]\tvalid_0's l2: 0.229956\tvalid_0's RMSLE: 0.120337\n",
            "[754]\tvalid_0's l2: 0.229921\tvalid_0's RMSLE: 0.120328\n",
            "[755]\tvalid_0's l2: 0.229884\tvalid_0's RMSLE: 0.120318\n",
            "[756]\tvalid_0's l2: 0.229841\tvalid_0's RMSLE: 0.120306\n",
            "[757]\tvalid_0's l2: 0.229807\tvalid_0's RMSLE: 0.120298\n",
            "[758]\tvalid_0's l2: 0.229774\tvalid_0's RMSLE: 0.120289\n",
            "[759]\tvalid_0's l2: 0.229714\tvalid_0's RMSLE: 0.120273\n",
            "[760]\tvalid_0's l2: 0.229681\tvalid_0's RMSLE: 0.120264\n",
            "[761]\tvalid_0's l2: 0.229645\tvalid_0's RMSLE: 0.120254\n",
            "[762]\tvalid_0's l2: 0.229599\tvalid_0's RMSLE: 0.120245\n",
            "[763]\tvalid_0's l2: 0.229569\tvalid_0's RMSLE: 0.120237\n",
            "[764]\tvalid_0's l2: 0.229534\tvalid_0's RMSLE: 0.120228\n",
            "[765]\tvalid_0's l2: 0.229501\tvalid_0's RMSLE: 0.120218\n",
            "[766]\tvalid_0's l2: 0.229468\tvalid_0's RMSLE: 0.120211\n",
            "[767]\tvalid_0's l2: 0.229435\tvalid_0's RMSLE: 0.120204\n",
            "[768]\tvalid_0's l2: 0.2294\tvalid_0's RMSLE: 0.120195\n",
            "[769]\tvalid_0's l2: 0.229364\tvalid_0's RMSLE: 0.120186\n",
            "[770]\tvalid_0's l2: 0.229327\tvalid_0's RMSLE: 0.120177\n",
            "[771]\tvalid_0's l2: 0.229294\tvalid_0's RMSLE: 0.120169\n",
            "[772]\tvalid_0's l2: 0.22926\tvalid_0's RMSLE: 0.12016\n",
            "[773]\tvalid_0's l2: 0.229228\tvalid_0's RMSLE: 0.120151\n",
            "[774]\tvalid_0's l2: 0.229193\tvalid_0's RMSLE: 0.120141\n",
            "[775]\tvalid_0's l2: 0.229159\tvalid_0's RMSLE: 0.120133\n",
            "[776]\tvalid_0's l2: 0.229113\tvalid_0's RMSLE: 0.120123\n",
            "[777]\tvalid_0's l2: 0.229082\tvalid_0's RMSLE: 0.120114\n",
            "[778]\tvalid_0's l2: 0.22905\tvalid_0's RMSLE: 0.120106\n",
            "[779]\tvalid_0's l2: 0.229015\tvalid_0's RMSLE: 0.120097\n",
            "[780]\tvalid_0's l2: 0.228977\tvalid_0's RMSLE: 0.120088\n",
            "[781]\tvalid_0's l2: 0.228936\tvalid_0's RMSLE: 0.120078\n",
            "[782]\tvalid_0's l2: 0.2289\tvalid_0's RMSLE: 0.120069\n",
            "[783]\tvalid_0's l2: 0.228865\tvalid_0's RMSLE: 0.120061\n",
            "[784]\tvalid_0's l2: 0.228814\tvalid_0's RMSLE: 0.120047\n",
            "[785]\tvalid_0's l2: 0.228778\tvalid_0's RMSLE: 0.120038\n",
            "[786]\tvalid_0's l2: 0.228736\tvalid_0's RMSLE: 0.120028\n",
            "[787]\tvalid_0's l2: 0.228703\tvalid_0's RMSLE: 0.12002\n",
            "[788]\tvalid_0's l2: 0.228673\tvalid_0's RMSLE: 0.120011\n",
            "[789]\tvalid_0's l2: 0.228638\tvalid_0's RMSLE: 0.120004\n",
            "[790]\tvalid_0's l2: 0.228603\tvalid_0's RMSLE: 0.119995\n",
            "[791]\tvalid_0's l2: 0.228573\tvalid_0's RMSLE: 0.119987\n",
            "[792]\tvalid_0's l2: 0.228541\tvalid_0's RMSLE: 0.119979\n",
            "[793]\tvalid_0's l2: 0.228511\tvalid_0's RMSLE: 0.119971\n",
            "[794]\tvalid_0's l2: 0.228472\tvalid_0's RMSLE: 0.119962\n",
            "[795]\tvalid_0's l2: 0.228436\tvalid_0's RMSLE: 0.119954\n",
            "[796]\tvalid_0's l2: 0.228407\tvalid_0's RMSLE: 0.119947\n",
            "[797]\tvalid_0's l2: 0.22837\tvalid_0's RMSLE: 0.119937\n",
            "[798]\tvalid_0's l2: 0.228329\tvalid_0's RMSLE: 0.119927\n",
            "[799]\tvalid_0's l2: 0.228297\tvalid_0's RMSLE: 0.119918\n",
            "[800]\tvalid_0's l2: 0.228265\tvalid_0's RMSLE: 0.11991\n",
            "[801]\tvalid_0's l2: 0.228235\tvalid_0's RMSLE: 0.119901\n",
            "[802]\tvalid_0's l2: 0.228206\tvalid_0's RMSLE: 0.119894\n",
            "[803]\tvalid_0's l2: 0.228176\tvalid_0's RMSLE: 0.119885\n",
            "[804]\tvalid_0's l2: 0.22814\tvalid_0's RMSLE: 0.119875\n",
            "[805]\tvalid_0's l2: 0.228098\tvalid_0's RMSLE: 0.119866\n",
            "[806]\tvalid_0's l2: 0.22807\tvalid_0's RMSLE: 0.119859\n",
            "[807]\tvalid_0's l2: 0.22803\tvalid_0's RMSLE: 0.119849\n",
            "[808]\tvalid_0's l2: 0.228\tvalid_0's RMSLE: 0.119841\n",
            "[809]\tvalid_0's l2: 0.227964\tvalid_0's RMSLE: 0.119832\n",
            "[810]\tvalid_0's l2: 0.227928\tvalid_0's RMSLE: 0.119823\n",
            "[811]\tvalid_0's l2: 0.22789\tvalid_0's RMSLE: 0.119814\n",
            "[812]\tvalid_0's l2: 0.227856\tvalid_0's RMSLE: 0.119806\n",
            "[813]\tvalid_0's l2: 0.227821\tvalid_0's RMSLE: 0.119797\n",
            "[814]\tvalid_0's l2: 0.227785\tvalid_0's RMSLE: 0.119788\n",
            "[815]\tvalid_0's l2: 0.22774\tvalid_0's RMSLE: 0.119776\n",
            "[816]\tvalid_0's l2: 0.227711\tvalid_0's RMSLE: 0.119769\n",
            "[817]\tvalid_0's l2: 0.22767\tvalid_0's RMSLE: 0.119759\n",
            "[818]\tvalid_0's l2: 0.227634\tvalid_0's RMSLE: 0.119749\n",
            "[819]\tvalid_0's l2: 0.227604\tvalid_0's RMSLE: 0.119741\n",
            "[820]\tvalid_0's l2: 0.227572\tvalid_0's RMSLE: 0.119733\n",
            "[821]\tvalid_0's l2: 0.227537\tvalid_0's RMSLE: 0.119725\n",
            "[822]\tvalid_0's l2: 0.227504\tvalid_0's RMSLE: 0.119716\n",
            "[823]\tvalid_0's l2: 0.227465\tvalid_0's RMSLE: 0.119707\n",
            "[824]\tvalid_0's l2: 0.227423\tvalid_0's RMSLE: 0.119697\n",
            "[825]\tvalid_0's l2: 0.22738\tvalid_0's RMSLE: 0.119686\n",
            "[826]\tvalid_0's l2: 0.22734\tvalid_0's RMSLE: 0.119676\n",
            "[827]\tvalid_0's l2: 0.227309\tvalid_0's RMSLE: 0.119668\n",
            "[828]\tvalid_0's l2: 0.22728\tvalid_0's RMSLE: 0.119661\n",
            "[829]\tvalid_0's l2: 0.227245\tvalid_0's RMSLE: 0.119653\n",
            "[830]\tvalid_0's l2: 0.227214\tvalid_0's RMSLE: 0.119645\n",
            "[831]\tvalid_0's l2: 0.227182\tvalid_0's RMSLE: 0.119637\n",
            "[832]\tvalid_0's l2: 0.227151\tvalid_0's RMSLE: 0.119628\n",
            "[833]\tvalid_0's l2: 0.22711\tvalid_0's RMSLE: 0.119619\n",
            "[834]\tvalid_0's l2: 0.227078\tvalid_0's RMSLE: 0.11961\n",
            "[835]\tvalid_0's l2: 0.227042\tvalid_0's RMSLE: 0.119601\n",
            "[836]\tvalid_0's l2: 0.227006\tvalid_0's RMSLE: 0.119592\n",
            "[837]\tvalid_0's l2: 0.226962\tvalid_0's RMSLE: 0.119581\n",
            "[838]\tvalid_0's l2: 0.226932\tvalid_0's RMSLE: 0.119573\n",
            "[839]\tvalid_0's l2: 0.2269\tvalid_0's RMSLE: 0.119565\n",
            "[840]\tvalid_0's l2: 0.226864\tvalid_0's RMSLE: 0.119556\n",
            "[841]\tvalid_0's l2: 0.22683\tvalid_0's RMSLE: 0.119548\n",
            "[842]\tvalid_0's l2: 0.226798\tvalid_0's RMSLE: 0.11954\n",
            "[843]\tvalid_0's l2: 0.226765\tvalid_0's RMSLE: 0.119532\n",
            "[844]\tvalid_0's l2: 0.22673\tvalid_0's RMSLE: 0.119523\n",
            "[845]\tvalid_0's l2: 0.226703\tvalid_0's RMSLE: 0.119516\n",
            "[846]\tvalid_0's l2: 0.226668\tvalid_0's RMSLE: 0.119507\n",
            "[847]\tvalid_0's l2: 0.226638\tvalid_0's RMSLE: 0.1195\n",
            "[848]\tvalid_0's l2: 0.226597\tvalid_0's RMSLE: 0.119491\n",
            "[849]\tvalid_0's l2: 0.226563\tvalid_0's RMSLE: 0.119483\n",
            "[850]\tvalid_0's l2: 0.226524\tvalid_0's RMSLE: 0.119473\n",
            "[851]\tvalid_0's l2: 0.226499\tvalid_0's RMSLE: 0.119467\n",
            "[852]\tvalid_0's l2: 0.226469\tvalid_0's RMSLE: 0.11946\n",
            "[853]\tvalid_0's l2: 0.226439\tvalid_0's RMSLE: 0.119452\n",
            "[854]\tvalid_0's l2: 0.226408\tvalid_0's RMSLE: 0.119445\n",
            "[855]\tvalid_0's l2: 0.226377\tvalid_0's RMSLE: 0.119436\n",
            "[856]\tvalid_0's l2: 0.226348\tvalid_0's RMSLE: 0.119429\n",
            "[857]\tvalid_0's l2: 0.226313\tvalid_0's RMSLE: 0.11942\n",
            "[858]\tvalid_0's l2: 0.226282\tvalid_0's RMSLE: 0.119411\n",
            "[859]\tvalid_0's l2: 0.226251\tvalid_0's RMSLE: 0.119403\n",
            "[860]\tvalid_0's l2: 0.226221\tvalid_0's RMSLE: 0.119395\n",
            "[861]\tvalid_0's l2: 0.226189\tvalid_0's RMSLE: 0.119387\n",
            "[862]\tvalid_0's l2: 0.226158\tvalid_0's RMSLE: 0.119379\n",
            "[863]\tvalid_0's l2: 0.226128\tvalid_0's RMSLE: 0.119372\n",
            "[864]\tvalid_0's l2: 0.226078\tvalid_0's RMSLE: 0.119359\n",
            "[865]\tvalid_0's l2: 0.226042\tvalid_0's RMSLE: 0.11935\n",
            "[866]\tvalid_0's l2: 0.226012\tvalid_0's RMSLE: 0.119342\n",
            "[867]\tvalid_0's l2: 0.22598\tvalid_0's RMSLE: 0.119334\n",
            "[868]\tvalid_0's l2: 0.225949\tvalid_0's RMSLE: 0.119326\n",
            "[869]\tvalid_0's l2: 0.225918\tvalid_0's RMSLE: 0.119318\n",
            "[870]\tvalid_0's l2: 0.22589\tvalid_0's RMSLE: 0.119311\n",
            "[871]\tvalid_0's l2: 0.225864\tvalid_0's RMSLE: 0.119305\n",
            "[872]\tvalid_0's l2: 0.225836\tvalid_0's RMSLE: 0.119297\n",
            "[873]\tvalid_0's l2: 0.225809\tvalid_0's RMSLE: 0.11929\n",
            "[874]\tvalid_0's l2: 0.225772\tvalid_0's RMSLE: 0.11928\n",
            "[875]\tvalid_0's l2: 0.225729\tvalid_0's RMSLE: 0.119269\n",
            "[876]\tvalid_0's l2: 0.225703\tvalid_0's RMSLE: 0.119262\n",
            "[877]\tvalid_0's l2: 0.225663\tvalid_0's RMSLE: 0.119253\n",
            "[878]\tvalid_0's l2: 0.225637\tvalid_0's RMSLE: 0.119247\n",
            "[879]\tvalid_0's l2: 0.225598\tvalid_0's RMSLE: 0.119237\n",
            "[880]\tvalid_0's l2: 0.225567\tvalid_0's RMSLE: 0.119229\n",
            "[881]\tvalid_0's l2: 0.225537\tvalid_0's RMSLE: 0.119223\n",
            "[882]\tvalid_0's l2: 0.225511\tvalid_0's RMSLE: 0.119215\n",
            "[883]\tvalid_0's l2: 0.225483\tvalid_0's RMSLE: 0.119209\n",
            "[884]\tvalid_0's l2: 0.225454\tvalid_0's RMSLE: 0.119201\n",
            "[885]\tvalid_0's l2: 0.225425\tvalid_0's RMSLE: 0.119193\n",
            "[886]\tvalid_0's l2: 0.225395\tvalid_0's RMSLE: 0.119185\n",
            "[887]\tvalid_0's l2: 0.225361\tvalid_0's RMSLE: 0.119178\n",
            "[888]\tvalid_0's l2: 0.225334\tvalid_0's RMSLE: 0.11917\n",
            "[889]\tvalid_0's l2: 0.2253\tvalid_0's RMSLE: 0.119162\n",
            "[890]\tvalid_0's l2: 0.22527\tvalid_0's RMSLE: 0.119155\n",
            "[891]\tvalid_0's l2: 0.225241\tvalid_0's RMSLE: 0.119148\n",
            "[892]\tvalid_0's l2: 0.225208\tvalid_0's RMSLE: 0.119139\n",
            "[893]\tvalid_0's l2: 0.225178\tvalid_0's RMSLE: 0.119132\n",
            "[894]\tvalid_0's l2: 0.225149\tvalid_0's RMSLE: 0.119125\n",
            "[895]\tvalid_0's l2: 0.22512\tvalid_0's RMSLE: 0.119118\n",
            "[896]\tvalid_0's l2: 0.225084\tvalid_0's RMSLE: 0.11911\n",
            "[897]\tvalid_0's l2: 0.225035\tvalid_0's RMSLE: 0.119095\n",
            "[898]\tvalid_0's l2: 0.225004\tvalid_0's RMSLE: 0.119087\n",
            "[899]\tvalid_0's l2: 0.224972\tvalid_0's RMSLE: 0.119079\n",
            "[900]\tvalid_0's l2: 0.224936\tvalid_0's RMSLE: 0.11907\n",
            "[901]\tvalid_0's l2: 0.224906\tvalid_0's RMSLE: 0.119063\n",
            "[902]\tvalid_0's l2: 0.224877\tvalid_0's RMSLE: 0.119054\n",
            "[903]\tvalid_0's l2: 0.224847\tvalid_0's RMSLE: 0.119046\n",
            "[904]\tvalid_0's l2: 0.224823\tvalid_0's RMSLE: 0.11904\n",
            "[905]\tvalid_0's l2: 0.224796\tvalid_0's RMSLE: 0.119033\n",
            "[906]\tvalid_0's l2: 0.224766\tvalid_0's RMSLE: 0.119025\n",
            "[907]\tvalid_0's l2: 0.224727\tvalid_0's RMSLE: 0.119016\n",
            "[908]\tvalid_0's l2: 0.224693\tvalid_0's RMSLE: 0.119007\n",
            "[909]\tvalid_0's l2: 0.224663\tvalid_0's RMSLE: 0.118999\n",
            "[910]\tvalid_0's l2: 0.224635\tvalid_0's RMSLE: 0.118991\n",
            "[911]\tvalid_0's l2: 0.2246\tvalid_0's RMSLE: 0.118982\n",
            "[912]\tvalid_0's l2: 0.224571\tvalid_0's RMSLE: 0.118974\n",
            "[913]\tvalid_0's l2: 0.224541\tvalid_0's RMSLE: 0.118966\n",
            "[914]\tvalid_0's l2: 0.224509\tvalid_0's RMSLE: 0.118958\n",
            "[915]\tvalid_0's l2: 0.224482\tvalid_0's RMSLE: 0.118951\n",
            "[916]\tvalid_0's l2: 0.224455\tvalid_0's RMSLE: 0.118944\n",
            "[917]\tvalid_0's l2: 0.224429\tvalid_0's RMSLE: 0.118938\n",
            "[918]\tvalid_0's l2: 0.224398\tvalid_0's RMSLE: 0.118931\n",
            "[919]\tvalid_0's l2: 0.224377\tvalid_0's RMSLE: 0.118925\n",
            "[920]\tvalid_0's l2: 0.224343\tvalid_0's RMSLE: 0.118916\n",
            "[921]\tvalid_0's l2: 0.224313\tvalid_0's RMSLE: 0.118909\n",
            "[922]\tvalid_0's l2: 0.224286\tvalid_0's RMSLE: 0.118902\n",
            "[923]\tvalid_0's l2: 0.224258\tvalid_0's RMSLE: 0.118894\n",
            "[924]\tvalid_0's l2: 0.224228\tvalid_0's RMSLE: 0.118887\n",
            "[925]\tvalid_0's l2: 0.224202\tvalid_0's RMSLE: 0.11888\n",
            "[926]\tvalid_0's l2: 0.224173\tvalid_0's RMSLE: 0.118872\n",
            "[927]\tvalid_0's l2: 0.224142\tvalid_0's RMSLE: 0.118864\n",
            "[928]\tvalid_0's l2: 0.224119\tvalid_0's RMSLE: 0.118857\n",
            "[929]\tvalid_0's l2: 0.224092\tvalid_0's RMSLE: 0.118851\n",
            "[930]\tvalid_0's l2: 0.22406\tvalid_0's RMSLE: 0.118843\n",
            "[931]\tvalid_0's l2: 0.224028\tvalid_0's RMSLE: 0.118836\n",
            "[932]\tvalid_0's l2: 0.223994\tvalid_0's RMSLE: 0.118828\n",
            "[933]\tvalid_0's l2: 0.223962\tvalid_0's RMSLE: 0.118821\n",
            "[934]\tvalid_0's l2: 0.223931\tvalid_0's RMSLE: 0.118813\n",
            "[935]\tvalid_0's l2: 0.223904\tvalid_0's RMSLE: 0.118806\n",
            "[936]\tvalid_0's l2: 0.223876\tvalid_0's RMSLE: 0.118798\n",
            "[937]\tvalid_0's l2: 0.223849\tvalid_0's RMSLE: 0.118792\n",
            "[938]\tvalid_0's l2: 0.223822\tvalid_0's RMSLE: 0.118785\n",
            "[939]\tvalid_0's l2: 0.223796\tvalid_0's RMSLE: 0.118779\n",
            "[940]\tvalid_0's l2: 0.223766\tvalid_0's RMSLE: 0.118772\n",
            "[941]\tvalid_0's l2: 0.223733\tvalid_0's RMSLE: 0.118763\n",
            "[942]\tvalid_0's l2: 0.223704\tvalid_0's RMSLE: 0.118756\n",
            "[943]\tvalid_0's l2: 0.223682\tvalid_0's RMSLE: 0.11875\n",
            "[944]\tvalid_0's l2: 0.223653\tvalid_0's RMSLE: 0.118743\n",
            "[945]\tvalid_0's l2: 0.223629\tvalid_0's RMSLE: 0.118736\n",
            "[946]\tvalid_0's l2: 0.223597\tvalid_0's RMSLE: 0.118727\n",
            "[947]\tvalid_0's l2: 0.223573\tvalid_0's RMSLE: 0.11872\n",
            "[948]\tvalid_0's l2: 0.223544\tvalid_0's RMSLE: 0.118712\n",
            "[949]\tvalid_0's l2: 0.223519\tvalid_0's RMSLE: 0.118706\n",
            "[950]\tvalid_0's l2: 0.223491\tvalid_0's RMSLE: 0.118699\n",
            "[951]\tvalid_0's l2: 0.223465\tvalid_0's RMSLE: 0.118693\n",
            "[952]\tvalid_0's l2: 0.223442\tvalid_0's RMSLE: 0.118687\n",
            "[953]\tvalid_0's l2: 0.223412\tvalid_0's RMSLE: 0.118679\n",
            "[954]\tvalid_0's l2: 0.223366\tvalid_0's RMSLE: 0.118666\n",
            "[955]\tvalid_0's l2: 0.22334\tvalid_0's RMSLE: 0.118659\n",
            "[956]\tvalid_0's l2: 0.223317\tvalid_0's RMSLE: 0.118652\n",
            "[957]\tvalid_0's l2: 0.223288\tvalid_0's RMSLE: 0.118645\n",
            "[958]\tvalid_0's l2: 0.223263\tvalid_0's RMSLE: 0.118638\n",
            "[959]\tvalid_0's l2: 0.223234\tvalid_0's RMSLE: 0.11863\n",
            "[960]\tvalid_0's l2: 0.223207\tvalid_0's RMSLE: 0.118623\n",
            "[961]\tvalid_0's l2: 0.223176\tvalid_0's RMSLE: 0.118616\n",
            "[962]\tvalid_0's l2: 0.223149\tvalid_0's RMSLE: 0.118608\n",
            "[963]\tvalid_0's l2: 0.223121\tvalid_0's RMSLE: 0.118601\n",
            "[964]\tvalid_0's l2: 0.223092\tvalid_0's RMSLE: 0.118594\n",
            "[965]\tvalid_0's l2: 0.223063\tvalid_0's RMSLE: 0.118587\n",
            "[966]\tvalid_0's l2: 0.223025\tvalid_0's RMSLE: 0.118577\n",
            "[967]\tvalid_0's l2: 0.222991\tvalid_0's RMSLE: 0.11857\n",
            "[968]\tvalid_0's l2: 0.222966\tvalid_0's RMSLE: 0.118564\n",
            "[969]\tvalid_0's l2: 0.222938\tvalid_0's RMSLE: 0.118557\n",
            "[970]\tvalid_0's l2: 0.222914\tvalid_0's RMSLE: 0.11855\n",
            "[971]\tvalid_0's l2: 0.222889\tvalid_0's RMSLE: 0.118544\n",
            "[972]\tvalid_0's l2: 0.222863\tvalid_0's RMSLE: 0.118537\n",
            "[973]\tvalid_0's l2: 0.222838\tvalid_0's RMSLE: 0.118531\n",
            "[974]\tvalid_0's l2: 0.222815\tvalid_0's RMSLE: 0.118524\n",
            "[975]\tvalid_0's l2: 0.222789\tvalid_0's RMSLE: 0.118518\n",
            "[976]\tvalid_0's l2: 0.222762\tvalid_0's RMSLE: 0.118511\n",
            "[977]\tvalid_0's l2: 0.222727\tvalid_0's RMSLE: 0.118503\n",
            "[978]\tvalid_0's l2: 0.222701\tvalid_0's RMSLE: 0.118496\n",
            "[979]\tvalid_0's l2: 0.222676\tvalid_0's RMSLE: 0.11849\n",
            "[980]\tvalid_0's l2: 0.222648\tvalid_0's RMSLE: 0.118482\n",
            "[981]\tvalid_0's l2: 0.222619\tvalid_0's RMSLE: 0.118475\n",
            "[982]\tvalid_0's l2: 0.222597\tvalid_0's RMSLE: 0.118468\n",
            "[983]\tvalid_0's l2: 0.22257\tvalid_0's RMSLE: 0.118462\n",
            "[984]\tvalid_0's l2: 0.222546\tvalid_0's RMSLE: 0.118455\n",
            "[985]\tvalid_0's l2: 0.222524\tvalid_0's RMSLE: 0.11845\n",
            "[986]\tvalid_0's l2: 0.222499\tvalid_0's RMSLE: 0.118444\n",
            "[987]\tvalid_0's l2: 0.222459\tvalid_0's RMSLE: 0.118435\n",
            "[988]\tvalid_0's l2: 0.222431\tvalid_0's RMSLE: 0.118428\n",
            "[989]\tvalid_0's l2: 0.222405\tvalid_0's RMSLE: 0.118421\n",
            "[990]\tvalid_0's l2: 0.22238\tvalid_0's RMSLE: 0.118415\n",
            "[991]\tvalid_0's l2: 0.222355\tvalid_0's RMSLE: 0.118409\n",
            "[992]\tvalid_0's l2: 0.222333\tvalid_0's RMSLE: 0.118403\n",
            "[993]\tvalid_0's l2: 0.222311\tvalid_0's RMSLE: 0.118398\n",
            "[994]\tvalid_0's l2: 0.222283\tvalid_0's RMSLE: 0.11839\n",
            "[995]\tvalid_0's l2: 0.22226\tvalid_0's RMSLE: 0.118384\n",
            "[996]\tvalid_0's l2: 0.222234\tvalid_0's RMSLE: 0.118378\n",
            "[997]\tvalid_0's l2: 0.222204\tvalid_0's RMSLE: 0.118371\n",
            "[998]\tvalid_0's l2: 0.222176\tvalid_0's RMSLE: 0.118364\n",
            "[999]\tvalid_0's l2: 0.222147\tvalid_0's RMSLE: 0.118356\n",
            "[1000]\tvalid_0's l2: 0.222119\tvalid_0's RMSLE: 0.118348\n",
            "[1001]\tvalid_0's l2: 0.222092\tvalid_0's RMSLE: 0.118341\n",
            "[1002]\tvalid_0's l2: 0.222066\tvalid_0's RMSLE: 0.118334\n",
            "[1003]\tvalid_0's l2: 0.222036\tvalid_0's RMSLE: 0.118327\n",
            "[1004]\tvalid_0's l2: 0.222006\tvalid_0's RMSLE: 0.118319\n",
            "[1005]\tvalid_0's l2: 0.221984\tvalid_0's RMSLE: 0.118313\n",
            "[1006]\tvalid_0's l2: 0.221962\tvalid_0's RMSLE: 0.118307\n",
            "[1007]\tvalid_0's l2: 0.22194\tvalid_0's RMSLE: 0.118302\n",
            "[1008]\tvalid_0's l2: 0.221913\tvalid_0's RMSLE: 0.118295\n",
            "[1009]\tvalid_0's l2: 0.221892\tvalid_0's RMSLE: 0.118289\n",
            "[1010]\tvalid_0's l2: 0.221871\tvalid_0's RMSLE: 0.118284\n",
            "[1011]\tvalid_0's l2: 0.221846\tvalid_0's RMSLE: 0.118278\n",
            "[1012]\tvalid_0's l2: 0.221823\tvalid_0's RMSLE: 0.118271\n",
            "[1013]\tvalid_0's l2: 0.221794\tvalid_0's RMSLE: 0.118264\n",
            "[1014]\tvalid_0's l2: 0.221768\tvalid_0's RMSLE: 0.118257\n",
            "[1015]\tvalid_0's l2: 0.221741\tvalid_0's RMSLE: 0.11825\n",
            "[1016]\tvalid_0's l2: 0.221711\tvalid_0's RMSLE: 0.118244\n",
            "[1017]\tvalid_0's l2: 0.221691\tvalid_0's RMSLE: 0.118239\n",
            "[1018]\tvalid_0's l2: 0.221661\tvalid_0's RMSLE: 0.118232\n",
            "[1019]\tvalid_0's l2: 0.221639\tvalid_0's RMSLE: 0.118226\n",
            "[1020]\tvalid_0's l2: 0.221617\tvalid_0's RMSLE: 0.11822\n",
            "[1021]\tvalid_0's l2: 0.221593\tvalid_0's RMSLE: 0.118214\n",
            "[1022]\tvalid_0's l2: 0.221561\tvalid_0's RMSLE: 0.118207\n",
            "[1023]\tvalid_0's l2: 0.221536\tvalid_0's RMSLE: 0.1182\n",
            "[1024]\tvalid_0's l2: 0.221512\tvalid_0's RMSLE: 0.118194\n",
            "[1025]\tvalid_0's l2: 0.221485\tvalid_0's RMSLE: 0.118187\n",
            "[1026]\tvalid_0's l2: 0.221462\tvalid_0's RMSLE: 0.118181\n",
            "[1027]\tvalid_0's l2: 0.221438\tvalid_0's RMSLE: 0.118175\n",
            "[1028]\tvalid_0's l2: 0.221412\tvalid_0's RMSLE: 0.118168\n",
            "[1029]\tvalid_0's l2: 0.221389\tvalid_0's RMSLE: 0.118162\n",
            "[1030]\tvalid_0's l2: 0.221366\tvalid_0's RMSLE: 0.118156\n",
            "[1031]\tvalid_0's l2: 0.221341\tvalid_0's RMSLE: 0.11815\n",
            "[1032]\tvalid_0's l2: 0.221312\tvalid_0's RMSLE: 0.118143\n",
            "[1033]\tvalid_0's l2: 0.221287\tvalid_0's RMSLE: 0.118136\n",
            "[1034]\tvalid_0's l2: 0.221253\tvalid_0's RMSLE: 0.118125\n",
            "[1035]\tvalid_0's l2: 0.221226\tvalid_0's RMSLE: 0.118118\n",
            "[1036]\tvalid_0's l2: 0.221206\tvalid_0's RMSLE: 0.118112\n",
            "[1037]\tvalid_0's l2: 0.22117\tvalid_0's RMSLE: 0.118103\n",
            "[1038]\tvalid_0's l2: 0.221146\tvalid_0's RMSLE: 0.118097\n",
            "[1039]\tvalid_0's l2: 0.221124\tvalid_0's RMSLE: 0.118091\n",
            "[1040]\tvalid_0's l2: 0.221101\tvalid_0's RMSLE: 0.118086\n",
            "[1041]\tvalid_0's l2: 0.221077\tvalid_0's RMSLE: 0.118079\n",
            "[1042]\tvalid_0's l2: 0.221052\tvalid_0's RMSLE: 0.118074\n",
            "[1043]\tvalid_0's l2: 0.221023\tvalid_0's RMSLE: 0.118067\n",
            "[1044]\tvalid_0's l2: 0.221003\tvalid_0's RMSLE: 0.118062\n",
            "[1045]\tvalid_0's l2: 0.220984\tvalid_0's RMSLE: 0.118057\n",
            "[1046]\tvalid_0's l2: 0.220963\tvalid_0's RMSLE: 0.118052\n",
            "[1047]\tvalid_0's l2: 0.220937\tvalid_0's RMSLE: 0.118046\n",
            "[1048]\tvalid_0's l2: 0.220914\tvalid_0's RMSLE: 0.11804\n",
            "[1049]\tvalid_0's l2: 0.220894\tvalid_0's RMSLE: 0.118034\n",
            "[1050]\tvalid_0's l2: 0.220864\tvalid_0's RMSLE: 0.118027\n",
            "[1051]\tvalid_0's l2: 0.220844\tvalid_0's RMSLE: 0.118022\n",
            "[1052]\tvalid_0's l2: 0.220818\tvalid_0's RMSLE: 0.118016\n",
            "[1053]\tvalid_0's l2: 0.220795\tvalid_0's RMSLE: 0.118011\n",
            "[1054]\tvalid_0's l2: 0.220771\tvalid_0's RMSLE: 0.118004\n",
            "[1055]\tvalid_0's l2: 0.220751\tvalid_0's RMSLE: 0.117999\n",
            "[1056]\tvalid_0's l2: 0.220726\tvalid_0's RMSLE: 0.117991\n",
            "[1057]\tvalid_0's l2: 0.220704\tvalid_0's RMSLE: 0.117986\n",
            "[1058]\tvalid_0's l2: 0.220679\tvalid_0's RMSLE: 0.117979\n",
            "[1059]\tvalid_0's l2: 0.220658\tvalid_0's RMSLE: 0.117974\n",
            "[1060]\tvalid_0's l2: 0.220636\tvalid_0's RMSLE: 0.117967\n",
            "[1061]\tvalid_0's l2: 0.220607\tvalid_0's RMSLE: 0.117961\n",
            "[1062]\tvalid_0's l2: 0.220583\tvalid_0's RMSLE: 0.117955\n",
            "[1063]\tvalid_0's l2: 0.220559\tvalid_0's RMSLE: 0.117948\n",
            "[1064]\tvalid_0's l2: 0.220539\tvalid_0's RMSLE: 0.117942\n",
            "[1065]\tvalid_0's l2: 0.220518\tvalid_0's RMSLE: 0.117936\n",
            "[1066]\tvalid_0's l2: 0.220494\tvalid_0's RMSLE: 0.11793\n",
            "[1067]\tvalid_0's l2: 0.220472\tvalid_0's RMSLE: 0.117924\n",
            "[1068]\tvalid_0's l2: 0.220449\tvalid_0's RMSLE: 0.117918\n",
            "[1069]\tvalid_0's l2: 0.220426\tvalid_0's RMSLE: 0.117912\n",
            "[1070]\tvalid_0's l2: 0.2204\tvalid_0's RMSLE: 0.117905\n",
            "[1071]\tvalid_0's l2: 0.220357\tvalid_0's RMSLE: 0.117893\n",
            "[1072]\tvalid_0's l2: 0.220337\tvalid_0's RMSLE: 0.117888\n",
            "[1073]\tvalid_0's l2: 0.220317\tvalid_0's RMSLE: 0.117882\n",
            "[1074]\tvalid_0's l2: 0.220299\tvalid_0's RMSLE: 0.117877\n",
            "[1075]\tvalid_0's l2: 0.220276\tvalid_0's RMSLE: 0.11787\n",
            "[1076]\tvalid_0's l2: 0.220254\tvalid_0's RMSLE: 0.117864\n",
            "[1077]\tvalid_0's l2: 0.22023\tvalid_0's RMSLE: 0.117858\n",
            "[1078]\tvalid_0's l2: 0.220209\tvalid_0's RMSLE: 0.117853\n",
            "[1079]\tvalid_0's l2: 0.220185\tvalid_0's RMSLE: 0.117846\n",
            "[1080]\tvalid_0's l2: 0.220164\tvalid_0's RMSLE: 0.117842\n",
            "[1081]\tvalid_0's l2: 0.220137\tvalid_0's RMSLE: 0.117834\n",
            "[1082]\tvalid_0's l2: 0.220111\tvalid_0's RMSLE: 0.117827\n",
            "[1083]\tvalid_0's l2: 0.220089\tvalid_0's RMSLE: 0.117821\n",
            "[1084]\tvalid_0's l2: 0.220068\tvalid_0's RMSLE: 0.117815\n",
            "[1085]\tvalid_0's l2: 0.220048\tvalid_0's RMSLE: 0.11781\n",
            "[1086]\tvalid_0's l2: 0.220025\tvalid_0's RMSLE: 0.117804\n",
            "[1087]\tvalid_0's l2: 0.219995\tvalid_0's RMSLE: 0.117796\n",
            "[1088]\tvalid_0's l2: 0.219972\tvalid_0's RMSLE: 0.117791\n",
            "[1089]\tvalid_0's l2: 0.219947\tvalid_0's RMSLE: 0.117785\n",
            "[1090]\tvalid_0's l2: 0.219923\tvalid_0's RMSLE: 0.117779\n",
            "[1091]\tvalid_0's l2: 0.219901\tvalid_0's RMSLE: 0.117773\n",
            "[1092]\tvalid_0's l2: 0.219878\tvalid_0's RMSLE: 0.117766\n",
            "[1093]\tvalid_0's l2: 0.219858\tvalid_0's RMSLE: 0.117762\n",
            "[1094]\tvalid_0's l2: 0.21983\tvalid_0's RMSLE: 0.117755\n",
            "[1095]\tvalid_0's l2: 0.21981\tvalid_0's RMSLE: 0.117749\n",
            "[1096]\tvalid_0's l2: 0.219788\tvalid_0's RMSLE: 0.117744\n",
            "[1097]\tvalid_0's l2: 0.219768\tvalid_0's RMSLE: 0.117738\n",
            "[1098]\tvalid_0's l2: 0.219744\tvalid_0's RMSLE: 0.117733\n",
            "[1099]\tvalid_0's l2: 0.21972\tvalid_0's RMSLE: 0.117725\n",
            "[1100]\tvalid_0's l2: 0.219696\tvalid_0's RMSLE: 0.11772\n",
            "[1101]\tvalid_0's l2: 0.219671\tvalid_0's RMSLE: 0.117714\n",
            "[1102]\tvalid_0's l2: 0.219647\tvalid_0's RMSLE: 0.117708\n",
            "[1103]\tvalid_0's l2: 0.219625\tvalid_0's RMSLE: 0.117702\n",
            "[1104]\tvalid_0's l2: 0.219604\tvalid_0's RMSLE: 0.117697\n",
            "[1105]\tvalid_0's l2: 0.21958\tvalid_0's RMSLE: 0.11769\n",
            "[1106]\tvalid_0's l2: 0.219557\tvalid_0's RMSLE: 0.117685\n",
            "[1107]\tvalid_0's l2: 0.219538\tvalid_0's RMSLE: 0.11768\n",
            "[1108]\tvalid_0's l2: 0.219518\tvalid_0's RMSLE: 0.117675\n",
            "[1109]\tvalid_0's l2: 0.219498\tvalid_0's RMSLE: 0.117669\n",
            "[1110]\tvalid_0's l2: 0.219477\tvalid_0's RMSLE: 0.117664\n",
            "[1111]\tvalid_0's l2: 0.219458\tvalid_0's RMSLE: 0.117659\n",
            "[1112]\tvalid_0's l2: 0.219434\tvalid_0's RMSLE: 0.117653\n",
            "[1113]\tvalid_0's l2: 0.219416\tvalid_0's RMSLE: 0.117648\n",
            "[1114]\tvalid_0's l2: 0.219395\tvalid_0's RMSLE: 0.117643\n",
            "[1115]\tvalid_0's l2: 0.219346\tvalid_0's RMSLE: 0.117627\n",
            "[1116]\tvalid_0's l2: 0.219324\tvalid_0's RMSLE: 0.117622\n",
            "[1117]\tvalid_0's l2: 0.219297\tvalid_0's RMSLE: 0.117616\n",
            "[1118]\tvalid_0's l2: 0.219274\tvalid_0's RMSLE: 0.11761\n",
            "[1119]\tvalid_0's l2: 0.219248\tvalid_0's RMSLE: 0.117603\n",
            "[1120]\tvalid_0's l2: 0.219228\tvalid_0's RMSLE: 0.117598\n",
            "[1121]\tvalid_0's l2: 0.219203\tvalid_0's RMSLE: 0.117591\n",
            "[1122]\tvalid_0's l2: 0.219184\tvalid_0's RMSLE: 0.117586\n",
            "[1123]\tvalid_0's l2: 0.219166\tvalid_0's RMSLE: 0.11758\n",
            "[1124]\tvalid_0's l2: 0.219137\tvalid_0's RMSLE: 0.117573\n",
            "[1125]\tvalid_0's l2: 0.219118\tvalid_0's RMSLE: 0.117568\n",
            "[1126]\tvalid_0's l2: 0.2191\tvalid_0's RMSLE: 0.117562\n",
            "[1127]\tvalid_0's l2: 0.21908\tvalid_0's RMSLE: 0.117558\n",
            "[1128]\tvalid_0's l2: 0.219056\tvalid_0's RMSLE: 0.117552\n",
            "[1129]\tvalid_0's l2: 0.219035\tvalid_0's RMSLE: 0.117548\n",
            "[1130]\tvalid_0's l2: 0.219011\tvalid_0's RMSLE: 0.117541\n",
            "[1131]\tvalid_0's l2: 0.218991\tvalid_0's RMSLE: 0.117536\n",
            "[1132]\tvalid_0's l2: 0.218975\tvalid_0's RMSLE: 0.117532\n",
            "[1133]\tvalid_0's l2: 0.218952\tvalid_0's RMSLE: 0.117526\n",
            "[1134]\tvalid_0's l2: 0.218937\tvalid_0's RMSLE: 0.117521\n",
            "[1135]\tvalid_0's l2: 0.218918\tvalid_0's RMSLE: 0.117516\n",
            "[1136]\tvalid_0's l2: 0.218898\tvalid_0's RMSLE: 0.117512\n",
            "[1137]\tvalid_0's l2: 0.218879\tvalid_0's RMSLE: 0.117506\n",
            "[1138]\tvalid_0's l2: 0.218851\tvalid_0's RMSLE: 0.117501\n",
            "[1139]\tvalid_0's l2: 0.218828\tvalid_0's RMSLE: 0.117494\n",
            "[1140]\tvalid_0's l2: 0.218801\tvalid_0's RMSLE: 0.117488\n",
            "[1141]\tvalid_0's l2: 0.218779\tvalid_0's RMSLE: 0.117482\n",
            "[1142]\tvalid_0's l2: 0.218756\tvalid_0's RMSLE: 0.117476\n",
            "[1143]\tvalid_0's l2: 0.218734\tvalid_0's RMSLE: 0.11747\n",
            "[1144]\tvalid_0's l2: 0.218713\tvalid_0's RMSLE: 0.117464\n",
            "[1145]\tvalid_0's l2: 0.218688\tvalid_0's RMSLE: 0.117458\n",
            "[1146]\tvalid_0's l2: 0.218665\tvalid_0's RMSLE: 0.117452\n",
            "[1147]\tvalid_0's l2: 0.218645\tvalid_0's RMSLE: 0.117446\n",
            "[1148]\tvalid_0's l2: 0.21862\tvalid_0's RMSLE: 0.11744\n",
            "[1149]\tvalid_0's l2: 0.2186\tvalid_0's RMSLE: 0.117435\n",
            "[1150]\tvalid_0's l2: 0.218578\tvalid_0's RMSLE: 0.117429\n",
            "[1151]\tvalid_0's l2: 0.21856\tvalid_0's RMSLE: 0.117424\n",
            "[1152]\tvalid_0's l2: 0.21854\tvalid_0's RMSLE: 0.117419\n",
            "[1153]\tvalid_0's l2: 0.218517\tvalid_0's RMSLE: 0.117413\n",
            "[1154]\tvalid_0's l2: 0.218495\tvalid_0's RMSLE: 0.117407\n",
            "[1155]\tvalid_0's l2: 0.218473\tvalid_0's RMSLE: 0.117402\n",
            "[1156]\tvalid_0's l2: 0.218447\tvalid_0's RMSLE: 0.117394\n",
            "[1157]\tvalid_0's l2: 0.218419\tvalid_0's RMSLE: 0.117388\n",
            "[1158]\tvalid_0's l2: 0.218395\tvalid_0's RMSLE: 0.117382\n",
            "[1159]\tvalid_0's l2: 0.218376\tvalid_0's RMSLE: 0.117377\n",
            "[1160]\tvalid_0's l2: 0.21835\tvalid_0's RMSLE: 0.11737\n",
            "[1161]\tvalid_0's l2: 0.218328\tvalid_0's RMSLE: 0.117364\n",
            "[1162]\tvalid_0's l2: 0.218314\tvalid_0's RMSLE: 0.11736\n",
            "[1163]\tvalid_0's l2: 0.21829\tvalid_0's RMSLE: 0.117355\n",
            "[1164]\tvalid_0's l2: 0.218271\tvalid_0's RMSLE: 0.117349\n",
            "[1165]\tvalid_0's l2: 0.218248\tvalid_0's RMSLE: 0.117344\n",
            "[1166]\tvalid_0's l2: 0.218224\tvalid_0's RMSLE: 0.117338\n",
            "[1167]\tvalid_0's l2: 0.218207\tvalid_0's RMSLE: 0.117333\n",
            "[1168]\tvalid_0's l2: 0.218175\tvalid_0's RMSLE: 0.117325\n",
            "[1169]\tvalid_0's l2: 0.218156\tvalid_0's RMSLE: 0.11732\n",
            "[1170]\tvalid_0's l2: 0.218135\tvalid_0's RMSLE: 0.117315\n",
            "[1171]\tvalid_0's l2: 0.218112\tvalid_0's RMSLE: 0.117309\n",
            "[1172]\tvalid_0's l2: 0.21809\tvalid_0's RMSLE: 0.117303\n",
            "[1173]\tvalid_0's l2: 0.218061\tvalid_0's RMSLE: 0.117297\n",
            "[1174]\tvalid_0's l2: 0.218038\tvalid_0's RMSLE: 0.117291\n",
            "[1175]\tvalid_0's l2: 0.218019\tvalid_0's RMSLE: 0.117287\n",
            "[1176]\tvalid_0's l2: 0.217998\tvalid_0's RMSLE: 0.117282\n",
            "[1177]\tvalid_0's l2: 0.217982\tvalid_0's RMSLE: 0.117278\n",
            "[1178]\tvalid_0's l2: 0.21796\tvalid_0's RMSLE: 0.117271\n",
            "[1179]\tvalid_0's l2: 0.217941\tvalid_0's RMSLE: 0.117267\n",
            "[1180]\tvalid_0's l2: 0.21792\tvalid_0's RMSLE: 0.11726\n",
            "[1181]\tvalid_0's l2: 0.217901\tvalid_0's RMSLE: 0.117255\n",
            "[1182]\tvalid_0's l2: 0.217884\tvalid_0's RMSLE: 0.117251\n",
            "[1183]\tvalid_0's l2: 0.217868\tvalid_0's RMSLE: 0.117246\n",
            "[1184]\tvalid_0's l2: 0.217843\tvalid_0's RMSLE: 0.11724\n",
            "[1185]\tvalid_0's l2: 0.21782\tvalid_0's RMSLE: 0.117235\n",
            "[1186]\tvalid_0's l2: 0.217782\tvalid_0's RMSLE: 0.117223\n",
            "[1187]\tvalid_0's l2: 0.217764\tvalid_0's RMSLE: 0.117217\n",
            "[1188]\tvalid_0's l2: 0.21774\tvalid_0's RMSLE: 0.117211\n",
            "[1189]\tvalid_0's l2: 0.217718\tvalid_0's RMSLE: 0.117206\n",
            "[1190]\tvalid_0's l2: 0.217689\tvalid_0's RMSLE: 0.117199\n",
            "[1191]\tvalid_0's l2: 0.217666\tvalid_0's RMSLE: 0.117193\n",
            "[1192]\tvalid_0's l2: 0.217647\tvalid_0's RMSLE: 0.117188\n",
            "[1193]\tvalid_0's l2: 0.217628\tvalid_0's RMSLE: 0.117182\n",
            "[1194]\tvalid_0's l2: 0.21761\tvalid_0's RMSLE: 0.117178\n",
            "[1195]\tvalid_0's l2: 0.21759\tvalid_0's RMSLE: 0.117172\n",
            "[1196]\tvalid_0's l2: 0.217565\tvalid_0's RMSLE: 0.117167\n",
            "[1197]\tvalid_0's l2: 0.217543\tvalid_0's RMSLE: 0.117161\n",
            "[1198]\tvalid_0's l2: 0.217526\tvalid_0's RMSLE: 0.117156\n",
            "[1199]\tvalid_0's l2: 0.217507\tvalid_0's RMSLE: 0.117151\n",
            "[1200]\tvalid_0's l2: 0.217486\tvalid_0's RMSLE: 0.117145\n",
            "[1201]\tvalid_0's l2: 0.217466\tvalid_0's RMSLE: 0.11714\n",
            "[1202]\tvalid_0's l2: 0.217442\tvalid_0's RMSLE: 0.117134\n",
            "[1203]\tvalid_0's l2: 0.217421\tvalid_0's RMSLE: 0.117129\n",
            "[1204]\tvalid_0's l2: 0.2174\tvalid_0's RMSLE: 0.117123\n",
            "[1205]\tvalid_0's l2: 0.217376\tvalid_0's RMSLE: 0.117117\n",
            "[1206]\tvalid_0's l2: 0.21735\tvalid_0's RMSLE: 0.11711\n",
            "[1207]\tvalid_0's l2: 0.217328\tvalid_0's RMSLE: 0.117104\n",
            "[1208]\tvalid_0's l2: 0.217311\tvalid_0's RMSLE: 0.117099\n",
            "[1209]\tvalid_0's l2: 0.217294\tvalid_0's RMSLE: 0.117096\n",
            "[1210]\tvalid_0's l2: 0.217277\tvalid_0's RMSLE: 0.117091\n",
            "[1211]\tvalid_0's l2: 0.217252\tvalid_0's RMSLE: 0.117085\n",
            "[1212]\tvalid_0's l2: 0.217233\tvalid_0's RMSLE: 0.11708\n",
            "[1213]\tvalid_0's l2: 0.21721\tvalid_0's RMSLE: 0.117074\n",
            "[1214]\tvalid_0's l2: 0.217191\tvalid_0's RMSLE: 0.117069\n",
            "[1215]\tvalid_0's l2: 0.217167\tvalid_0's RMSLE: 0.117064\n",
            "[1216]\tvalid_0's l2: 0.21715\tvalid_0's RMSLE: 0.117059\n",
            "[1217]\tvalid_0's l2: 0.21713\tvalid_0's RMSLE: 0.117053\n",
            "[1218]\tvalid_0's l2: 0.217109\tvalid_0's RMSLE: 0.117049\n",
            "[1219]\tvalid_0's l2: 0.217092\tvalid_0's RMSLE: 0.117044\n",
            "[1220]\tvalid_0's l2: 0.217074\tvalid_0's RMSLE: 0.11704\n",
            "[1221]\tvalid_0's l2: 0.217059\tvalid_0's RMSLE: 0.117036\n",
            "[1222]\tvalid_0's l2: 0.217038\tvalid_0's RMSLE: 0.117031\n",
            "[1223]\tvalid_0's l2: 0.217018\tvalid_0's RMSLE: 0.117025\n",
            "[1224]\tvalid_0's l2: 0.216998\tvalid_0's RMSLE: 0.11702\n",
            "[1225]\tvalid_0's l2: 0.216975\tvalid_0's RMSLE: 0.117014\n",
            "[1226]\tvalid_0's l2: 0.216956\tvalid_0's RMSLE: 0.117008\n",
            "[1227]\tvalid_0's l2: 0.216938\tvalid_0's RMSLE: 0.117003\n",
            "[1228]\tvalid_0's l2: 0.216919\tvalid_0's RMSLE: 0.116998\n",
            "[1229]\tvalid_0's l2: 0.216899\tvalid_0's RMSLE: 0.116993\n",
            "[1230]\tvalid_0's l2: 0.216882\tvalid_0's RMSLE: 0.116988\n",
            "[1231]\tvalid_0's l2: 0.216867\tvalid_0's RMSLE: 0.116984\n",
            "[1232]\tvalid_0's l2: 0.216845\tvalid_0's RMSLE: 0.116978\n",
            "[1233]\tvalid_0's l2: 0.216825\tvalid_0's RMSLE: 0.116972\n",
            "[1234]\tvalid_0's l2: 0.216806\tvalid_0's RMSLE: 0.116967\n",
            "[1235]\tvalid_0's l2: 0.216786\tvalid_0's RMSLE: 0.116962\n",
            "[1236]\tvalid_0's l2: 0.216767\tvalid_0's RMSLE: 0.116957\n",
            "[1237]\tvalid_0's l2: 0.216746\tvalid_0's RMSLE: 0.116951\n",
            "[1238]\tvalid_0's l2: 0.21673\tvalid_0's RMSLE: 0.116947\n",
            "[1239]\tvalid_0's l2: 0.216709\tvalid_0's RMSLE: 0.116941\n",
            "[1240]\tvalid_0's l2: 0.216692\tvalid_0's RMSLE: 0.116937\n",
            "[1241]\tvalid_0's l2: 0.216662\tvalid_0's RMSLE: 0.116929\n",
            "[1242]\tvalid_0's l2: 0.216642\tvalid_0's RMSLE: 0.116924\n",
            "[1243]\tvalid_0's l2: 0.216623\tvalid_0's RMSLE: 0.116919\n",
            "[1244]\tvalid_0's l2: 0.216603\tvalid_0's RMSLE: 0.116914\n",
            "[1245]\tvalid_0's l2: 0.216581\tvalid_0's RMSLE: 0.116908\n",
            "[1246]\tvalid_0's l2: 0.216554\tvalid_0's RMSLE: 0.116901\n",
            "[1247]\tvalid_0's l2: 0.216533\tvalid_0's RMSLE: 0.116895\n",
            "[1248]\tvalid_0's l2: 0.216515\tvalid_0's RMSLE: 0.116891\n",
            "[1249]\tvalid_0's l2: 0.216485\tvalid_0's RMSLE: 0.116884\n",
            "[1250]\tvalid_0's l2: 0.216464\tvalid_0's RMSLE: 0.116879\n",
            "[1251]\tvalid_0's l2: 0.216443\tvalid_0's RMSLE: 0.116874\n",
            "[1252]\tvalid_0's l2: 0.216424\tvalid_0's RMSLE: 0.116868\n",
            "[1253]\tvalid_0's l2: 0.216398\tvalid_0's RMSLE: 0.116861\n",
            "[1254]\tvalid_0's l2: 0.216379\tvalid_0's RMSLE: 0.116856\n",
            "[1255]\tvalid_0's l2: 0.216361\tvalid_0's RMSLE: 0.116852\n",
            "[1256]\tvalid_0's l2: 0.216344\tvalid_0's RMSLE: 0.116847\n",
            "[1257]\tvalid_0's l2: 0.216327\tvalid_0's RMSLE: 0.116842\n",
            "[1258]\tvalid_0's l2: 0.216308\tvalid_0's RMSLE: 0.116836\n",
            "[1259]\tvalid_0's l2: 0.216289\tvalid_0's RMSLE: 0.116831\n",
            "[1260]\tvalid_0's l2: 0.216267\tvalid_0's RMSLE: 0.116826\n",
            "[1261]\tvalid_0's l2: 0.216248\tvalid_0's RMSLE: 0.11682\n",
            "[1262]\tvalid_0's l2: 0.216227\tvalid_0's RMSLE: 0.116816\n",
            "[1263]\tvalid_0's l2: 0.216208\tvalid_0's RMSLE: 0.11681\n",
            "[1264]\tvalid_0's l2: 0.216185\tvalid_0's RMSLE: 0.116804\n",
            "[1265]\tvalid_0's l2: 0.216162\tvalid_0's RMSLE: 0.116798\n",
            "[1266]\tvalid_0's l2: 0.216142\tvalid_0's RMSLE: 0.116792\n",
            "[1267]\tvalid_0's l2: 0.216125\tvalid_0's RMSLE: 0.116788\n",
            "[1268]\tvalid_0's l2: 0.216108\tvalid_0's RMSLE: 0.116784\n",
            "[1269]\tvalid_0's l2: 0.216087\tvalid_0's RMSLE: 0.116779\n",
            "[1270]\tvalid_0's l2: 0.21607\tvalid_0's RMSLE: 0.116774\n",
            "[1271]\tvalid_0's l2: 0.216054\tvalid_0's RMSLE: 0.11677\n",
            "[1272]\tvalid_0's l2: 0.216029\tvalid_0's RMSLE: 0.116764\n",
            "[1273]\tvalid_0's l2: 0.216016\tvalid_0's RMSLE: 0.11676\n",
            "[1274]\tvalid_0's l2: 0.216002\tvalid_0's RMSLE: 0.116757\n",
            "[1275]\tvalid_0's l2: 0.21598\tvalid_0's RMSLE: 0.116751\n",
            "[1276]\tvalid_0's l2: 0.215962\tvalid_0's RMSLE: 0.116747\n",
            "[1277]\tvalid_0's l2: 0.215939\tvalid_0's RMSLE: 0.116741\n",
            "[1278]\tvalid_0's l2: 0.215921\tvalid_0's RMSLE: 0.116736\n",
            "[1279]\tvalid_0's l2: 0.2159\tvalid_0's RMSLE: 0.116732\n",
            "[1280]\tvalid_0's l2: 0.215881\tvalid_0's RMSLE: 0.116727\n",
            "[1281]\tvalid_0's l2: 0.215868\tvalid_0's RMSLE: 0.116724\n",
            "[1282]\tvalid_0's l2: 0.215848\tvalid_0's RMSLE: 0.116719\n",
            "[1283]\tvalid_0's l2: 0.215832\tvalid_0's RMSLE: 0.116715\n",
            "[1284]\tvalid_0's l2: 0.215816\tvalid_0's RMSLE: 0.11671\n",
            "[1285]\tvalid_0's l2: 0.215799\tvalid_0's RMSLE: 0.116706\n",
            "[1286]\tvalid_0's l2: 0.21578\tvalid_0's RMSLE: 0.116701\n",
            "[1287]\tvalid_0's l2: 0.215764\tvalid_0's RMSLE: 0.116696\n",
            "[1288]\tvalid_0's l2: 0.215744\tvalid_0's RMSLE: 0.116691\n",
            "[1289]\tvalid_0's l2: 0.215729\tvalid_0's RMSLE: 0.116687\n",
            "[1290]\tvalid_0's l2: 0.215709\tvalid_0's RMSLE: 0.116682\n",
            "[1291]\tvalid_0's l2: 0.21569\tvalid_0's RMSLE: 0.116676\n",
            "[1292]\tvalid_0's l2: 0.215673\tvalid_0's RMSLE: 0.116671\n",
            "[1293]\tvalid_0's l2: 0.215656\tvalid_0's RMSLE: 0.116667\n",
            "[1294]\tvalid_0's l2: 0.215638\tvalid_0's RMSLE: 0.116662\n",
            "[1295]\tvalid_0's l2: 0.215619\tvalid_0's RMSLE: 0.116656\n",
            "[1296]\tvalid_0's l2: 0.2156\tvalid_0's RMSLE: 0.116651\n",
            "[1297]\tvalid_0's l2: 0.215583\tvalid_0's RMSLE: 0.116647\n",
            "[1298]\tvalid_0's l2: 0.215568\tvalid_0's RMSLE: 0.116642\n",
            "[1299]\tvalid_0's l2: 0.21555\tvalid_0's RMSLE: 0.116637\n",
            "[1300]\tvalid_0's l2: 0.215533\tvalid_0's RMSLE: 0.116633\n",
            "[1301]\tvalid_0's l2: 0.215516\tvalid_0's RMSLE: 0.116629\n",
            "[1302]\tvalid_0's l2: 0.2155\tvalid_0's RMSLE: 0.116625\n",
            "[1303]\tvalid_0's l2: 0.215482\tvalid_0's RMSLE: 0.11662\n",
            "[1304]\tvalid_0's l2: 0.215463\tvalid_0's RMSLE: 0.116615\n",
            "[1305]\tvalid_0's l2: 0.215446\tvalid_0's RMSLE: 0.11661\n",
            "[1306]\tvalid_0's l2: 0.215417\tvalid_0's RMSLE: 0.116604\n",
            "[1307]\tvalid_0's l2: 0.2154\tvalid_0's RMSLE: 0.1166\n",
            "[1308]\tvalid_0's l2: 0.215382\tvalid_0's RMSLE: 0.116595\n",
            "[1309]\tvalid_0's l2: 0.215366\tvalid_0's RMSLE: 0.116591\n",
            "[1310]\tvalid_0's l2: 0.215348\tvalid_0's RMSLE: 0.116587\n",
            "[1311]\tvalid_0's l2: 0.215332\tvalid_0's RMSLE: 0.116582\n",
            "[1312]\tvalid_0's l2: 0.215311\tvalid_0's RMSLE: 0.116577\n",
            "[1313]\tvalid_0's l2: 0.215295\tvalid_0's RMSLE: 0.116572\n",
            "[1314]\tvalid_0's l2: 0.215277\tvalid_0's RMSLE: 0.116567\n",
            "[1315]\tvalid_0's l2: 0.215258\tvalid_0's RMSLE: 0.116562\n",
            "[1316]\tvalid_0's l2: 0.215239\tvalid_0's RMSLE: 0.116558\n",
            "[1317]\tvalid_0's l2: 0.215218\tvalid_0's RMSLE: 0.116552\n",
            "[1318]\tvalid_0's l2: 0.215198\tvalid_0's RMSLE: 0.116547\n",
            "[1319]\tvalid_0's l2: 0.215184\tvalid_0's RMSLE: 0.116544\n",
            "[1320]\tvalid_0's l2: 0.215166\tvalid_0's RMSLE: 0.116539\n",
            "[1321]\tvalid_0's l2: 0.215149\tvalid_0's RMSLE: 0.116535\n",
            "[1322]\tvalid_0's l2: 0.215133\tvalid_0's RMSLE: 0.116531\n",
            "[1323]\tvalid_0's l2: 0.215112\tvalid_0's RMSLE: 0.116526\n",
            "[1324]\tvalid_0's l2: 0.215093\tvalid_0's RMSLE: 0.116521\n",
            "[1325]\tvalid_0's l2: 0.215077\tvalid_0's RMSLE: 0.116517\n",
            "[1326]\tvalid_0's l2: 0.215062\tvalid_0's RMSLE: 0.116513\n",
            "[1327]\tvalid_0's l2: 0.215045\tvalid_0's RMSLE: 0.116507\n",
            "[1328]\tvalid_0's l2: 0.215028\tvalid_0's RMSLE: 0.116502\n",
            "[1329]\tvalid_0's l2: 0.215007\tvalid_0's RMSLE: 0.116497\n",
            "[1330]\tvalid_0's l2: 0.214984\tvalid_0's RMSLE: 0.116491\n",
            "[1331]\tvalid_0's l2: 0.214964\tvalid_0's RMSLE: 0.116486\n",
            "[1332]\tvalid_0's l2: 0.214947\tvalid_0's RMSLE: 0.116482\n",
            "[1333]\tvalid_0's l2: 0.214927\tvalid_0's RMSLE: 0.116478\n",
            "[1334]\tvalid_0's l2: 0.214911\tvalid_0's RMSLE: 0.116473\n",
            "[1335]\tvalid_0's l2: 0.214891\tvalid_0's RMSLE: 0.116468\n",
            "[1336]\tvalid_0's l2: 0.214876\tvalid_0's RMSLE: 0.116465\n",
            "[1337]\tvalid_0's l2: 0.214842\tvalid_0's RMSLE: 0.116456\n",
            "[1338]\tvalid_0's l2: 0.214823\tvalid_0's RMSLE: 0.116451\n",
            "[1339]\tvalid_0's l2: 0.214805\tvalid_0's RMSLE: 0.116447\n",
            "[1340]\tvalid_0's l2: 0.214787\tvalid_0's RMSLE: 0.116443\n",
            "[1341]\tvalid_0's l2: 0.214765\tvalid_0's RMSLE: 0.116437\n",
            "[1342]\tvalid_0's l2: 0.214747\tvalid_0's RMSLE: 0.116433\n",
            "[1343]\tvalid_0's l2: 0.214729\tvalid_0's RMSLE: 0.116428\n",
            "[1344]\tvalid_0's l2: 0.21471\tvalid_0's RMSLE: 0.116423\n",
            "[1345]\tvalid_0's l2: 0.21469\tvalid_0's RMSLE: 0.116417\n",
            "[1346]\tvalid_0's l2: 0.214665\tvalid_0's RMSLE: 0.116411\n",
            "[1347]\tvalid_0's l2: 0.21465\tvalid_0's RMSLE: 0.116406\n",
            "[1348]\tvalid_0's l2: 0.214634\tvalid_0's RMSLE: 0.116402\n",
            "[1349]\tvalid_0's l2: 0.214619\tvalid_0's RMSLE: 0.116399\n",
            "[1350]\tvalid_0's l2: 0.214603\tvalid_0's RMSLE: 0.116395\n",
            "[1351]\tvalid_0's l2: 0.214583\tvalid_0's RMSLE: 0.11639\n",
            "[1352]\tvalid_0's l2: 0.214569\tvalid_0's RMSLE: 0.116387\n",
            "[1353]\tvalid_0's l2: 0.214544\tvalid_0's RMSLE: 0.11638\n",
            "[1354]\tvalid_0's l2: 0.214528\tvalid_0's RMSLE: 0.116376\n",
            "[1355]\tvalid_0's l2: 0.214513\tvalid_0's RMSLE: 0.116371\n",
            "[1356]\tvalid_0's l2: 0.214498\tvalid_0's RMSLE: 0.116367\n",
            "[1357]\tvalid_0's l2: 0.21448\tvalid_0's RMSLE: 0.116362\n",
            "[1358]\tvalid_0's l2: 0.214464\tvalid_0's RMSLE: 0.116358\n",
            "[1359]\tvalid_0's l2: 0.214447\tvalid_0's RMSLE: 0.116354\n",
            "[1360]\tvalid_0's l2: 0.214429\tvalid_0's RMSLE: 0.116349\n",
            "[1361]\tvalid_0's l2: 0.214413\tvalid_0's RMSLE: 0.116345\n",
            "[1362]\tvalid_0's l2: 0.214398\tvalid_0's RMSLE: 0.11634\n",
            "[1363]\tvalid_0's l2: 0.214382\tvalid_0's RMSLE: 0.116336\n",
            "[1364]\tvalid_0's l2: 0.214365\tvalid_0's RMSLE: 0.116332\n",
            "[1365]\tvalid_0's l2: 0.214347\tvalid_0's RMSLE: 0.116328\n",
            "[1366]\tvalid_0's l2: 0.214329\tvalid_0's RMSLE: 0.116323\n",
            "[1367]\tvalid_0's l2: 0.214313\tvalid_0's RMSLE: 0.116319\n",
            "[1368]\tvalid_0's l2: 0.214297\tvalid_0's RMSLE: 0.116315\n",
            "[1369]\tvalid_0's l2: 0.214282\tvalid_0's RMSLE: 0.116312\n",
            "[1370]\tvalid_0's l2: 0.214261\tvalid_0's RMSLE: 0.116307\n",
            "[1371]\tvalid_0's l2: 0.214246\tvalid_0's RMSLE: 0.116303\n",
            "[1372]\tvalid_0's l2: 0.21423\tvalid_0's RMSLE: 0.116299\n",
            "[1373]\tvalid_0's l2: 0.214212\tvalid_0's RMSLE: 0.116295\n",
            "[1374]\tvalid_0's l2: 0.214197\tvalid_0's RMSLE: 0.116291\n",
            "[1375]\tvalid_0's l2: 0.21418\tvalid_0's RMSLE: 0.116286\n",
            "[1376]\tvalid_0's l2: 0.214166\tvalid_0's RMSLE: 0.116282\n",
            "[1377]\tvalid_0's l2: 0.21415\tvalid_0's RMSLE: 0.116279\n",
            "[1378]\tvalid_0's l2: 0.214131\tvalid_0's RMSLE: 0.116273\n",
            "[1379]\tvalid_0's l2: 0.214112\tvalid_0's RMSLE: 0.116268\n",
            "[1380]\tvalid_0's l2: 0.214096\tvalid_0's RMSLE: 0.116263\n",
            "[1381]\tvalid_0's l2: 0.21408\tvalid_0's RMSLE: 0.116259\n",
            "[1382]\tvalid_0's l2: 0.214066\tvalid_0's RMSLE: 0.116256\n",
            "[1383]\tvalid_0's l2: 0.214051\tvalid_0's RMSLE: 0.116252\n",
            "[1384]\tvalid_0's l2: 0.214037\tvalid_0's RMSLE: 0.116248\n",
            "[1385]\tvalid_0's l2: 0.214023\tvalid_0's RMSLE: 0.116243\n",
            "[1386]\tvalid_0's l2: 0.214007\tvalid_0's RMSLE: 0.116239\n",
            "[1387]\tvalid_0's l2: 0.213992\tvalid_0's RMSLE: 0.116236\n",
            "[1388]\tvalid_0's l2: 0.213978\tvalid_0's RMSLE: 0.116232\n",
            "[1389]\tvalid_0's l2: 0.21396\tvalid_0's RMSLE: 0.116226\n",
            "[1390]\tvalid_0's l2: 0.213944\tvalid_0's RMSLE: 0.116222\n",
            "[1391]\tvalid_0's l2: 0.213921\tvalid_0's RMSLE: 0.116215\n",
            "[1392]\tvalid_0's l2: 0.213906\tvalid_0's RMSLE: 0.116212\n",
            "[1393]\tvalid_0's l2: 0.213888\tvalid_0's RMSLE: 0.116207\n",
            "[1394]\tvalid_0's l2: 0.213873\tvalid_0's RMSLE: 0.116203\n",
            "[1395]\tvalid_0's l2: 0.213854\tvalid_0's RMSLE: 0.116199\n",
            "[1396]\tvalid_0's l2: 0.213833\tvalid_0's RMSLE: 0.116194\n",
            "[1397]\tvalid_0's l2: 0.213815\tvalid_0's RMSLE: 0.11619\n",
            "[1398]\tvalid_0's l2: 0.213796\tvalid_0's RMSLE: 0.116185\n",
            "[1399]\tvalid_0's l2: 0.213781\tvalid_0's RMSLE: 0.116181\n",
            "[1400]\tvalid_0's l2: 0.213764\tvalid_0's RMSLE: 0.116177\n",
            "[1401]\tvalid_0's l2: 0.213748\tvalid_0's RMSLE: 0.116173\n",
            "[1402]\tvalid_0's l2: 0.213733\tvalid_0's RMSLE: 0.116169\n",
            "[1403]\tvalid_0's l2: 0.213717\tvalid_0's RMSLE: 0.116165\n",
            "[1404]\tvalid_0's l2: 0.213701\tvalid_0's RMSLE: 0.116161\n",
            "[1405]\tvalid_0's l2: 0.213685\tvalid_0's RMSLE: 0.116157\n",
            "[1406]\tvalid_0's l2: 0.213666\tvalid_0's RMSLE: 0.116152\n",
            "[1407]\tvalid_0's l2: 0.213645\tvalid_0's RMSLE: 0.116147\n",
            "[1408]\tvalid_0's l2: 0.213629\tvalid_0's RMSLE: 0.116142\n",
            "[1409]\tvalid_0's l2: 0.213613\tvalid_0's RMSLE: 0.116138\n",
            "[1410]\tvalid_0's l2: 0.213601\tvalid_0's RMSLE: 0.116135\n",
            "[1411]\tvalid_0's l2: 0.213588\tvalid_0's RMSLE: 0.116132\n",
            "[1412]\tvalid_0's l2: 0.213572\tvalid_0's RMSLE: 0.116128\n",
            "[1413]\tvalid_0's l2: 0.213557\tvalid_0's RMSLE: 0.116124\n",
            "[1414]\tvalid_0's l2: 0.213539\tvalid_0's RMSLE: 0.116119\n",
            "[1415]\tvalid_0's l2: 0.213523\tvalid_0's RMSLE: 0.116115\n",
            "[1416]\tvalid_0's l2: 0.213497\tvalid_0's RMSLE: 0.116109\n",
            "[1417]\tvalid_0's l2: 0.213482\tvalid_0's RMSLE: 0.116105\n",
            "[1418]\tvalid_0's l2: 0.213468\tvalid_0's RMSLE: 0.116101\n",
            "[1419]\tvalid_0's l2: 0.213451\tvalid_0's RMSLE: 0.116097\n",
            "[1420]\tvalid_0's l2: 0.213433\tvalid_0's RMSLE: 0.116092\n",
            "[1421]\tvalid_0's l2: 0.213418\tvalid_0's RMSLE: 0.116088\n",
            "[1422]\tvalid_0's l2: 0.213405\tvalid_0's RMSLE: 0.116084\n",
            "[1423]\tvalid_0's l2: 0.213391\tvalid_0's RMSLE: 0.11608\n",
            "[1424]\tvalid_0's l2: 0.213378\tvalid_0's RMSLE: 0.116077\n",
            "[1425]\tvalid_0's l2: 0.213362\tvalid_0's RMSLE: 0.116073\n",
            "[1426]\tvalid_0's l2: 0.213348\tvalid_0's RMSLE: 0.11607\n",
            "[1427]\tvalid_0's l2: 0.213334\tvalid_0's RMSLE: 0.116066\n",
            "[1428]\tvalid_0's l2: 0.213321\tvalid_0's RMSLE: 0.116062\n",
            "[1429]\tvalid_0's l2: 0.213307\tvalid_0's RMSLE: 0.116059\n",
            "[1430]\tvalid_0's l2: 0.213291\tvalid_0's RMSLE: 0.116054\n",
            "[1431]\tvalid_0's l2: 0.21327\tvalid_0's RMSLE: 0.116049\n",
            "[1432]\tvalid_0's l2: 0.213251\tvalid_0's RMSLE: 0.116045\n",
            "[1433]\tvalid_0's l2: 0.213231\tvalid_0's RMSLE: 0.116039\n",
            "[1434]\tvalid_0's l2: 0.213213\tvalid_0's RMSLE: 0.116034\n",
            "[1435]\tvalid_0's l2: 0.213196\tvalid_0's RMSLE: 0.11603\n",
            "[1436]\tvalid_0's l2: 0.21318\tvalid_0's RMSLE: 0.116025\n",
            "[1437]\tvalid_0's l2: 0.213166\tvalid_0's RMSLE: 0.116022\n",
            "[1438]\tvalid_0's l2: 0.213149\tvalid_0's RMSLE: 0.116017\n",
            "[1439]\tvalid_0's l2: 0.213132\tvalid_0's RMSLE: 0.116013\n",
            "[1440]\tvalid_0's l2: 0.213119\tvalid_0's RMSLE: 0.116009\n",
            "[1441]\tvalid_0's l2: 0.213108\tvalid_0's RMSLE: 0.116006\n",
            "[1442]\tvalid_0's l2: 0.213095\tvalid_0's RMSLE: 0.116003\n",
            "[1443]\tvalid_0's l2: 0.213085\tvalid_0's RMSLE: 0.115999\n",
            "[1444]\tvalid_0's l2: 0.213071\tvalid_0's RMSLE: 0.115996\n",
            "[1445]\tvalid_0's l2: 0.213057\tvalid_0's RMSLE: 0.115992\n",
            "[1446]\tvalid_0's l2: 0.213043\tvalid_0's RMSLE: 0.115988\n",
            "[1447]\tvalid_0's l2: 0.213026\tvalid_0's RMSLE: 0.115984\n",
            "[1448]\tvalid_0's l2: 0.213009\tvalid_0's RMSLE: 0.11598\n",
            "[1449]\tvalid_0's l2: 0.212987\tvalid_0's RMSLE: 0.115974\n",
            "[1450]\tvalid_0's l2: 0.21297\tvalid_0's RMSLE: 0.11597\n",
            "[1451]\tvalid_0's l2: 0.212952\tvalid_0's RMSLE: 0.115966\n",
            "[1452]\tvalid_0's l2: 0.212939\tvalid_0's RMSLE: 0.115963\n",
            "[1453]\tvalid_0's l2: 0.212915\tvalid_0's RMSLE: 0.115958\n",
            "[1454]\tvalid_0's l2: 0.212902\tvalid_0's RMSLE: 0.115955\n",
            "[1455]\tvalid_0's l2: 0.212889\tvalid_0's RMSLE: 0.115951\n",
            "[1456]\tvalid_0's l2: 0.212868\tvalid_0's RMSLE: 0.115945\n",
            "[1457]\tvalid_0's l2: 0.212848\tvalid_0's RMSLE: 0.11594\n",
            "[1458]\tvalid_0's l2: 0.212832\tvalid_0's RMSLE: 0.115936\n",
            "[1459]\tvalid_0's l2: 0.212819\tvalid_0's RMSLE: 0.115932\n",
            "[1460]\tvalid_0's l2: 0.212793\tvalid_0's RMSLE: 0.115923\n",
            "[1461]\tvalid_0's l2: 0.212776\tvalid_0's RMSLE: 0.115918\n",
            "[1462]\tvalid_0's l2: 0.212759\tvalid_0's RMSLE: 0.115914\n",
            "[1463]\tvalid_0's l2: 0.212745\tvalid_0's RMSLE: 0.11591\n",
            "[1464]\tvalid_0's l2: 0.21273\tvalid_0's RMSLE: 0.115907\n",
            "[1465]\tvalid_0's l2: 0.212716\tvalid_0's RMSLE: 0.115903\n",
            "[1466]\tvalid_0's l2: 0.2127\tvalid_0's RMSLE: 0.115899\n",
            "[1467]\tvalid_0's l2: 0.212685\tvalid_0's RMSLE: 0.115896\n",
            "[1468]\tvalid_0's l2: 0.212664\tvalid_0's RMSLE: 0.11589\n",
            "[1469]\tvalid_0's l2: 0.212649\tvalid_0's RMSLE: 0.115886\n",
            "[1470]\tvalid_0's l2: 0.212632\tvalid_0's RMSLE: 0.115882\n",
            "[1471]\tvalid_0's l2: 0.212617\tvalid_0's RMSLE: 0.115878\n",
            "[1472]\tvalid_0's l2: 0.212601\tvalid_0's RMSLE: 0.115874\n",
            "[1473]\tvalid_0's l2: 0.212585\tvalid_0's RMSLE: 0.11587\n",
            "[1474]\tvalid_0's l2: 0.21257\tvalid_0's RMSLE: 0.115865\n",
            "[1475]\tvalid_0's l2: 0.212555\tvalid_0's RMSLE: 0.115861\n",
            "[1476]\tvalid_0's l2: 0.212543\tvalid_0's RMSLE: 0.115858\n",
            "[1477]\tvalid_0's l2: 0.212529\tvalid_0's RMSLE: 0.115853\n",
            "[1478]\tvalid_0's l2: 0.212516\tvalid_0's RMSLE: 0.11585\n",
            "[1479]\tvalid_0's l2: 0.212503\tvalid_0's RMSLE: 0.115845\n",
            "[1480]\tvalid_0's l2: 0.212486\tvalid_0's RMSLE: 0.115841\n",
            "[1481]\tvalid_0's l2: 0.212472\tvalid_0's RMSLE: 0.115837\n",
            "[1482]\tvalid_0's l2: 0.212458\tvalid_0's RMSLE: 0.115833\n",
            "[1483]\tvalid_0's l2: 0.212445\tvalid_0's RMSLE: 0.115829\n",
            "[1484]\tvalid_0's l2: 0.212431\tvalid_0's RMSLE: 0.115826\n",
            "[1485]\tvalid_0's l2: 0.212415\tvalid_0's RMSLE: 0.115821\n",
            "[1486]\tvalid_0's l2: 0.212401\tvalid_0's RMSLE: 0.115818\n",
            "[1487]\tvalid_0's l2: 0.212388\tvalid_0's RMSLE: 0.115814\n",
            "[1488]\tvalid_0's l2: 0.212369\tvalid_0's RMSLE: 0.115809\n",
            "[1489]\tvalid_0's l2: 0.212356\tvalid_0's RMSLE: 0.115805\n",
            "[1490]\tvalid_0's l2: 0.212339\tvalid_0's RMSLE: 0.1158\n",
            "[1491]\tvalid_0's l2: 0.212326\tvalid_0's RMSLE: 0.115797\n",
            "[1492]\tvalid_0's l2: 0.212311\tvalid_0's RMSLE: 0.115792\n",
            "[1493]\tvalid_0's l2: 0.2123\tvalid_0's RMSLE: 0.115789\n",
            "[1494]\tvalid_0's l2: 0.212285\tvalid_0's RMSLE: 0.115785\n",
            "[1495]\tvalid_0's l2: 0.212268\tvalid_0's RMSLE: 0.11578\n",
            "[1496]\tvalid_0's l2: 0.212252\tvalid_0's RMSLE: 0.115776\n",
            "[1497]\tvalid_0's l2: 0.212232\tvalid_0's RMSLE: 0.115771\n",
            "[1498]\tvalid_0's l2: 0.212218\tvalid_0's RMSLE: 0.115768\n",
            "[1499]\tvalid_0's l2: 0.212204\tvalid_0's RMSLE: 0.115764\n",
            "[1500]\tvalid_0's l2: 0.212189\tvalid_0's RMSLE: 0.11576\n",
            "[1501]\tvalid_0's l2: 0.212175\tvalid_0's RMSLE: 0.115756\n",
            "[1502]\tvalid_0's l2: 0.212159\tvalid_0's RMSLE: 0.115753\n",
            "[1503]\tvalid_0's l2: 0.212147\tvalid_0's RMSLE: 0.115749\n",
            "[1504]\tvalid_0's l2: 0.212133\tvalid_0's RMSLE: 0.115746\n",
            "[1505]\tvalid_0's l2: 0.21212\tvalid_0's RMSLE: 0.115743\n",
            "[1506]\tvalid_0's l2: 0.212106\tvalid_0's RMSLE: 0.115739\n",
            "[1507]\tvalid_0's l2: 0.212092\tvalid_0's RMSLE: 0.115735\n",
            "[1508]\tvalid_0's l2: 0.212078\tvalid_0's RMSLE: 0.115732\n",
            "[1509]\tvalid_0's l2: 0.212062\tvalid_0's RMSLE: 0.115728\n",
            "[1510]\tvalid_0's l2: 0.212046\tvalid_0's RMSLE: 0.115724\n",
            "[1511]\tvalid_0's l2: 0.212031\tvalid_0's RMSLE: 0.115719\n",
            "[1512]\tvalid_0's l2: 0.212018\tvalid_0's RMSLE: 0.115715\n",
            "[1513]\tvalid_0's l2: 0.212005\tvalid_0's RMSLE: 0.115712\n",
            "[1514]\tvalid_0's l2: 0.211991\tvalid_0's RMSLE: 0.115708\n",
            "[1515]\tvalid_0's l2: 0.211976\tvalid_0's RMSLE: 0.115704\n",
            "[1516]\tvalid_0's l2: 0.211962\tvalid_0's RMSLE: 0.1157\n",
            "[1517]\tvalid_0's l2: 0.21195\tvalid_0's RMSLE: 0.115697\n",
            "[1518]\tvalid_0's l2: 0.211934\tvalid_0's RMSLE: 0.115693\n",
            "[1519]\tvalid_0's l2: 0.211919\tvalid_0's RMSLE: 0.115689\n",
            "[1520]\tvalid_0's l2: 0.211906\tvalid_0's RMSLE: 0.115686\n",
            "[1521]\tvalid_0's l2: 0.211892\tvalid_0's RMSLE: 0.115682\n",
            "[1522]\tvalid_0's l2: 0.211873\tvalid_0's RMSLE: 0.115677\n",
            "[1523]\tvalid_0's l2: 0.211862\tvalid_0's RMSLE: 0.115674\n",
            "[1524]\tvalid_0's l2: 0.211849\tvalid_0's RMSLE: 0.115671\n",
            "[1525]\tvalid_0's l2: 0.211837\tvalid_0's RMSLE: 0.115668\n",
            "[1526]\tvalid_0's l2: 0.211826\tvalid_0's RMSLE: 0.115665\n",
            "[1527]\tvalid_0's l2: 0.211814\tvalid_0's RMSLE: 0.115662\n",
            "[1528]\tvalid_0's l2: 0.211799\tvalid_0's RMSLE: 0.115657\n",
            "[1529]\tvalid_0's l2: 0.211782\tvalid_0's RMSLE: 0.115652\n",
            "[1530]\tvalid_0's l2: 0.211767\tvalid_0's RMSLE: 0.115648\n",
            "[1531]\tvalid_0's l2: 0.211752\tvalid_0's RMSLE: 0.115644\n",
            "[1532]\tvalid_0's l2: 0.211737\tvalid_0's RMSLE: 0.11564\n",
            "[1533]\tvalid_0's l2: 0.21172\tvalid_0's RMSLE: 0.115636\n",
            "[1534]\tvalid_0's l2: 0.211708\tvalid_0's RMSLE: 0.115632\n",
            "[1535]\tvalid_0's l2: 0.211693\tvalid_0's RMSLE: 0.115629\n",
            "[1536]\tvalid_0's l2: 0.211681\tvalid_0's RMSLE: 0.115626\n",
            "[1537]\tvalid_0's l2: 0.211662\tvalid_0's RMSLE: 0.115621\n",
            "[1538]\tvalid_0's l2: 0.211648\tvalid_0's RMSLE: 0.115617\n",
            "[1539]\tvalid_0's l2: 0.211634\tvalid_0's RMSLE: 0.115613\n",
            "[1540]\tvalid_0's l2: 0.211618\tvalid_0's RMSLE: 0.115609\n",
            "[1541]\tvalid_0's l2: 0.211605\tvalid_0's RMSLE: 0.115606\n",
            "[1542]\tvalid_0's l2: 0.21159\tvalid_0's RMSLE: 0.115602\n",
            "[1543]\tvalid_0's l2: 0.211577\tvalid_0's RMSLE: 0.115598\n",
            "[1544]\tvalid_0's l2: 0.21156\tvalid_0's RMSLE: 0.115594\n",
            "[1545]\tvalid_0's l2: 0.211546\tvalid_0's RMSLE: 0.115591\n",
            "[1546]\tvalid_0's l2: 0.21153\tvalid_0's RMSLE: 0.115586\n",
            "[1547]\tvalid_0's l2: 0.211515\tvalid_0's RMSLE: 0.115582\n",
            "[1548]\tvalid_0's l2: 0.211503\tvalid_0's RMSLE: 0.115579\n",
            "[1549]\tvalid_0's l2: 0.211489\tvalid_0's RMSLE: 0.115576\n",
            "[1550]\tvalid_0's l2: 0.211476\tvalid_0's RMSLE: 0.115572\n",
            "[1551]\tvalid_0's l2: 0.211462\tvalid_0's RMSLE: 0.115568\n",
            "[1552]\tvalid_0's l2: 0.211448\tvalid_0's RMSLE: 0.115564\n",
            "[1553]\tvalid_0's l2: 0.211435\tvalid_0's RMSLE: 0.115561\n",
            "[1554]\tvalid_0's l2: 0.211417\tvalid_0's RMSLE: 0.115556\n",
            "[1555]\tvalid_0's l2: 0.211404\tvalid_0's RMSLE: 0.115553\n",
            "[1556]\tvalid_0's l2: 0.211392\tvalid_0's RMSLE: 0.115549\n",
            "[1557]\tvalid_0's l2: 0.211381\tvalid_0's RMSLE: 0.115546\n",
            "[1558]\tvalid_0's l2: 0.211369\tvalid_0's RMSLE: 0.115542\n",
            "[1559]\tvalid_0's l2: 0.211354\tvalid_0's RMSLE: 0.115538\n",
            "[1560]\tvalid_0's l2: 0.211334\tvalid_0's RMSLE: 0.115533\n",
            "[1561]\tvalid_0's l2: 0.211319\tvalid_0's RMSLE: 0.115529\n",
            "[1562]\tvalid_0's l2: 0.211307\tvalid_0's RMSLE: 0.115526\n",
            "[1563]\tvalid_0's l2: 0.211293\tvalid_0's RMSLE: 0.115522\n",
            "[1564]\tvalid_0's l2: 0.211278\tvalid_0's RMSLE: 0.115519\n",
            "[1565]\tvalid_0's l2: 0.211269\tvalid_0's RMSLE: 0.115516\n",
            "[1566]\tvalid_0's l2: 0.211258\tvalid_0's RMSLE: 0.115513\n",
            "[1567]\tvalid_0's l2: 0.211245\tvalid_0's RMSLE: 0.115509\n",
            "[1568]\tvalid_0's l2: 0.211232\tvalid_0's RMSLE: 0.115506\n",
            "[1569]\tvalid_0's l2: 0.211221\tvalid_0's RMSLE: 0.115503\n",
            "[1570]\tvalid_0's l2: 0.211206\tvalid_0's RMSLE: 0.1155\n",
            "[1571]\tvalid_0's l2: 0.211194\tvalid_0's RMSLE: 0.115496\n",
            "[1572]\tvalid_0's l2: 0.211179\tvalid_0's RMSLE: 0.115491\n",
            "[1573]\tvalid_0's l2: 0.211161\tvalid_0's RMSLE: 0.115487\n",
            "[1574]\tvalid_0's l2: 0.211147\tvalid_0's RMSLE: 0.115483\n",
            "[1575]\tvalid_0's l2: 0.211132\tvalid_0's RMSLE: 0.11548\n",
            "[1576]\tvalid_0's l2: 0.211116\tvalid_0's RMSLE: 0.115476\n",
            "[1577]\tvalid_0's l2: 0.211104\tvalid_0's RMSLE: 0.115473\n",
            "[1578]\tvalid_0's l2: 0.211092\tvalid_0's RMSLE: 0.11547\n",
            "[1579]\tvalid_0's l2: 0.211075\tvalid_0's RMSLE: 0.115465\n",
            "[1580]\tvalid_0's l2: 0.21106\tvalid_0's RMSLE: 0.11546\n",
            "[1581]\tvalid_0's l2: 0.211047\tvalid_0's RMSLE: 0.115457\n",
            "[1582]\tvalid_0's l2: 0.211032\tvalid_0's RMSLE: 0.115454\n",
            "[1583]\tvalid_0's l2: 0.211019\tvalid_0's RMSLE: 0.11545\n",
            "[1584]\tvalid_0's l2: 0.211008\tvalid_0's RMSLE: 0.115447\n",
            "[1585]\tvalid_0's l2: 0.210997\tvalid_0's RMSLE: 0.115445\n",
            "[1586]\tvalid_0's l2: 0.21098\tvalid_0's RMSLE: 0.115439\n",
            "[1587]\tvalid_0's l2: 0.210967\tvalid_0's RMSLE: 0.115436\n",
            "[1588]\tvalid_0's l2: 0.210956\tvalid_0's RMSLE: 0.115433\n",
            "[1589]\tvalid_0's l2: 0.210945\tvalid_0's RMSLE: 0.115431\n",
            "[1590]\tvalid_0's l2: 0.21093\tvalid_0's RMSLE: 0.115427\n",
            "[1591]\tvalid_0's l2: 0.210916\tvalid_0's RMSLE: 0.115423\n",
            "[1592]\tvalid_0's l2: 0.210897\tvalid_0's RMSLE: 0.115418\n",
            "[1593]\tvalid_0's l2: 0.210885\tvalid_0's RMSLE: 0.115415\n",
            "[1594]\tvalid_0's l2: 0.210873\tvalid_0's RMSLE: 0.115412\n",
            "[1595]\tvalid_0's l2: 0.210858\tvalid_0's RMSLE: 0.115408\n",
            "[1596]\tvalid_0's l2: 0.210841\tvalid_0's RMSLE: 0.115403\n",
            "[1597]\tvalid_0's l2: 0.210821\tvalid_0's RMSLE: 0.115398\n",
            "[1598]\tvalid_0's l2: 0.210805\tvalid_0's RMSLE: 0.115394\n",
            "[1599]\tvalid_0's l2: 0.210793\tvalid_0's RMSLE: 0.115391\n",
            "[1600]\tvalid_0's l2: 0.210779\tvalid_0's RMSLE: 0.115387\n",
            "[1601]\tvalid_0's l2: 0.210769\tvalid_0's RMSLE: 0.115385\n",
            "[1602]\tvalid_0's l2: 0.210754\tvalid_0's RMSLE: 0.11538\n",
            "[1603]\tvalid_0's l2: 0.210739\tvalid_0's RMSLE: 0.115376\n",
            "[1604]\tvalid_0's l2: 0.210724\tvalid_0's RMSLE: 0.115372\n",
            "[1605]\tvalid_0's l2: 0.210711\tvalid_0's RMSLE: 0.115368\n",
            "[1606]\tvalid_0's l2: 0.210691\tvalid_0's RMSLE: 0.115363\n",
            "[1607]\tvalid_0's l2: 0.210675\tvalid_0's RMSLE: 0.115359\n",
            "[1608]\tvalid_0's l2: 0.210658\tvalid_0's RMSLE: 0.115354\n",
            "[1609]\tvalid_0's l2: 0.21065\tvalid_0's RMSLE: 0.115352\n",
            "[1610]\tvalid_0's l2: 0.210636\tvalid_0's RMSLE: 0.115348\n",
            "[1611]\tvalid_0's l2: 0.210621\tvalid_0's RMSLE: 0.115344\n",
            "[1612]\tvalid_0's l2: 0.210606\tvalid_0's RMSLE: 0.11534\n",
            "[1613]\tvalid_0's l2: 0.210588\tvalid_0's RMSLE: 0.115336\n",
            "[1614]\tvalid_0's l2: 0.210576\tvalid_0's RMSLE: 0.115333\n",
            "[1615]\tvalid_0's l2: 0.210564\tvalid_0's RMSLE: 0.115329\n",
            "[1616]\tvalid_0's l2: 0.210553\tvalid_0's RMSLE: 0.115326\n",
            "[1617]\tvalid_0's l2: 0.210543\tvalid_0's RMSLE: 0.115324\n",
            "[1618]\tvalid_0's l2: 0.210529\tvalid_0's RMSLE: 0.115319\n",
            "[1619]\tvalid_0's l2: 0.210509\tvalid_0's RMSLE: 0.115314\n",
            "[1620]\tvalid_0's l2: 0.210494\tvalid_0's RMSLE: 0.115309\n",
            "[1621]\tvalid_0's l2: 0.210476\tvalid_0's RMSLE: 0.115305\n",
            "[1622]\tvalid_0's l2: 0.210458\tvalid_0's RMSLE: 0.115301\n",
            "[1623]\tvalid_0's l2: 0.210446\tvalid_0's RMSLE: 0.115298\n",
            "[1624]\tvalid_0's l2: 0.210433\tvalid_0's RMSLE: 0.115294\n",
            "[1625]\tvalid_0's l2: 0.210419\tvalid_0's RMSLE: 0.115291\n",
            "[1626]\tvalid_0's l2: 0.210405\tvalid_0's RMSLE: 0.115287\n",
            "[1627]\tvalid_0's l2: 0.210396\tvalid_0's RMSLE: 0.115284\n",
            "[1628]\tvalid_0's l2: 0.210385\tvalid_0's RMSLE: 0.115282\n",
            "[1629]\tvalid_0's l2: 0.210371\tvalid_0's RMSLE: 0.115278\n",
            "[1630]\tvalid_0's l2: 0.21036\tvalid_0's RMSLE: 0.115275\n",
            "[1631]\tvalid_0's l2: 0.210348\tvalid_0's RMSLE: 0.115272\n",
            "[1632]\tvalid_0's l2: 0.210333\tvalid_0's RMSLE: 0.115268\n",
            "[1633]\tvalid_0's l2: 0.210317\tvalid_0's RMSLE: 0.115263\n",
            "[1634]\tvalid_0's l2: 0.210303\tvalid_0's RMSLE: 0.115259\n",
            "[1635]\tvalid_0's l2: 0.210289\tvalid_0's RMSLE: 0.115256\n",
            "[1636]\tvalid_0's l2: 0.210278\tvalid_0's RMSLE: 0.115253\n",
            "[1637]\tvalid_0's l2: 0.210263\tvalid_0's RMSLE: 0.115249\n",
            "[1638]\tvalid_0's l2: 0.210246\tvalid_0's RMSLE: 0.115245\n",
            "[1639]\tvalid_0's l2: 0.210233\tvalid_0's RMSLE: 0.115241\n",
            "[1640]\tvalid_0's l2: 0.210212\tvalid_0's RMSLE: 0.115236\n",
            "[1641]\tvalid_0's l2: 0.210201\tvalid_0's RMSLE: 0.115233\n",
            "[1642]\tvalid_0's l2: 0.210189\tvalid_0's RMSLE: 0.11523\n",
            "[1643]\tvalid_0's l2: 0.210174\tvalid_0's RMSLE: 0.115226\n",
            "[1644]\tvalid_0's l2: 0.210163\tvalid_0's RMSLE: 0.115223\n",
            "[1645]\tvalid_0's l2: 0.210148\tvalid_0's RMSLE: 0.115219\n",
            "[1646]\tvalid_0's l2: 0.210139\tvalid_0's RMSLE: 0.115217\n",
            "[1647]\tvalid_0's l2: 0.210125\tvalid_0's RMSLE: 0.115213\n",
            "[1648]\tvalid_0's l2: 0.210112\tvalid_0's RMSLE: 0.115209\n",
            "[1649]\tvalid_0's l2: 0.210098\tvalid_0's RMSLE: 0.115206\n",
            "[1650]\tvalid_0's l2: 0.210087\tvalid_0's RMSLE: 0.115202\n",
            "[1651]\tvalid_0's l2: 0.210075\tvalid_0's RMSLE: 0.115199\n",
            "[1652]\tvalid_0's l2: 0.210064\tvalid_0's RMSLE: 0.115196\n",
            "[1653]\tvalid_0's l2: 0.210053\tvalid_0's RMSLE: 0.115193\n",
            "[1654]\tvalid_0's l2: 0.210039\tvalid_0's RMSLE: 0.11519\n",
            "[1655]\tvalid_0's l2: 0.210025\tvalid_0's RMSLE: 0.115186\n",
            "[1656]\tvalid_0's l2: 0.210016\tvalid_0's RMSLE: 0.115184\n",
            "[1657]\tvalid_0's l2: 0.210002\tvalid_0's RMSLE: 0.11518\n",
            "[1658]\tvalid_0's l2: 0.20999\tvalid_0's RMSLE: 0.115176\n",
            "[1659]\tvalid_0's l2: 0.209967\tvalid_0's RMSLE: 0.115169\n",
            "[1660]\tvalid_0's l2: 0.209954\tvalid_0's RMSLE: 0.115166\n",
            "[1661]\tvalid_0's l2: 0.209942\tvalid_0's RMSLE: 0.115162\n",
            "[1662]\tvalid_0's l2: 0.209927\tvalid_0's RMSLE: 0.115157\n",
            "[1663]\tvalid_0's l2: 0.209915\tvalid_0's RMSLE: 0.115154\n",
            "[1664]\tvalid_0's l2: 0.209905\tvalid_0's RMSLE: 0.115151\n",
            "[1665]\tvalid_0's l2: 0.209894\tvalid_0's RMSLE: 0.115148\n",
            "[1666]\tvalid_0's l2: 0.209881\tvalid_0's RMSLE: 0.115145\n",
            "[1667]\tvalid_0's l2: 0.209869\tvalid_0's RMSLE: 0.115142\n",
            "[1668]\tvalid_0's l2: 0.209859\tvalid_0's RMSLE: 0.115139\n",
            "[1669]\tvalid_0's l2: 0.209844\tvalid_0's RMSLE: 0.115135\n",
            "[1670]\tvalid_0's l2: 0.209831\tvalid_0's RMSLE: 0.115132\n",
            "[1671]\tvalid_0's l2: 0.209818\tvalid_0's RMSLE: 0.115129\n",
            "[1672]\tvalid_0's l2: 0.209805\tvalid_0's RMSLE: 0.115125\n",
            "[1673]\tvalid_0's l2: 0.209788\tvalid_0's RMSLE: 0.11512\n",
            "[1674]\tvalid_0's l2: 0.209774\tvalid_0's RMSLE: 0.115117\n",
            "[1675]\tvalid_0's l2: 0.209764\tvalid_0's RMSLE: 0.115114\n",
            "[1676]\tvalid_0's l2: 0.209748\tvalid_0's RMSLE: 0.11511\n",
            "[1677]\tvalid_0's l2: 0.209732\tvalid_0's RMSLE: 0.115105\n",
            "[1678]\tvalid_0's l2: 0.209717\tvalid_0's RMSLE: 0.115101\n",
            "[1679]\tvalid_0's l2: 0.209704\tvalid_0's RMSLE: 0.115097\n",
            "[1680]\tvalid_0's l2: 0.209692\tvalid_0's RMSLE: 0.115094\n",
            "[1681]\tvalid_0's l2: 0.209679\tvalid_0's RMSLE: 0.11509\n",
            "[1682]\tvalid_0's l2: 0.20967\tvalid_0's RMSLE: 0.115088\n",
            "[1683]\tvalid_0's l2: 0.209656\tvalid_0's RMSLE: 0.115084\n",
            "[1684]\tvalid_0's l2: 0.209648\tvalid_0's RMSLE: 0.115082\n",
            "[1685]\tvalid_0's l2: 0.209632\tvalid_0's RMSLE: 0.115078\n",
            "[1686]\tvalid_0's l2: 0.20961\tvalid_0's RMSLE: 0.115071\n",
            "[1687]\tvalid_0's l2: 0.2096\tvalid_0's RMSLE: 0.115068\n",
            "[1688]\tvalid_0's l2: 0.209587\tvalid_0's RMSLE: 0.115065\n",
            "[1689]\tvalid_0's l2: 0.209576\tvalid_0's RMSLE: 0.115062\n",
            "[1690]\tvalid_0's l2: 0.209563\tvalid_0's RMSLE: 0.115058\n",
            "[1691]\tvalid_0's l2: 0.209549\tvalid_0's RMSLE: 0.115054\n",
            "[1692]\tvalid_0's l2: 0.209538\tvalid_0's RMSLE: 0.115051\n",
            "[1693]\tvalid_0's l2: 0.209523\tvalid_0's RMSLE: 0.115047\n",
            "[1694]\tvalid_0's l2: 0.209511\tvalid_0's RMSLE: 0.115044\n",
            "[1695]\tvalid_0's l2: 0.2095\tvalid_0's RMSLE: 0.11504\n",
            "[1696]\tvalid_0's l2: 0.209488\tvalid_0's RMSLE: 0.115038\n",
            "[1697]\tvalid_0's l2: 0.209475\tvalid_0's RMSLE: 0.115034\n",
            "[1698]\tvalid_0's l2: 0.209465\tvalid_0's RMSLE: 0.115032\n",
            "[1699]\tvalid_0's l2: 0.209453\tvalid_0's RMSLE: 0.115028\n",
            "[1700]\tvalid_0's l2: 0.209441\tvalid_0's RMSLE: 0.115025\n",
            "[1701]\tvalid_0's l2: 0.209426\tvalid_0's RMSLE: 0.115021\n",
            "[1702]\tvalid_0's l2: 0.209415\tvalid_0's RMSLE: 0.115018\n",
            "[1703]\tvalid_0's l2: 0.209402\tvalid_0's RMSLE: 0.115015\n",
            "[1704]\tvalid_0's l2: 0.209388\tvalid_0's RMSLE: 0.115012\n",
            "[1705]\tvalid_0's l2: 0.209377\tvalid_0's RMSLE: 0.115008\n",
            "[1706]\tvalid_0's l2: 0.209365\tvalid_0's RMSLE: 0.115005\n",
            "[1707]\tvalid_0's l2: 0.209351\tvalid_0's RMSLE: 0.115001\n",
            "[1708]\tvalid_0's l2: 0.20934\tvalid_0's RMSLE: 0.114998\n",
            "[1709]\tvalid_0's l2: 0.209329\tvalid_0's RMSLE: 0.114995\n",
            "[1710]\tvalid_0's l2: 0.209315\tvalid_0's RMSLE: 0.114991\n",
            "[1711]\tvalid_0's l2: 0.209301\tvalid_0's RMSLE: 0.114987\n",
            "[1712]\tvalid_0's l2: 0.20929\tvalid_0's RMSLE: 0.114985\n",
            "[1713]\tvalid_0's l2: 0.209279\tvalid_0's RMSLE: 0.114982\n",
            "[1714]\tvalid_0's l2: 0.209265\tvalid_0's RMSLE: 0.114979\n",
            "[1715]\tvalid_0's l2: 0.209254\tvalid_0's RMSLE: 0.114976\n",
            "[1716]\tvalid_0's l2: 0.209246\tvalid_0's RMSLE: 0.114973\n",
            "[1717]\tvalid_0's l2: 0.209226\tvalid_0's RMSLE: 0.114969\n",
            "[1718]\tvalid_0's l2: 0.209212\tvalid_0's RMSLE: 0.114965\n",
            "[1719]\tvalid_0's l2: 0.209202\tvalid_0's RMSLE: 0.114962\n",
            "[1720]\tvalid_0's l2: 0.209192\tvalid_0's RMSLE: 0.114959\n",
            "[1721]\tvalid_0's l2: 0.209183\tvalid_0's RMSLE: 0.114957\n",
            "[1722]\tvalid_0's l2: 0.209169\tvalid_0's RMSLE: 0.114953\n",
            "[1723]\tvalid_0's l2: 0.209158\tvalid_0's RMSLE: 0.11495\n",
            "[1724]\tvalid_0's l2: 0.209142\tvalid_0's RMSLE: 0.114945\n",
            "[1725]\tvalid_0's l2: 0.209129\tvalid_0's RMSLE: 0.114942\n",
            "[1726]\tvalid_0's l2: 0.209117\tvalid_0's RMSLE: 0.114939\n",
            "[1727]\tvalid_0's l2: 0.209105\tvalid_0's RMSLE: 0.114936\n",
            "[1728]\tvalid_0's l2: 0.209092\tvalid_0's RMSLE: 0.114932\n",
            "[1729]\tvalid_0's l2: 0.209083\tvalid_0's RMSLE: 0.11493\n",
            "[1730]\tvalid_0's l2: 0.20907\tvalid_0's RMSLE: 0.114926\n",
            "[1731]\tvalid_0's l2: 0.209057\tvalid_0's RMSLE: 0.114922\n",
            "[1732]\tvalid_0's l2: 0.209042\tvalid_0's RMSLE: 0.114919\n",
            "[1733]\tvalid_0's l2: 0.209028\tvalid_0's RMSLE: 0.114915\n",
            "[1734]\tvalid_0's l2: 0.209017\tvalid_0's RMSLE: 0.114912\n",
            "[1735]\tvalid_0's l2: 0.209004\tvalid_0's RMSLE: 0.114908\n",
            "[1736]\tvalid_0's l2: 0.208991\tvalid_0's RMSLE: 0.114905\n",
            "[1737]\tvalid_0's l2: 0.20898\tvalid_0's RMSLE: 0.114902\n",
            "[1738]\tvalid_0's l2: 0.208968\tvalid_0's RMSLE: 0.114898\n",
            "[1739]\tvalid_0's l2: 0.208957\tvalid_0's RMSLE: 0.114895\n",
            "[1740]\tvalid_0's l2: 0.208946\tvalid_0's RMSLE: 0.114892\n",
            "[1741]\tvalid_0's l2: 0.208934\tvalid_0's RMSLE: 0.114889\n",
            "[1742]\tvalid_0's l2: 0.208923\tvalid_0's RMSLE: 0.114886\n",
            "[1743]\tvalid_0's l2: 0.208913\tvalid_0's RMSLE: 0.114883\n",
            "[1744]\tvalid_0's l2: 0.208901\tvalid_0's RMSLE: 0.114881\n",
            "[1745]\tvalid_0's l2: 0.208891\tvalid_0's RMSLE: 0.114878\n",
            "[1746]\tvalid_0's l2: 0.208879\tvalid_0's RMSLE: 0.114875\n",
            "[1747]\tvalid_0's l2: 0.208865\tvalid_0's RMSLE: 0.114872\n",
            "[1748]\tvalid_0's l2: 0.208854\tvalid_0's RMSLE: 0.114869\n",
            "[1749]\tvalid_0's l2: 0.208837\tvalid_0's RMSLE: 0.114864\n",
            "[1750]\tvalid_0's l2: 0.208826\tvalid_0's RMSLE: 0.114861\n",
            "[1751]\tvalid_0's l2: 0.20881\tvalid_0's RMSLE: 0.114857\n",
            "[1752]\tvalid_0's l2: 0.208798\tvalid_0's RMSLE: 0.114854\n",
            "[1753]\tvalid_0's l2: 0.208786\tvalid_0's RMSLE: 0.11485\n",
            "[1754]\tvalid_0's l2: 0.208776\tvalid_0's RMSLE: 0.114847\n",
            "[1755]\tvalid_0's l2: 0.208761\tvalid_0's RMSLE: 0.114844\n",
            "[1756]\tvalid_0's l2: 0.208748\tvalid_0's RMSLE: 0.11484\n",
            "[1757]\tvalid_0's l2: 0.208736\tvalid_0's RMSLE: 0.114837\n",
            "[1758]\tvalid_0's l2: 0.208725\tvalid_0's RMSLE: 0.114833\n",
            "[1759]\tvalid_0's l2: 0.208714\tvalid_0's RMSLE: 0.114831\n",
            "[1760]\tvalid_0's l2: 0.208703\tvalid_0's RMSLE: 0.114828\n",
            "[1761]\tvalid_0's l2: 0.208689\tvalid_0's RMSLE: 0.114824\n",
            "[1762]\tvalid_0's l2: 0.208678\tvalid_0's RMSLE: 0.114821\n",
            "[1763]\tvalid_0's l2: 0.208665\tvalid_0's RMSLE: 0.114818\n",
            "[1764]\tvalid_0's l2: 0.208652\tvalid_0's RMSLE: 0.114814\n",
            "[1765]\tvalid_0's l2: 0.20864\tvalid_0's RMSLE: 0.114811\n",
            "[1766]\tvalid_0's l2: 0.208627\tvalid_0's RMSLE: 0.114807\n",
            "[1767]\tvalid_0's l2: 0.208617\tvalid_0's RMSLE: 0.114804\n",
            "[1768]\tvalid_0's l2: 0.208604\tvalid_0's RMSLE: 0.114801\n",
            "[1769]\tvalid_0's l2: 0.208592\tvalid_0's RMSLE: 0.114798\n",
            "[1770]\tvalid_0's l2: 0.20858\tvalid_0's RMSLE: 0.114795\n",
            "[1771]\tvalid_0's l2: 0.208569\tvalid_0's RMSLE: 0.114792\n",
            "[1772]\tvalid_0's l2: 0.208559\tvalid_0's RMSLE: 0.114789\n",
            "[1773]\tvalid_0's l2: 0.208548\tvalid_0's RMSLE: 0.114786\n",
            "[1774]\tvalid_0's l2: 0.208532\tvalid_0's RMSLE: 0.114782\n",
            "[1775]\tvalid_0's l2: 0.208524\tvalid_0's RMSLE: 0.114779\n",
            "[1776]\tvalid_0's l2: 0.208508\tvalid_0's RMSLE: 0.114775\n",
            "[1777]\tvalid_0's l2: 0.208494\tvalid_0's RMSLE: 0.114772\n",
            "[1778]\tvalid_0's l2: 0.208482\tvalid_0's RMSLE: 0.114769\n",
            "[1779]\tvalid_0's l2: 0.208473\tvalid_0's RMSLE: 0.114766\n",
            "[1780]\tvalid_0's l2: 0.208463\tvalid_0's RMSLE: 0.114763\n",
            "[1781]\tvalid_0's l2: 0.208451\tvalid_0's RMSLE: 0.114759\n",
            "[1782]\tvalid_0's l2: 0.208435\tvalid_0's RMSLE: 0.114756\n",
            "[1783]\tvalid_0's l2: 0.208425\tvalid_0's RMSLE: 0.114753\n",
            "[1784]\tvalid_0's l2: 0.208413\tvalid_0's RMSLE: 0.11475\n",
            "[1785]\tvalid_0's l2: 0.208401\tvalid_0's RMSLE: 0.114746\n",
            "[1786]\tvalid_0's l2: 0.208392\tvalid_0's RMSLE: 0.114744\n",
            "[1787]\tvalid_0's l2: 0.208381\tvalid_0's RMSLE: 0.11474\n",
            "[1788]\tvalid_0's l2: 0.208369\tvalid_0's RMSLE: 0.114737\n",
            "[1789]\tvalid_0's l2: 0.208358\tvalid_0's RMSLE: 0.114734\n",
            "[1790]\tvalid_0's l2: 0.208347\tvalid_0's RMSLE: 0.114731\n",
            "[1791]\tvalid_0's l2: 0.208337\tvalid_0's RMSLE: 0.114728\n",
            "[1792]\tvalid_0's l2: 0.208324\tvalid_0's RMSLE: 0.114725\n",
            "[1793]\tvalid_0's l2: 0.208311\tvalid_0's RMSLE: 0.114722\n",
            "[1794]\tvalid_0's l2: 0.208297\tvalid_0's RMSLE: 0.114718\n",
            "[1795]\tvalid_0's l2: 0.208286\tvalid_0's RMSLE: 0.114715\n",
            "[1796]\tvalid_0's l2: 0.208272\tvalid_0's RMSLE: 0.114712\n",
            "[1797]\tvalid_0's l2: 0.208257\tvalid_0's RMSLE: 0.114708\n",
            "[1798]\tvalid_0's l2: 0.208246\tvalid_0's RMSLE: 0.114705\n",
            "[1799]\tvalid_0's l2: 0.208235\tvalid_0's RMSLE: 0.114701\n",
            "[1800]\tvalid_0's l2: 0.208225\tvalid_0's RMSLE: 0.114698\n",
            "[1801]\tvalid_0's l2: 0.208212\tvalid_0's RMSLE: 0.114695\n",
            "[1802]\tvalid_0's l2: 0.208203\tvalid_0's RMSLE: 0.114692\n",
            "[1803]\tvalid_0's l2: 0.208188\tvalid_0's RMSLE: 0.114688\n",
            "[1804]\tvalid_0's l2: 0.208181\tvalid_0's RMSLE: 0.114687\n",
            "[1805]\tvalid_0's l2: 0.208172\tvalid_0's RMSLE: 0.114684\n",
            "[1806]\tvalid_0's l2: 0.208163\tvalid_0's RMSLE: 0.114682\n",
            "[1807]\tvalid_0's l2: 0.208152\tvalid_0's RMSLE: 0.114679\n",
            "[1808]\tvalid_0's l2: 0.20814\tvalid_0's RMSLE: 0.114676\n",
            "[1809]\tvalid_0's l2: 0.208125\tvalid_0's RMSLE: 0.114672\n",
            "[1810]\tvalid_0's l2: 0.208117\tvalid_0's RMSLE: 0.11467\n",
            "[1811]\tvalid_0's l2: 0.208106\tvalid_0's RMSLE: 0.114667\n",
            "[1812]\tvalid_0's l2: 0.208096\tvalid_0's RMSLE: 0.114664\n",
            "[1813]\tvalid_0's l2: 0.208085\tvalid_0's RMSLE: 0.114662\n",
            "[1814]\tvalid_0's l2: 0.208077\tvalid_0's RMSLE: 0.114659\n",
            "[1815]\tvalid_0's l2: 0.208056\tvalid_0's RMSLE: 0.114653\n",
            "[1816]\tvalid_0's l2: 0.208041\tvalid_0's RMSLE: 0.114649\n",
            "[1817]\tvalid_0's l2: 0.208023\tvalid_0's RMSLE: 0.114645\n",
            "[1818]\tvalid_0's l2: 0.208011\tvalid_0's RMSLE: 0.114641\n",
            "[1819]\tvalid_0's l2: 0.207998\tvalid_0's RMSLE: 0.114639\n",
            "[1820]\tvalid_0's l2: 0.207988\tvalid_0's RMSLE: 0.114636\n",
            "[1821]\tvalid_0's l2: 0.207981\tvalid_0's RMSLE: 0.114634\n",
            "[1822]\tvalid_0's l2: 0.207965\tvalid_0's RMSLE: 0.11463\n",
            "[1823]\tvalid_0's l2: 0.207953\tvalid_0's RMSLE: 0.114627\n",
            "[1824]\tvalid_0's l2: 0.207938\tvalid_0's RMSLE: 0.114623\n",
            "[1825]\tvalid_0's l2: 0.207924\tvalid_0's RMSLE: 0.114619\n",
            "[1826]\tvalid_0's l2: 0.20791\tvalid_0's RMSLE: 0.114615\n",
            "[1827]\tvalid_0's l2: 0.207898\tvalid_0's RMSLE: 0.114612\n",
            "[1828]\tvalid_0's l2: 0.207888\tvalid_0's RMSLE: 0.114609\n",
            "[1829]\tvalid_0's l2: 0.207877\tvalid_0's RMSLE: 0.114606\n",
            "[1830]\tvalid_0's l2: 0.207868\tvalid_0's RMSLE: 0.114604\n",
            "[1831]\tvalid_0's l2: 0.207854\tvalid_0's RMSLE: 0.1146\n",
            "[1832]\tvalid_0's l2: 0.207843\tvalid_0's RMSLE: 0.114597\n",
            "[1833]\tvalid_0's l2: 0.207828\tvalid_0's RMSLE: 0.114594\n",
            "[1834]\tvalid_0's l2: 0.207815\tvalid_0's RMSLE: 0.114591\n",
            "[1835]\tvalid_0's l2: 0.207803\tvalid_0's RMSLE: 0.114587\n",
            "[1836]\tvalid_0's l2: 0.207788\tvalid_0's RMSLE: 0.114583\n",
            "[1837]\tvalid_0's l2: 0.207776\tvalid_0's RMSLE: 0.114579\n",
            "[1838]\tvalid_0's l2: 0.207765\tvalid_0's RMSLE: 0.114577\n",
            "[1839]\tvalid_0's l2: 0.207754\tvalid_0's RMSLE: 0.114574\n",
            "[1840]\tvalid_0's l2: 0.207738\tvalid_0's RMSLE: 0.11457\n",
            "[1841]\tvalid_0's l2: 0.207728\tvalid_0's RMSLE: 0.114567\n",
            "[1842]\tvalid_0's l2: 0.207718\tvalid_0's RMSLE: 0.114564\n",
            "[1843]\tvalid_0's l2: 0.207708\tvalid_0's RMSLE: 0.114562\n",
            "[1844]\tvalid_0's l2: 0.207698\tvalid_0's RMSLE: 0.114559\n",
            "[1845]\tvalid_0's l2: 0.207691\tvalid_0's RMSLE: 0.114557\n",
            "[1846]\tvalid_0's l2: 0.207682\tvalid_0's RMSLE: 0.114555\n",
            "[1847]\tvalid_0's l2: 0.207671\tvalid_0's RMSLE: 0.114552\n",
            "[1848]\tvalid_0's l2: 0.207662\tvalid_0's RMSLE: 0.11455\n",
            "[1849]\tvalid_0's l2: 0.207647\tvalid_0's RMSLE: 0.114546\n",
            "[1850]\tvalid_0's l2: 0.207638\tvalid_0's RMSLE: 0.114544\n",
            "[1851]\tvalid_0's l2: 0.20763\tvalid_0's RMSLE: 0.114542\n",
            "[1852]\tvalid_0's l2: 0.20762\tvalid_0's RMSLE: 0.114539\n",
            "[1853]\tvalid_0's l2: 0.207609\tvalid_0's RMSLE: 0.114536\n",
            "[1854]\tvalid_0's l2: 0.2076\tvalid_0's RMSLE: 0.114533\n",
            "[1855]\tvalid_0's l2: 0.20759\tvalid_0's RMSLE: 0.11453\n",
            "[1856]\tvalid_0's l2: 0.207582\tvalid_0's RMSLE: 0.114528\n",
            "[1857]\tvalid_0's l2: 0.207569\tvalid_0's RMSLE: 0.114525\n",
            "[1858]\tvalid_0's l2: 0.20756\tvalid_0's RMSLE: 0.114522\n",
            "[1859]\tvalid_0's l2: 0.207545\tvalid_0's RMSLE: 0.114518\n",
            "[1860]\tvalid_0's l2: 0.207536\tvalid_0's RMSLE: 0.114515\n",
            "[1861]\tvalid_0's l2: 0.207527\tvalid_0's RMSLE: 0.114513\n",
            "[1862]\tvalid_0's l2: 0.207515\tvalid_0's RMSLE: 0.11451\n",
            "[1863]\tvalid_0's l2: 0.207505\tvalid_0's RMSLE: 0.114507\n",
            "[1864]\tvalid_0's l2: 0.207498\tvalid_0's RMSLE: 0.114505\n",
            "[1865]\tvalid_0's l2: 0.207484\tvalid_0's RMSLE: 0.114502\n",
            "[1866]\tvalid_0's l2: 0.207474\tvalid_0's RMSLE: 0.1145\n",
            "[1867]\tvalid_0's l2: 0.207463\tvalid_0's RMSLE: 0.114497\n",
            "[1868]\tvalid_0's l2: 0.207451\tvalid_0's RMSLE: 0.114493\n",
            "[1869]\tvalid_0's l2: 0.20744\tvalid_0's RMSLE: 0.11449\n",
            "[1870]\tvalid_0's l2: 0.207429\tvalid_0's RMSLE: 0.114487\n",
            "[1871]\tvalid_0's l2: 0.207419\tvalid_0's RMSLE: 0.114484\n",
            "[1872]\tvalid_0's l2: 0.20741\tvalid_0's RMSLE: 0.114482\n",
            "[1873]\tvalid_0's l2: 0.207399\tvalid_0's RMSLE: 0.114479\n",
            "[1874]\tvalid_0's l2: 0.20739\tvalid_0's RMSLE: 0.114477\n",
            "[1875]\tvalid_0's l2: 0.207382\tvalid_0's RMSLE: 0.114474\n",
            "[1876]\tvalid_0's l2: 0.207372\tvalid_0's RMSLE: 0.114471\n",
            "[1877]\tvalid_0's l2: 0.207358\tvalid_0's RMSLE: 0.114468\n",
            "[1878]\tvalid_0's l2: 0.207349\tvalid_0's RMSLE: 0.114465\n",
            "[1879]\tvalid_0's l2: 0.207337\tvalid_0's RMSLE: 0.114462\n",
            "[1880]\tvalid_0's l2: 0.207329\tvalid_0's RMSLE: 0.11446\n",
            "[1881]\tvalid_0's l2: 0.207317\tvalid_0's RMSLE: 0.114457\n",
            "[1882]\tvalid_0's l2: 0.207306\tvalid_0's RMSLE: 0.114454\n",
            "[1883]\tvalid_0's l2: 0.207292\tvalid_0's RMSLE: 0.11445\n",
            "[1884]\tvalid_0's l2: 0.20728\tvalid_0's RMSLE: 0.114447\n",
            "[1885]\tvalid_0's l2: 0.20727\tvalid_0's RMSLE: 0.114444\n",
            "[1886]\tvalid_0's l2: 0.20726\tvalid_0's RMSLE: 0.114442\n",
            "[1887]\tvalid_0's l2: 0.20725\tvalid_0's RMSLE: 0.114439\n",
            "[1888]\tvalid_0's l2: 0.207239\tvalid_0's RMSLE: 0.114437\n",
            "[1889]\tvalid_0's l2: 0.207226\tvalid_0's RMSLE: 0.114433\n",
            "[1890]\tvalid_0's l2: 0.207219\tvalid_0's RMSLE: 0.114431\n",
            "[1891]\tvalid_0's l2: 0.207209\tvalid_0's RMSLE: 0.114428\n",
            "[1892]\tvalid_0's l2: 0.207195\tvalid_0's RMSLE: 0.114424\n",
            "[1893]\tvalid_0's l2: 0.207186\tvalid_0's RMSLE: 0.114422\n",
            "[1894]\tvalid_0's l2: 0.207176\tvalid_0's RMSLE: 0.114419\n",
            "[1895]\tvalid_0's l2: 0.20716\tvalid_0's RMSLE: 0.114415\n",
            "[1896]\tvalid_0's l2: 0.207152\tvalid_0's RMSLE: 0.114412\n",
            "[1897]\tvalid_0's l2: 0.207138\tvalid_0's RMSLE: 0.114409\n",
            "[1898]\tvalid_0's l2: 0.207123\tvalid_0's RMSLE: 0.114405\n",
            "[1899]\tvalid_0's l2: 0.207104\tvalid_0's RMSLE: 0.1144\n",
            "[1900]\tvalid_0's l2: 0.207094\tvalid_0's RMSLE: 0.114397\n",
            "[1901]\tvalid_0's l2: 0.207086\tvalid_0's RMSLE: 0.114395\n",
            "[1902]\tvalid_0's l2: 0.207076\tvalid_0's RMSLE: 0.114392\n",
            "[1903]\tvalid_0's l2: 0.207062\tvalid_0's RMSLE: 0.114388\n",
            "[1904]\tvalid_0's l2: 0.207053\tvalid_0's RMSLE: 0.114386\n",
            "[1905]\tvalid_0's l2: 0.207038\tvalid_0's RMSLE: 0.114382\n",
            "[1906]\tvalid_0's l2: 0.207027\tvalid_0's RMSLE: 0.114379\n",
            "[1907]\tvalid_0's l2: 0.207017\tvalid_0's RMSLE: 0.114376\n",
            "[1908]\tvalid_0's l2: 0.20701\tvalid_0's RMSLE: 0.114374\n",
            "[1909]\tvalid_0's l2: 0.206997\tvalid_0's RMSLE: 0.11437\n",
            "[1910]\tvalid_0's l2: 0.206988\tvalid_0's RMSLE: 0.114368\n",
            "[1911]\tvalid_0's l2: 0.206977\tvalid_0's RMSLE: 0.114365\n",
            "[1912]\tvalid_0's l2: 0.206967\tvalid_0's RMSLE: 0.114362\n",
            "[1913]\tvalid_0's l2: 0.206954\tvalid_0's RMSLE: 0.114358\n",
            "[1914]\tvalid_0's l2: 0.206948\tvalid_0's RMSLE: 0.114356\n",
            "[1915]\tvalid_0's l2: 0.206936\tvalid_0's RMSLE: 0.114353\n",
            "[1916]\tvalid_0's l2: 0.206927\tvalid_0's RMSLE: 0.114351\n",
            "[1917]\tvalid_0's l2: 0.206917\tvalid_0's RMSLE: 0.114348\n",
            "[1918]\tvalid_0's l2: 0.206906\tvalid_0's RMSLE: 0.114345\n",
            "[1919]\tvalid_0's l2: 0.206894\tvalid_0's RMSLE: 0.114342\n",
            "[1920]\tvalid_0's l2: 0.20688\tvalid_0's RMSLE: 0.114338\n",
            "[1921]\tvalid_0's l2: 0.206872\tvalid_0's RMSLE: 0.114336\n",
            "[1922]\tvalid_0's l2: 0.20686\tvalid_0's RMSLE: 0.114333\n",
            "[1923]\tvalid_0's l2: 0.206848\tvalid_0's RMSLE: 0.11433\n",
            "[1924]\tvalid_0's l2: 0.206838\tvalid_0's RMSLE: 0.114327\n",
            "[1925]\tvalid_0's l2: 0.206828\tvalid_0's RMSLE: 0.114324\n",
            "[1926]\tvalid_0's l2: 0.206815\tvalid_0's RMSLE: 0.114321\n",
            "[1927]\tvalid_0's l2: 0.206803\tvalid_0's RMSLE: 0.114318\n",
            "[1928]\tvalid_0's l2: 0.20679\tvalid_0's RMSLE: 0.114315\n",
            "[1929]\tvalid_0's l2: 0.20678\tvalid_0's RMSLE: 0.114313\n",
            "[1930]\tvalid_0's l2: 0.206772\tvalid_0's RMSLE: 0.11431\n",
            "[1931]\tvalid_0's l2: 0.206761\tvalid_0's RMSLE: 0.114307\n",
            "[1932]\tvalid_0's l2: 0.206753\tvalid_0's RMSLE: 0.114305\n",
            "[1933]\tvalid_0's l2: 0.206739\tvalid_0's RMSLE: 0.1143\n",
            "[1934]\tvalid_0's l2: 0.206729\tvalid_0's RMSLE: 0.114297\n",
            "[1935]\tvalid_0's l2: 0.206719\tvalid_0's RMSLE: 0.114294\n",
            "[1936]\tvalid_0's l2: 0.206709\tvalid_0's RMSLE: 0.114292\n",
            "[1937]\tvalid_0's l2: 0.206699\tvalid_0's RMSLE: 0.11429\n",
            "[1938]\tvalid_0's l2: 0.20669\tvalid_0's RMSLE: 0.114287\n",
            "[1939]\tvalid_0's l2: 0.206679\tvalid_0's RMSLE: 0.114285\n",
            "[1940]\tvalid_0's l2: 0.206669\tvalid_0's RMSLE: 0.114282\n",
            "[1941]\tvalid_0's l2: 0.206658\tvalid_0's RMSLE: 0.114278\n",
            "[1942]\tvalid_0's l2: 0.206646\tvalid_0's RMSLE: 0.114275\n",
            "[1943]\tvalid_0's l2: 0.206637\tvalid_0's RMSLE: 0.114272\n",
            "[1944]\tvalid_0's l2: 0.206622\tvalid_0's RMSLE: 0.114269\n",
            "[1945]\tvalid_0's l2: 0.206608\tvalid_0's RMSLE: 0.114266\n",
            "[1946]\tvalid_0's l2: 0.206599\tvalid_0's RMSLE: 0.114263\n",
            "[1947]\tvalid_0's l2: 0.20659\tvalid_0's RMSLE: 0.114261\n",
            "[1948]\tvalid_0's l2: 0.20658\tvalid_0's RMSLE: 0.114259\n",
            "[1949]\tvalid_0's l2: 0.206571\tvalid_0's RMSLE: 0.114256\n",
            "[1950]\tvalid_0's l2: 0.206565\tvalid_0's RMSLE: 0.114255\n",
            "[1951]\tvalid_0's l2: 0.206555\tvalid_0's RMSLE: 0.114252\n",
            "[1952]\tvalid_0's l2: 0.206545\tvalid_0's RMSLE: 0.11425\n",
            "[1953]\tvalid_0's l2: 0.206534\tvalid_0's RMSLE: 0.114247\n",
            "[1954]\tvalid_0's l2: 0.206521\tvalid_0's RMSLE: 0.114243\n",
            "[1955]\tvalid_0's l2: 0.206512\tvalid_0's RMSLE: 0.11424\n",
            "[1956]\tvalid_0's l2: 0.206503\tvalid_0's RMSLE: 0.114238\n",
            "[1957]\tvalid_0's l2: 0.206491\tvalid_0's RMSLE: 0.114235\n",
            "[1958]\tvalid_0's l2: 0.206481\tvalid_0's RMSLE: 0.114232\n",
            "[1959]\tvalid_0's l2: 0.206464\tvalid_0's RMSLE: 0.114228\n",
            "[1960]\tvalid_0's l2: 0.206453\tvalid_0's RMSLE: 0.114225\n",
            "[1961]\tvalid_0's l2: 0.206443\tvalid_0's RMSLE: 0.114222\n",
            "[1962]\tvalid_0's l2: 0.206434\tvalid_0's RMSLE: 0.11422\n",
            "[1963]\tvalid_0's l2: 0.206426\tvalid_0's RMSLE: 0.114218\n",
            "[1964]\tvalid_0's l2: 0.206415\tvalid_0's RMSLE: 0.114216\n",
            "[1965]\tvalid_0's l2: 0.206403\tvalid_0's RMSLE: 0.114212\n",
            "[1966]\tvalid_0's l2: 0.206393\tvalid_0's RMSLE: 0.11421\n",
            "[1967]\tvalid_0's l2: 0.206384\tvalid_0's RMSLE: 0.114206\n",
            "[1968]\tvalid_0's l2: 0.206373\tvalid_0's RMSLE: 0.114204\n",
            "[1969]\tvalid_0's l2: 0.206362\tvalid_0's RMSLE: 0.1142\n",
            "[1970]\tvalid_0's l2: 0.206354\tvalid_0's RMSLE: 0.114198\n",
            "[1971]\tvalid_0's l2: 0.206346\tvalid_0's RMSLE: 0.114196\n",
            "[1972]\tvalid_0's l2: 0.206338\tvalid_0's RMSLE: 0.114194\n",
            "[1973]\tvalid_0's l2: 0.206331\tvalid_0's RMSLE: 0.114192\n",
            "[1974]\tvalid_0's l2: 0.206322\tvalid_0's RMSLE: 0.114189\n",
            "[1975]\tvalid_0's l2: 0.206312\tvalid_0's RMSLE: 0.114186\n",
            "[1976]\tvalid_0's l2: 0.206301\tvalid_0's RMSLE: 0.114183\n",
            "[1977]\tvalid_0's l2: 0.206293\tvalid_0's RMSLE: 0.114181\n",
            "[1978]\tvalid_0's l2: 0.206283\tvalid_0's RMSLE: 0.114178\n",
            "[1979]\tvalid_0's l2: 0.20627\tvalid_0's RMSLE: 0.114176\n",
            "[1980]\tvalid_0's l2: 0.206261\tvalid_0's RMSLE: 0.114173\n",
            "[1981]\tvalid_0's l2: 0.206253\tvalid_0's RMSLE: 0.114171\n",
            "[1982]\tvalid_0's l2: 0.206243\tvalid_0's RMSLE: 0.114168\n",
            "[1983]\tvalid_0's l2: 0.206231\tvalid_0's RMSLE: 0.114165\n",
            "[1984]\tvalid_0's l2: 0.206221\tvalid_0's RMSLE: 0.114163\n",
            "[1985]\tvalid_0's l2: 0.206211\tvalid_0's RMSLE: 0.11416\n",
            "[1986]\tvalid_0's l2: 0.206202\tvalid_0's RMSLE: 0.114158\n",
            "[1987]\tvalid_0's l2: 0.206193\tvalid_0's RMSLE: 0.114155\n",
            "[1988]\tvalid_0's l2: 0.206186\tvalid_0's RMSLE: 0.114153\n",
            "[1989]\tvalid_0's l2: 0.206176\tvalid_0's RMSLE: 0.11415\n",
            "[1990]\tvalid_0's l2: 0.206167\tvalid_0's RMSLE: 0.114148\n",
            "[1991]\tvalid_0's l2: 0.206156\tvalid_0's RMSLE: 0.114145\n",
            "[1992]\tvalid_0's l2: 0.206149\tvalid_0's RMSLE: 0.114143\n",
            "[1993]\tvalid_0's l2: 0.206141\tvalid_0's RMSLE: 0.11414\n",
            "[1994]\tvalid_0's l2: 0.206129\tvalid_0's RMSLE: 0.114137\n",
            "[1995]\tvalid_0's l2: 0.206117\tvalid_0's RMSLE: 0.114134\n",
            "[1996]\tvalid_0's l2: 0.206108\tvalid_0's RMSLE: 0.114132\n",
            "[1997]\tvalid_0's l2: 0.206097\tvalid_0's RMSLE: 0.114129\n",
            "[1998]\tvalid_0's l2: 0.206089\tvalid_0's RMSLE: 0.114126\n",
            "[1999]\tvalid_0's l2: 0.206075\tvalid_0's RMSLE: 0.114123\n",
            "[2000]\tvalid_0's l2: 0.206063\tvalid_0's RMSLE: 0.11412\n",
            "Did not meet early stopping. Best iteration is:\n",
            "[2000]\tvalid_0's l2: 0.206063\tvalid_0's RMSLE: 0.11412\n",
            "CPU times: user 3h 51min 2s, sys: 10.9 s, total: 3h 51min 13s\n",
            "Wall time: 59min 28s\n"
          ]
        }
      ],
      "source": [
        "%%time\n",
        "model=lgbm(trainframe,target,2000,0.05,cvalframe,cvaltar,losslgb)"
      ],
      "id": "18006c37"
    },
    {
      "cell_type": "code",
      "execution_count": null,
      "metadata": {
        "colab": {
          "base_uri": "https://localhost:8080/"
        },
        "id": "fX_3mN3Fzhu4",
        "outputId": "a411175b-3f5e-4b1a-e784-e648d9d7ffae"
      },
      "outputs": [
        {
          "name": "stdout",
          "output_type": "stream",
          "text": [
            "RMSLE loss for train =  0.4433445243118526\n",
            "RMSLE loss for CV =  0.4539420079103418\n"
          ]
        }
      ],
      "source": [
        "print('RMSLE loss for train = ',loss(np.expm1(target),np.expm1(model.predict(trainframe))))\n",
        "print('RMSLE loss for CV = ',loss(np.expm1(cvaltar),np.expm1(model.predict(cvalframe))))"
      ],
      "id": "fX_3mN3Fzhu4"
    },
    {
      "cell_type": "markdown",
      "metadata": {
        "id": "-4I8ptL5OZ9i"
      },
      "source": [
        "#### Hyperparameter tuning using gridsearchcv"
      ],
      "id": "-4I8ptL5OZ9i"
    },
    {
      "cell_type": "code",
      "execution_count": null,
      "metadata": {
        "id": "39exsDE2OSKa"
      },
      "outputs": [],
      "source": [
        "params = {'n_estimators' : [1625, 2000],\n",
        "          'max_depth' : [7, 9],\n",
        "          'subsample' : [0.5, 0.9],\n",
        "          'colsample_bytree' : [0.5, 0.7],\n",
        "          'learning_rate': [0.005, 0.05, 0.5]}\n",
        "grlgb = GridSearchCV(LGBMRegressor(random_state=23,n_jobs=-1),params,cv=2,n_jobs=-1)"
      ],
      "id": "39exsDE2OSKa"
    },
    {
      "cell_type": "code",
      "execution_count": null,
      "metadata": {
        "colab": {
          "base_uri": "https://localhost:8080/"
        },
        "id": "t3mU0BffdrUX",
        "outputId": "b5420a18-18a2-4307-bcf4-bec3341f8e10"
      },
      "outputs": [
        {
          "name": "stdout",
          "output_type": "stream",
          "text": [
            "GridSearchCV(cv=2, estimator=LGBMRegressor(random_state=23), n_jobs=-1,\n",
            "             param_grid={'colsample_bytree': [0.5, 0.7],\n",
            "                         'learning_rate': [0.005, 0.05, 0.5], 'max_depth': [7, 9],\n",
            "                         'n_estimators': [1625, 2000], 'subsample': [0.5, 0.9]})\n"
          ]
        }
      ],
      "source": [
        "grlgb.fit(trainframe, target)"
      ],
      "id": "t3mU0BffdrUX"
    },
    {
      "cell_type": "code",
      "execution_count": null,
      "metadata": {
        "colab": {
          "base_uri": "https://localhost:8080/"
        },
        "id": "t9yJFiOvPDsz",
        "outputId": "d48a31b6-d3bc-4b56-d531-c2c5c557a004"
      },
      "outputs": [
        {
          "data": {
            "text/plain": [
              "0.5840724981362898"
            ]
          },
          "execution_count": 85,
          "metadata": {},
          "output_type": "execute_result"
        }
      ],
      "source": [
        "grlgb.best_score_"
      ],
      "id": "t9yJFiOvPDsz"
    },
    {
      "cell_type": "markdown",
      "metadata": {
        "id": "09o48bebOQ4S"
      },
      "source": [
        "#### Fitting it with the best alpha value found using hyperparameter tuning"
      ],
      "id": "09o48bebOQ4S"
    },
    {
      "cell_type": "code",
      "execution_count": null,
      "metadata": {
        "colab": {
          "base_uri": "https://localhost:8080/"
        },
        "id": "RDKgZKg_Mbv0",
        "outputId": "89ee268b-1ed3-44ad-d7e0-8954d3ad9e32"
      },
      "outputs": [
        {
          "name": "stdout",
          "output_type": "stream",
          "text": [
            "{'colsample_bytree': 0.7, 'learning_rate': 0.5, 'max_depth': 9, 'n_estimators': 2000, 'subsample': 0.9}\n",
            "RMSLE loss for train =  0.3738726594625917\n",
            "RMSLE loss for CV =  0.4393984143197857\n"
          ]
        }
      ],
      "source": [
        "print(grlgb.best_params_)\n",
        "best_est = grlgb.best_estimator_\n",
        "y_pred_train_lgb = best_est.predict(trainframe)\n",
        "y_pred_cv_lgb = best_est.predict(cvalframe)\n",
        "print(\"RMSLE loss for train = \", loss(targ1,np.expm1(y_pred_train_lgb)))\n",
        "print(\"RMSLE loss for CV = \", loss(cvaltar1,np.expm1(y_pred_cv_lgb)))"
      ],
      "id": "RDKgZKg_Mbv0"
    },
    {
      "cell_type": "markdown",
      "metadata": {
        "id": "0559263f"
      },
      "source": [
        "### 7 - MLP Model"
      ],
      "id": "0559263f"
    },
    {
      "cell_type": "code",
      "execution_count": null,
      "metadata": {
        "id": "KldoyDK2754d"
      },
      "outputs": [],
      "source": [
        "def SMLP(frame,i):    \n",
        "  input = Input(shape=(frame.shape[1],),sparse=True,dtype='float32')\n",
        "  output = Dense(i,activation='relu')(input)\n",
        "  output = BatchNormalization()(output)\n",
        "  if i==256:                      \n",
        "    while i!=64:          \n",
        "      i/=2           \n",
        "      output = Dense(i,activation='relu')(output)                \n",
        "  else:                      \n",
        "    while i!=16:          \n",
        "      i/=2\n",
        "      output = Dense(i,activation='relu')(output)  \n",
        "  output = Dropout(0.2)(output)\n",
        "  output = Dense(1)(output)\n",
        "  model = Model(input,output)\n",
        "  return model"
      ],
      "id": "KldoyDK2754d"
    },
    {
      "cell_type": "code",
      "execution_count": null,
      "metadata": {
        "id": "tVuRmUdN9tJz"
      },
      "outputs": [],
      "source": [
        "model1=SMLP(trainframe,256)\n",
        "model1.compile(optimizer='adam',loss='mean_squared_error',metrics=['mean_squared_error'])\n",
        "log_dir = \"/content/gdrive/MyDrive/cslogs/\" + datetime.datetime.now().strftime(\"%Y%m%d-%H%M%S\")\n",
        "tensorboard_callback = tf.keras.callbacks.TensorBoard(log_dir=log_dir, histogram_freq=1)\n",
        "\n",
        "for i in [256,512,1024]:\n",
        "    model1.fit(trainframe,target, batch_size = i, epochs = 1, verbose = 1,callbacks=[tensorboard_callback])\n",
        "\n",
        "\n"
      ],
      "id": "tVuRmUdN9tJz"
    },
    {
      "cell_type": "code",
      "execution_count": null,
      "metadata": {
        "id": "3GhMLedXTokA"
      },
      "outputs": [],
      "source": [
        "tensorboard --logdir /content/gdrive/MyDrive/cslogs/20230126-183335"
      ],
      "id": "3GhMLedXTokA"
    },
    {
      "cell_type": "code",
      "execution_count": null,
      "metadata": {
        "id": "F0WpCSZQn8Qz"
      },
      "outputs": [],
      "source": [
        "y_pred_train = model1.predict(trainframe)[:, 0]\n",
        "y_pred_train_model1 = np.expm1(y_pred_train.reshape(-1, 1))[:, 0]\n",
        "print(\"Model1 -- Train RMSLE : \", loss(targ1, y_pred_train_model1))"
      ],
      "id": "F0WpCSZQn8Qz"
    },
    {
      "cell_type": "code",
      "execution_count": null,
      "metadata": {
        "id": "JcUFW2Vr1L5Y"
      },
      "outputs": [],
      "source": [
        "y_pred_cval = model1.predict(cvalframe)[:, 0]\n",
        "y_pred_cval_model1 = np.expm1(y_pred_cval.reshape(-1, 1))[:, 0]\n",
        "print(\"Model1 -- CVAL RMSLE : \", loss(cvaltar1, y_pred_cval_model1))"
      ],
      "id": "JcUFW2Vr1L5Y"
    },
    {
      "cell_type": "code",
      "execution_count": null,
      "metadata": {
        "id": "d2zgyQRC_tyM"
      },
      "outputs": [],
      "source": [
        "model2=SMLP(trainframe,1024)\n",
        "#google colab session was getting crashed if tensor board is included for model 2\n",
        "# log_dir1 = \"/content/gdrive/MyDrive/cslogs2/\" + datetime.datetime.now().strftime(\"%Y%m%d-%H%M%S\")\n",
        "# tensorboard_callback1 = tf.keras.callbacks.TensorBoard(log_dir=log_dir1, histogram_freq=1)\n",
        "model2.compile(optimizer='adam',loss='mean_squared_error')\n",
        "for i in [256,512,1024]:\n",
        "    #model2.fit(trainframe,target, batch_size = i, epochs = 1, verbose = 1,callbacks=[tensorboard_callback1])\n",
        "    model2.fit(trainframe,target, batch_size = i, epochs = 1, verbose = 1)"
      ],
      "id": "d2zgyQRC_tyM"
    },
    {
      "cell_type": "code",
      "execution_count": null,
      "metadata": {
        "id": "Q_pKJjbRaoxs"
      },
      "outputs": [],
      "source": [
        "#tensorboard --logdir1 /content/gdrive/MyDrive/cslogs2/20230126-193409"
      ],
      "id": "Q_pKJjbRaoxs"
    },
    {
      "cell_type": "code",
      "execution_count": null,
      "metadata": {
        "id": "ce8kfl-XKPJK"
      },
      "outputs": [],
      "source": [
        "y_pred_train = model2.predict(trainframe)[:, 0]\n",
        "y_pred_train_model2 = np.expm1((y_pred_train.reshape(-1, 1))[:, 0])\n",
        "print(\"Model2 -- Train RMSLE : \", loss(targ1, y_pred_train_model2))"
      ],
      "id": "ce8kfl-XKPJK"
    },
    {
      "cell_type": "code",
      "execution_count": null,
      "metadata": {
        "id": "9IJSdg6F3FTt"
      },
      "outputs": [],
      "source": [
        "y_pred_cval = model2.predict(cvalframe)[:, 0]\n",
        "y_pred_cval_model2 = np.expm1(y_pred_cval.reshape(-1, 1))[:, 0]\n",
        "print(\"Model2 -- CVAL RMSLE : \", loss(cvaltar1, y_pred_cval_model2))"
      ],
      "id": "9IJSdg6F3FTt"
    },
    {
      "cell_type": "markdown",
      "metadata": {
        "id": "9b46f766"
      },
      "source": [
        "### Ensembling Models"
      ],
      "id": "9b46f766"
    },
    {
      "cell_type": "code",
      "execution_count": null,
      "metadata": {
        "id": "2c561835"
      },
      "outputs": [],
      "source": [
        "def ensemble_generator(model1,model2):\n",
        "    \"\"\"\n",
        "    Description -> It takes 2 models as inputs and finds the best suitable weight that needs to be given to both \n",
        "                   models using rmsle loss as a metric to determine it. \n",
        "    \"\"\"    \n",
        "    sample = np.arange(0,1,0.001)\n",
        "    losslist = [loss(cvaltar1,(w*model1+(1-w)*model2)) for w in sample]\n",
        "    wmin = sample[np.argmin(losslist)]\n",
        "    fpred = (wmin*model1)+((1-wmin)*model2)\n",
        "    return wmin,fpred"
      ],
      "id": "2c561835"
    },
    {
      "cell_type": "code",
      "execution_count": null,
      "metadata": {
        "colab": {
          "base_uri": "https://localhost:8080/"
        },
        "id": "A5TdHJn0nuI9",
        "outputId": "e95322c0-9c33-4793-ec6b-3d4024457da4"
      },
      "outputs": [
        {
          "name": "stdout",
          "output_type": "stream",
          "text": [
            "Optimum Weight =  0.405\n",
            "RMSLE loss for train of MLP1 & MLP2 =  0.19953512719236843\n",
            "RMSLE loss for CV of MLP1 & MLP2 =  0.40474079314218403\n"
          ]
        }
      ],
      "source": [
        "wmin, final_cv_prediction = ensemble_generator(y_pred_cval_model1,y_pred_cval_model2)\n",
        "final_train_prediction = wmin*y_pred_train_model1 + (1-wmin)*y_pred_train_model2\n",
        "print(\"Optimum Weight = \", wmin)\n",
        "print(\"RMSLE loss for train of MLP1 & MLP2 = \", loss(targ1, final_train_prediction))\n",
        "print(\"RMSLE loss for CV of MLP1 & MLP2 = \",loss(cvaltar1, final_cv_prediction))"
      ],
      "id": "A5TdHJn0nuI9"
    },
    {
      "cell_type": "code",
      "execution_count": null,
      "metadata": {
        "colab": {
          "base_uri": "https://localhost:8080/"
        },
        "id": "Is4FEhae8YGU",
        "outputId": "3b41a8a0-092e-4dd4-8ecc-5d85c79c24a1"
      },
      "outputs": [
        {
          "name": "stdout",
          "output_type": "stream",
          "text": [
            "108148/108148 [==============================] - 229s 2ms/step\n",
            "108148/108148 [==============================] - 267s 2ms/step\n"
          ]
        }
      ],
      "source": [
        "y_pred_test       = model1.predict(testframe)[:, 0]\n",
        "y_pred_test_model1 = np.expm1(y_pred_test.reshape(-1, 1))[:, 0]\n",
        "\n",
        "y_pred_test       = model2.predict(testframe)[:, 0]\n",
        "y_pred_test_model2 = np.expm1(y_pred_test.reshape(-1, 1))[:, 0]"
      ],
      "id": "Is4FEhae8YGU"
    },
    {
      "cell_type": "code",
      "execution_count": null,
      "metadata": {
        "id": "9nBMEDek8vni"
      },
      "outputs": [],
      "source": [
        "final_predictions_test = wmin*y_pred_test_model1 + (1-wmin)*y_pred_test_model2"
      ],
      "id": "9nBMEDek8vni"
    },
    {
      "cell_type": "code",
      "execution_count": null,
      "metadata": {
        "id": "6yA-Q0bk9D3y"
      },
      "outputs": [],
      "source": [
        "result_submission = pd.DataFrame({'test_id' : df_test.index.values,'price' : final_predictions_test.reshape(1,-1)[0]})\n",
        "result_submission.to_csv(\"/content/gdrive/MyDrive/binary_files/submission5.csv\", index=False)"
      ],
      "id": "6yA-Q0bk9D3y"
    },
    {
      "cell_type": "code",
      "execution_count": null,
      "metadata": {
        "colab": {
          "base_uri": "https://localhost:8080/",
          "height": 363
        },
        "id": "d7ldPtEF9KeK",
        "outputId": "5816c9b2-882c-4393-e20a-c22f2f35927d"
      },
      "outputs": [
        {
          "data": {
            "text/html": [
              "\n",
              "  <div id=\"df-cd9a9203-6d82-49fe-aa3c-d381cded24cc\">\n",
              "    <div class=\"colab-df-container\">\n",
              "      <div>\n",
              "<style scoped>\n",
              "    .dataframe tbody tr th:only-of-type {\n",
              "        vertical-align: middle;\n",
              "    }\n",
              "\n",
              "    .dataframe tbody tr th {\n",
              "        vertical-align: top;\n",
              "    }\n",
              "\n",
              "    .dataframe thead th {\n",
              "        text-align: right;\n",
              "    }\n",
              "</style>\n",
              "<table border=\"1\" class=\"dataframe\">\n",
              "  <thead>\n",
              "    <tr style=\"text-align: right;\">\n",
              "      <th></th>\n",
              "      <th>test_id</th>\n",
              "      <th>price</th>\n",
              "    </tr>\n",
              "  </thead>\n",
              "  <tbody>\n",
              "    <tr>\n",
              "      <th>0</th>\n",
              "      <td>0</td>\n",
              "      <td>6.826984</td>\n",
              "    </tr>\n",
              "    <tr>\n",
              "      <th>1</th>\n",
              "      <td>1</td>\n",
              "      <td>7.890683</td>\n",
              "    </tr>\n",
              "    <tr>\n",
              "      <th>2</th>\n",
              "      <td>2</td>\n",
              "      <td>74.345634</td>\n",
              "    </tr>\n",
              "    <tr>\n",
              "      <th>3</th>\n",
              "      <td>3</td>\n",
              "      <td>13.522623</td>\n",
              "    </tr>\n",
              "    <tr>\n",
              "      <th>4</th>\n",
              "      <td>4</td>\n",
              "      <td>7.945352</td>\n",
              "    </tr>\n",
              "    <tr>\n",
              "      <th>5</th>\n",
              "      <td>5</td>\n",
              "      <td>9.197771</td>\n",
              "    </tr>\n",
              "    <tr>\n",
              "      <th>6</th>\n",
              "      <td>6</td>\n",
              "      <td>8.002382</td>\n",
              "    </tr>\n",
              "    <tr>\n",
              "      <th>7</th>\n",
              "      <td>7</td>\n",
              "      <td>28.957981</td>\n",
              "    </tr>\n",
              "    <tr>\n",
              "      <th>8</th>\n",
              "      <td>8</td>\n",
              "      <td>49.997025</td>\n",
              "    </tr>\n",
              "    <tr>\n",
              "      <th>9</th>\n",
              "      <td>9</td>\n",
              "      <td>8.199421</td>\n",
              "    </tr>\n",
              "  </tbody>\n",
              "</table>\n",
              "</div>\n",
              "      <button class=\"colab-df-convert\" onclick=\"convertToInteractive('df-cd9a9203-6d82-49fe-aa3c-d381cded24cc')\"\n",
              "              title=\"Convert this dataframe to an interactive table.\"\n",
              "              style=\"display:none;\">\n",
              "        \n",
              "  <svg xmlns=\"http://www.w3.org/2000/svg\" height=\"24px\"viewBox=\"0 0 24 24\"\n",
              "       width=\"24px\">\n",
              "    <path d=\"M0 0h24v24H0V0z\" fill=\"none\"/>\n",
              "    <path d=\"M18.56 5.44l.94 2.06.94-2.06 2.06-.94-2.06-.94-.94-2.06-.94 2.06-2.06.94zm-11 1L8.5 8.5l.94-2.06 2.06-.94-2.06-.94L8.5 2.5l-.94 2.06-2.06.94zm10 10l.94 2.06.94-2.06 2.06-.94-2.06-.94-.94-2.06-.94 2.06-2.06.94z\"/><path d=\"M17.41 7.96l-1.37-1.37c-.4-.4-.92-.59-1.43-.59-.52 0-1.04.2-1.43.59L10.3 9.45l-7.72 7.72c-.78.78-.78 2.05 0 2.83L4 21.41c.39.39.9.59 1.41.59.51 0 1.02-.2 1.41-.59l7.78-7.78 2.81-2.81c.8-.78.8-2.07 0-2.86zM5.41 20L4 18.59l7.72-7.72 1.47 1.35L5.41 20z\"/>\n",
              "  </svg>\n",
              "      </button>\n",
              "      \n",
              "  <style>\n",
              "    .colab-df-container {\n",
              "      display:flex;\n",
              "      flex-wrap:wrap;\n",
              "      gap: 12px;\n",
              "    }\n",
              "\n",
              "    .colab-df-convert {\n",
              "      background-color: #E8F0FE;\n",
              "      border: none;\n",
              "      border-radius: 50%;\n",
              "      cursor: pointer;\n",
              "      display: none;\n",
              "      fill: #1967D2;\n",
              "      height: 32px;\n",
              "      padding: 0 0 0 0;\n",
              "      width: 32px;\n",
              "    }\n",
              "\n",
              "    .colab-df-convert:hover {\n",
              "      background-color: #E2EBFA;\n",
              "      box-shadow: 0px 1px 2px rgba(60, 64, 67, 0.3), 0px 1px 3px 1px rgba(60, 64, 67, 0.15);\n",
              "      fill: #174EA6;\n",
              "    }\n",
              "\n",
              "    [theme=dark] .colab-df-convert {\n",
              "      background-color: #3B4455;\n",
              "      fill: #D2E3FC;\n",
              "    }\n",
              "\n",
              "    [theme=dark] .colab-df-convert:hover {\n",
              "      background-color: #434B5C;\n",
              "      box-shadow: 0px 1px 3px 1px rgba(0, 0, 0, 0.15);\n",
              "      filter: drop-shadow(0px 1px 2px rgba(0, 0, 0, 0.3));\n",
              "      fill: #FFFFFF;\n",
              "    }\n",
              "  </style>\n",
              "\n",
              "      <script>\n",
              "        const buttonEl =\n",
              "          document.querySelector('#df-cd9a9203-6d82-49fe-aa3c-d381cded24cc button.colab-df-convert');\n",
              "        buttonEl.style.display =\n",
              "          google.colab.kernel.accessAllowed ? 'block' : 'none';\n",
              "\n",
              "        async function convertToInteractive(key) {\n",
              "          const element = document.querySelector('#df-cd9a9203-6d82-49fe-aa3c-d381cded24cc');\n",
              "          const dataTable =\n",
              "            await google.colab.kernel.invokeFunction('convertToInteractive',\n",
              "                                                     [key], {});\n",
              "          if (!dataTable) return;\n",
              "\n",
              "          const docLinkHtml = 'Like what you see? Visit the ' +\n",
              "            '<a target=\"_blank\" href=https://colab.research.google.com/notebooks/data_table.ipynb>data table notebook</a>'\n",
              "            + ' to learn more about interactive tables.';\n",
              "          element.innerHTML = '';\n",
              "          dataTable['output_type'] = 'display_data';\n",
              "          await google.colab.output.renderOutput(dataTable, element);\n",
              "          const docLink = document.createElement('div');\n",
              "          docLink.innerHTML = docLinkHtml;\n",
              "          element.appendChild(docLink);\n",
              "        }\n",
              "      </script>\n",
              "    </div>\n",
              "  </div>\n",
              "  "
            ],
            "text/plain": [
              "   test_id      price\n",
              "0        0   6.826984\n",
              "1        1   7.890683\n",
              "2        2  74.345634\n",
              "3        3  13.522623\n",
              "4        4   7.945352\n",
              "5        5   9.197771\n",
              "6        6   8.002382\n",
              "7        7  28.957981\n",
              "8        8  49.997025\n",
              "9        9   8.199421"
            ]
          },
          "execution_count": 27,
          "metadata": {},
          "output_type": "execute_result"
        }
      ],
      "source": [
        "result_submission.head(10)"
      ],
      "id": "d7ldPtEF9KeK"
    },
    {
      "cell_type": "code",
      "execution_count": null,
      "metadata": {
        "colab": {
          "base_uri": "https://localhost:8080/"
        },
        "id": "wXw-SXC6y23I",
        "outputId": "61bd25b7-f487-4d4b-8a17-c43496a51531"
      },
      "outputs": [
        {
          "name": "stderr",
          "output_type": "stream",
          "text": [
            "WARNING:absl:Function `_wrapped_model` contains input name(s) args_0 with unsupported characters which will be renamed to args_0_2 in the SavedModel.\n"
          ]
        },
        {
          "data": {
            "text/plain": [
              "['/content/gdrive/MyDrive/binary_files/model1.joblib']"
            ]
          },
          "execution_count": 27,
          "metadata": {},
          "output_type": "execute_result"
        }
      ],
      "source": [
        "model1.save(\"/content/gdrive/MyDrive/binary_files/model1.hdf5\")"
      ],
      "id": "wXw-SXC6y23I"
    },
    {
      "cell_type": "code",
      "execution_count": null,
      "metadata": {
        "colab": {
          "base_uri": "https://localhost:8080/"
        },
        "id": "KW3PtdGi9QHd",
        "outputId": "3e759847-8e50-4667-e1be-006db9adfcbc"
      },
      "outputs": [
        {
          "name": "stderr",
          "output_type": "stream",
          "text": [
            "WARNING:absl:Function `_wrapped_model` contains input name(s) args_0 with unsupported characters which will be renamed to args_0_2 in the SavedModel.\n"
          ]
        },
        {
          "data": {
            "text/plain": [
              "['/content/gdrive/MyDrive/binary_files/model2.joblib']"
            ]
          },
          "execution_count": 28,
          "metadata": {},
          "output_type": "execute_result"
        }
      ],
      "source": [
        "model2.save(\"/content/gdrive/MyDrive/binary_files/model2.hdf5\")"
      ],
      "id": "KW3PtdGi9QHd"
    },
    {
      "cell_type": "markdown",
      "metadata": {
        "id": "cc8a4ed4"
      },
      "source": [
        "## Conclusion - Best Model"
      ],
      "id": "cc8a4ed4"
    },
    {
      "cell_type": "code",
      "execution_count": null,
      "metadata": {
        "colab": {
          "base_uri": "https://localhost:8080/"
        },
        "id": "Bn157WaOeOVV",
        "outputId": "fee8d6ff-818f-497d-96d0-b0e95a091fc6"
      },
      "outputs": [
        {
          "name": "stdout",
          "output_type": "stream",
          "text": [
            "+--------------------------------+---------------------------------------------+-----------------+\n",
            "|             Model              |                Features used                | CV Loss = RMSLE |\n",
            "+--------------------------------+---------------------------------------------+-----------------+\n",
            "|        Lasso Regression        | TF-IDF + Feature Combined for name and text |      0.745      |\n",
            "|        Ridge Regression        | TF-IDF + Feature Combined for name and text |      0.444      |\n",
            "|          Elastic Net           | TF-IDF + Feature Combined for name and text |      0.745      |\n",
            "|              SVR               | TF-IDF + Feature Combined for name and text |      0.687      |\n",
            "|            XGBoost             | TF-IDF + Feature Combined for name and text |      0.450      |\n",
            "|              LGBM              | TF-IDF + Feature Combined for name and text |      0.439      |\n",
            "|         MLP Model - 1          | TF-IDF + Feature Combined for name and text |      0.420      |\n",
            "|         MLP Model - 2          | TF-IDF + Feature Combined for name and text |      0.412      |\n",
            "| Ensemble Model (MLP-1 + MLP-2) | TF-IDF + Feature Combined for name and text |      0.4047     |\n",
            "+--------------------------------+---------------------------------------------+-----------------+\n"
          ]
        }
      ],
      "source": [
        "m = PrettyTable()\n",
        "\n",
        "m.field_names = [\"Model\", \"Features used\", \"CV Loss = RMSLE\"]\n",
        "\n",
        "m.add_row([\"Lasso Regression\", \"TF-IDF + Feature Combined for name and text\", \"0.745\"])\n",
        "m.add_row([\"Ridge Regression\", \"TF-IDF + Feature Combined for name and text\", \"0.444\"])\n",
        "m.add_row([\"Elastic Net\", \"TF-IDF + Feature Combined for name and text\", \"0.745\"])\n",
        "m.add_row([\"SVR\", \"TF-IDF + Feature Combined for name and text\", \"0.687\"])\n",
        "m.add_row([\"XGBoost\", \"TF-IDF + Feature Combined for name and text\", \"0.450\"])\n",
        "m.add_row([\"LGBM\", \"TF-IDF + Feature Combined for name and text\", \"0.439\"])\n",
        "m.add_row([\"MLP Model - 1\", \"TF-IDF + Feature Combined for name and text\", \"0.420\"])\n",
        "m.add_row([\"MLP Model - 2\", \"TF-IDF + Feature Combined for name and text\", \"0.412\"])\n",
        "m.add_row([\"Ensemble Model (MLP-1 + MLP-2)\", \"TF-IDF + Feature Combined for name and text\", \"0.4047\"])\n",
        "\n",
        "print(m)"
      ],
      "id": "Bn157WaOeOVV"
    },
    {
      "cell_type": "markdown",
      "metadata": {
        "id": "V-NGOE1uafHq"
      },
      "source": [
        "1. The best model is ensemble of MLP Model 1 and MLP Model 2. It had a train RMSLE of 0.1995 and a CV RMSLE of 0.4047 . There is little overfitting\n",
        "\n",
        "2. Rest of model could not observe the patterns present because of compartively higher bias than variance. The MLP model are able to capture the pattern present in data\n",
        "\n",
        "3. Engineered features like historical price statistics might caused decause in model performace due to overfitting\n",
        "\n",
        "4. TFIDF Sparse vectorization are used instead of dense word2vec because of absence of words in vocabulary of Word2Vec model trained Google News dataset\n",
        "\n",
        "5. LGBM and ensemble MLP train and validation score fairly best because large dataset and neural network respectively.\n",
        "\n",
        "6. The hstack has less amount of features thesefore we got good accuracy.\n",
        "\n",
        "7. The kaggle score improved a lot by using batch normalization and dropout of 0.2. Without BN and drop out score was 0.418 and with BN and drop out score increased to 0.412\t\n",
        "\n",
        "![image.png](data:image/png;base64,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)\n",
        "\n",
        "![image.png](data:image/png;base64,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)"
      ],
      "id": "V-NGOE1uafHq"
    },
    {
      "cell_type": "markdown",
      "metadata": {
        "id": "3Iec9-Lh8EE-"
      },
      "source": [
        "8 By looking at leadership board of for socre of 0.418 stands to 39 no posiiton which is in the **top 1.7%**\n",
        "\n"
      ],
      "id": "3Iec9-Lh8EE-"
    },
    {
      "cell_type": "markdown",
      "metadata": {
        "id": "8XDpxKr49ico"
      },
      "source": [
        "![image.png](data:image/png;base64,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)"
      ],
      "id": "8XDpxKr49ico"
    },
    {
      "cell_type": "markdown",
      "metadata": {
        "id": "CYMB82X98Blp"
      },
      "source": [
        "![image.png](data:image/png;base64,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)"
      ],
      "id": "CYMB82X98Blp"
    }
  ],
  "metadata": {
    "accelerator": "GPU",
    "colab": {
      "collapsed_sections": [
        "f571117c",
        "914febe9",
        "e893c7f4",
        "590bf037",
        "27562873",
        "9caf77ab",
        "8653893f",
        "4ad1aa92",
        "8746d438",
        "9b46f766",
        "cc8a4ed4"
      ],
      "machine_shape": "hm",
      "provenance": []
    },
    "gpuClass": "standard",
    "kernelspec": {
      "display_name": "Python 3 (ipykernel)",
      "language": "python",
      "name": "python3"
    },
    "language_info": {
      "codemirror_mode": {
        "name": "ipython",
        "version": 3
      },
      "file_extension": ".py",
      "mimetype": "text/x-python",
      "name": "python",
      "nbconvert_exporter": "python",
      "pygments_lexer": "ipython3",
      "version": "3.9.12"
    }
  },
  "nbformat": 4,
  "nbformat_minor": 5
}