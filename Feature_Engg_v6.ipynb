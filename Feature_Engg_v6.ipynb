{
  "cells": [
    {
      "cell_type": "markdown",
      "id": "ae0794d8",
      "metadata": {
        "id": "ae0794d8"
      },
      "source": [
        "### Importing all the required libraries"
      ]
    },
    {
      "cell_type": "code",
      "source": [
        "from google.colab import drive\n",
        "drive.mount('/content/gdrive')"
      ],
      "metadata": {
        "colab": {
          "base_uri": "https://localhost:8080/"
        },
        "id": "PZsjSal4gCyO",
        "outputId": "65715fb8-3c33-4c5d-aba2-3aabb003cdd8"
      },
      "id": "PZsjSal4gCyO",
      "execution_count": null,
      "outputs": [
        {
          "output_type": "stream",
          "name": "stdout",
          "text": [
            "Mounted at /content/gdrive\n"
          ]
        }
      ]
    },
    {
      "cell_type": "code",
      "source": [
        "!pip install transformers\n",
        "!pip install Afinn"
      ],
      "metadata": {
        "id": "ZNT5r2DMns_e"
      },
      "id": "ZNT5r2DMns_e",
      "execution_count": null,
      "outputs": []
    },
    {
      "cell_type": "code",
      "execution_count": null,
      "id": "305262f3",
      "metadata": {
        "id": "305262f3",
        "outputId": "2b4106a1-af49-48f6-a225-7d6a7e69158d",
        "colab": {
          "base_uri": "https://localhost:8080/"
        }
      },
      "outputs": [
        {
          "output_type": "stream",
          "name": "stderr",
          "text": [
            "[nltk_data] Downloading package wordnet to /root/nltk_data...\n",
            "[nltk_data] Downloading package vader_lexicon to /root/nltk_data...\n",
            "[nltk_data] Downloading package stopwords to /root/nltk_data...\n",
            "[nltk_data]   Unzipping corpora/stopwords.zip.\n",
            "[nltk_data] Downloading package omw-1.4 to /root/nltk_data...\n"
          ]
        }
      ],
      "source": [
        "import math\n",
        "import numpy as np\n",
        "import pandas as pd\n",
        "import nltk\n",
        "import string\n",
        "import re\n",
        "import scipy\n",
        "from nltk.tokenize import word_tokenize, sent_tokenize\n",
        "from nltk.corpus import stopwords\n",
        "from nltk.stem import WordNetLemmatizer\n",
        "from nltk.sentiment.vader import SentimentIntensityAnalyzer\n",
        "from sklearn.feature_extraction.text import CountVectorizer, TfidfVectorizer\n",
        "from collections import Counter\n",
        "from transformers import pipeline\n",
        "from textblob import TextBlob\n",
        "from sklearn.preprocessing import StandardScaler\n",
        "from sklearn.model_selection import train_test_split\n",
        "from sklearn.feature_selection import SelectKBest, f_regression\n",
        "from afinn import Afinn\n",
        "import matplotlib.pyplot as plt\n",
        "import pylab as plot\n",
        "import seaborn as sn\n",
        "import joblib\n",
        "import warnings\n",
        "from sklearn.preprocessing import OneHotEncoder\n",
        "import seaborn as sns\n",
        "from tqdm import tqdm_notebook, tqdm\n",
        "warnings.filterwarnings('ignore')\n",
        "nltk.download('wordnet')\n",
        "nltk.download('vader_lexicon')\n",
        "nltk.download('stopwords')\n",
        "nltk.download('omw-1.4')\n",
        "import gc\n",
        "from scipy.sparse import hstack\n",
        "from nltk.corpus import stopwords"
      ]
    },
    {
      "cell_type": "markdown",
      "id": "f3bb3814",
      "metadata": {
        "id": "f3bb3814"
      },
      "source": [
        "## Importing the Train dataset & Train-Cross Splitting"
      ]
    },
    {
      "cell_type": "code",
      "execution_count": null,
      "id": "169b92c0",
      "metadata": {
        "id": "169b92c0",
        "outputId": "b49f0c58-399b-415c-cc01-6b97514def23",
        "colab": {
          "base_uri": "https://localhost:8080/"
        }
      },
      "outputs": [
        {
          "output_type": "stream",
          "name": "stdout",
          "text": [
            "(1111901, 8)\n",
            "(370634, 8)\n",
            "train_id                  0\n",
            "name                      0\n",
            "item_condition_id         0\n",
            "category_name          4704\n",
            "brand_name           474625\n",
            "price                     0\n",
            "shipping                  0\n",
            "item_description          2\n",
            "dtype: int64\n"
          ]
        }
      ],
      "source": [
        "df_train = pd.read_csv('/content/gdrive/MyDrive/train.tsv', sep='\\t')\n",
        "#Test set is already present as test.csv\n",
        "df_train, df_cval = train_test_split(df_train, test_size = 0.25, random_state = 21)\n",
        "print(df_train.shape)\n",
        "print(df_cval.shape)\n",
        "#Skip the blank check because in EDA as it is found that there is no blank fields\n",
        "print(df_train.isna().sum())"
      ]
    },
    {
      "cell_type": "markdown",
      "id": "20c27288",
      "metadata": {
        "id": "20c27288"
      },
      "source": [
        "## Data Pre-processing"
      ]
    },
    {
      "cell_type": "markdown",
      "source": [
        "### 1. Creating a log transform function to transform price\n"
      ],
      "metadata": {
        "id": "hVbD--bpjwaI"
      },
      "id": "hVbD--bpjwaI"
    },
    {
      "cell_type": "code",
      "source": [
        "#Apply log to numeric fields\n",
        "def log_transform():\n",
        "    '''  \n",
        "    Description -> Applies log(1+x) function on the price column of the global variable train dataframe\n",
        "    '''\n",
        "    #df_train['log_price'] = np.log(df_train['price']+1)\n",
        "    #df_cval['log_price'] = np.log(df_cval['price']+1)\n",
        "    #Optimized way:\n",
        "    df_train['log_price'] = np.log1p(df_train['price'])\n",
        "    df_cval['log_price'] = np.log1p(df_cval['price'])\n"
      ],
      "metadata": {
        "id": "GZ1l3snejfWP"
      },
      "id": "GZ1l3snejfWP",
      "execution_count": null,
      "outputs": []
    },
    {
      "cell_type": "code",
      "source": [
        "log_transform()"
      ],
      "metadata": {
        "id": "ckkJXfyOkjN7"
      },
      "id": "ckkJXfyOkjN7",
      "execution_count": null,
      "outputs": []
    },
    {
      "cell_type": "markdown",
      "id": "328c4232",
      "metadata": {
        "id": "328c4232"
      },
      "source": [
        "### 2. Dealing with Null values"
      ]
    },
    {
      "cell_type": "code",
      "execution_count": null,
      "id": "301a7810",
      "metadata": {
        "id": "301a7810"
      },
      "outputs": [],
      "source": [
        "def replace_with_blanks_missing():\n",
        "    '''\n",
        "    Description -> Interchanges the null values of the text columns with blanks in the \n",
        "                   global train and cross validation dataframe using finllna and the regex commands\n",
        "    '''\n",
        "    df_train.fillna('', inplace=True)\n",
        "    df_cval.fillna('', inplace=True)\n",
        "\n",
        "    df_train['item_description'] = df_train['item_description'].str.replace('^no description yet$', '', regex=True)\n",
        "    df_cval['item_description'] = df_cval['item_description'].str.replace('^no description yet$', '', regex=True)"
      ]
    },
    {
      "cell_type": "code",
      "source": [
        "replace_with_blanks_missing()"
      ],
      "metadata": {
        "id": "dXfJ4WJAky8E"
      },
      "id": "dXfJ4WJAky8E",
      "execution_count": null,
      "outputs": []
    },
    {
      "cell_type": "code",
      "source": [
        "print(df_train.shape)\n",
        "print(df_cval.shape)\n",
        "#Skip the blank check because in EDA as it is found that there is no blank fields\n",
        "print(df_train.isna().sum())"
      ],
      "metadata": {
        "colab": {
          "base_uri": "https://localhost:8080/"
        },
        "id": "tRMIJWYPk5Sy",
        "outputId": "725246d8-d1fd-42a2-edb7-ca6220ab9a86"
      },
      "id": "tRMIJWYPk5Sy",
      "execution_count": null,
      "outputs": [
        {
          "output_type": "stream",
          "name": "stdout",
          "text": [
            "(1111901, 9)\n",
            "(370634, 9)\n",
            "train_id             0\n",
            "name                 0\n",
            "item_condition_id    0\n",
            "category_name        0\n",
            "brand_name           0\n",
            "price                0\n",
            "shipping             0\n",
            "item_description     0\n",
            "log_price            0\n",
            "dtype: int64\n"
          ]
        }
      ]
    },
    {
      "cell_type": "markdown",
      "id": "f7b8ef1e",
      "metadata": {
        "id": "f7b8ef1e"
      },
      "source": [
        "### 3. Limiting the price in specfic range as defined in mercai website\n"
      ]
    },
    {
      "cell_type": "code",
      "execution_count": null,
      "id": "e7c29052",
      "metadata": {
        "id": "e7c29052",
        "colab": {
          "base_uri": "https://localhost:8080/"
        },
        "outputId": "e81a253d-4de7-4f48-89a0-ccc2658949b4"
      },
      "outputs": [
        {
          "output_type": "stream",
          "name": "stdout",
          "text": [
            "0.0 -- 2009.0\n",
            "0.0 -- 1900.0\n",
            "3.0 -- 2000.0\n",
            "3.0 -- 1900.0\n"
          ]
        }
      ],
      "source": [
        "#Limit price range\n",
        "# Reference : https://www.kaggle.com/c/mercari-price-suggestion-challenge/discussion/45084\n",
        "'''\n",
        "  Description -> Removes all the invalid prices and puts the price column of the global train and cross validation\n",
        "                dataframe in a reasonable valid price bound \n",
        "'''\n",
        "print(str(df_train['price'].min()) , '--' , str(df_train['price'].max()))\n",
        "print(str(df_cval['price'].min()), '--', str(df_cval['price'].max()))\n",
        "df_train = df_train[(df_train['price'] >= 3) & (df_train['price'] <= 2000)]\n",
        "df_cval = df_cval[(df_cval['price'] >= 3) & (df_cval['price'] <= 2000)]\n",
        "print(str(df_train['price'].min()), '--', str(df_train['price'].max()))\n",
        "print(str(df_cval['price'].min()), '--', str(df_cval['price'].max()))"
      ]
    },
    {
      "cell_type": "code",
      "source": [
        "print(df_train.shape)\n",
        "print(df_cval.shape)"
      ],
      "metadata": {
        "colab": {
          "base_uri": "https://localhost:8080/"
        },
        "id": "CGBYWFl6l-Zh",
        "outputId": "819499a9-0eef-4460-dbdd-7eaf4dc26996"
      },
      "id": "CGBYWFl6l-Zh",
      "execution_count": null,
      "outputs": [
        {
          "output_type": "stream",
          "name": "stdout",
          "text": [
            "(1111234, 9)\n",
            "(370424, 9)\n"
          ]
        }
      ]
    },
    {
      "cell_type": "markdown",
      "source": [
        "### 4. Concatinating features to create Text vector. Inspired from winner's solution to improve the score\n"
      ],
      "metadata": {
        "id": "CK3QwjaKv9ex"
      },
      "id": "CK3QwjaKv9ex"
    },
    {
      "cell_type": "code",
      "source": [
        "#Reference: https://www.kaggle.com/c/mercari-price-suggestion-challenge/discussion/50256\n",
        "# https://github.com/divyanshjain19/Mercari_Price_Suggestion/blob/master/2_Preprocessing_and_featurizations.ipynb\n",
        "df_train['name'] = df_train['name'] + \" \" + df_train['brand_name']\n",
        "df_train['text'] = df_train['item_description'] + \" \" + df_train['name'] + \" \" + df_train['category_name']\n",
        "\n",
        "df_cval['name'] = df_cval['name'] + \" \" + df_cval['brand_name']\n",
        "df_cval['text'] = df_cval['item_description'] + \" \" + df_cval['name'] + \" \" + df_cval['category_name']"
      ],
      "metadata": {
        "id": "5kEzFFt9MLBD"
      },
      "id": "5kEzFFt9MLBD",
      "execution_count": null,
      "outputs": []
    },
    {
      "cell_type": "markdown",
      "id": "1ca624e8",
      "metadata": {
        "id": "1ca624e8"
      },
      "source": [
        "### 5. Converting the text data to make it more applicable for the text analysis"
      ]
    },
    {
      "cell_type": "code",
      "execution_count": null,
      "id": "855d6e22",
      "metadata": {
        "id": "855d6e22"
      },
      "outputs": [],
      "source": [
        "#clean data\n",
        "#Reference : Applied AI - Donar Choice Assignment\n",
        "def decontracted(phrase):\n",
        "    '''\n",
        "    Description -> Replaces the short form words to their decontracted form such as won't to will not, \n",
        "                   this is done to make the text data uniform using regex commands.\n",
        "    '''\n",
        "    phrase = re.sub(r\"aren\\'t\", \"are not\", phrase)\n",
        "    phrase = re.sub(r\"didn\\'t\", \"did not\", phrase)\n",
        "    phrase = re.sub(r\"can\\'t\", \"can not\", phrase)\n",
        "    phrase = re.sub(r\"couldn\\'t\", \"could not\", phrase)\n",
        "    phrase = re.sub(r\"won\\'t\", \"would not\", phrase)\n",
        "    phrase = re.sub(r\"wouldn\\'t\", \"would not\", phrase)\n",
        "    phrase = re.sub(r\"haven\\'t\", \"have not\", phrase)\n",
        "    phrase = re.sub(r\"shouldn\\'t\", \"should not\", phrase)\n",
        "    phrase = re.sub(r\"doesn\\'t\", \"does not\", phrase)\n",
        "    phrase = re.sub(r\"don\\'t\", \"do not\", phrase)\n",
        "    phrase = re.sub(r\"didn\\'t\", \"did not\", phrase)\n",
        "    phrase = re.sub(r\"mustn\\'t\", \"must not\", phrase)\n",
        "    phrase = re.sub(r\"needn\\'t\", \"need not\", phrase)\n",
        "    return phrase"
      ]
    },
    {
      "cell_type": "code",
      "source": [
        "df_train['name'] = df_train['name'].apply(lambda x : decontracted(x))\n",
        "df_train['text'] = df_train['text'].apply(lambda x : decontracted(x))\n",
        "\n",
        "df_cval['name'] = df_cval['name'].apply(lambda x : decontracted(x))\n",
        "df_cval['text'] = df_cval['text'].apply(lambda x : decontracted(x))"
      ],
      "metadata": {
        "id": "ysqaHpAwL2Z7"
      },
      "id": "ysqaHpAwL2Z7",
      "execution_count": null,
      "outputs": []
    },
    {
      "cell_type": "markdown",
      "id": "675558d8",
      "metadata": {
        "id": "675558d8"
      },
      "source": [
        "### 6. Removal of special characters & emoticons"
      ]
    },
    {
      "cell_type": "code",
      "execution_count": null,
      "id": "7c38a731",
      "metadata": {
        "id": "7c38a731"
      },
      "outputs": [],
      "source": [
        "#Reference : https://stackoverflow.com/questions/33404752/removing-emojis-from-a-string-in-python\n",
        "def deEmojify(text):\n",
        "    '''\n",
        "    Description -> Removes emojis, special characters as well as symbols from the input text data in order\n",
        "                   to make it more apt for the analysers and returns it.    \n",
        "    '''\n",
        "    regrex_pattern = re.compile(pattern = \"[\"\n",
        "        u\"\\U0001F600-\\U0001F64F\"  # emoticons\n",
        "        u\"\\U0001F300-\\U0001F5FF\"  # symbols & pictographs\n",
        "        u\"\\U0001F680-\\U0001F6FF\"  # transport & map symbols\n",
        "        u\"\\U0001F1E0-\\U0001F1FF\"  # flags (iOS)\n",
        "                           \"]+\", flags = re.UNICODE)\n",
        "    return regrex_pattern.sub(r'',text)"
      ]
    },
    {
      "cell_type": "markdown",
      "id": "7e2cde93",
      "metadata": {
        "id": "7e2cde93"
      },
      "source": [
        "### 7. Performing lemmatization"
      ]
    },
    {
      "cell_type": "code",
      "execution_count": null,
      "id": "6dd9085b",
      "metadata": {
        "id": "6dd9085b"
      },
      "outputs": [],
      "source": [
        "#Reference: https://www.geeksforgeeks.org/python-lemmatization-with-nltk/\n",
        "#Lemmatization is the process of grouping together the different inflected forms of a word so they can be analyzed as a single item\n",
        "def perform_lemma(sent,all_stopwords):\n",
        "    '''\n",
        "    Description -> Applying wordnet lemmatizer on the input sentence and returning the nearest base word/sentence.\n",
        "    '''    \n",
        "    sent_list = sent.split()\n",
        "    lem = WordNetLemmatizer()\n",
        "    text = [lem.lemmatize(word) for word in sent_list if word not in all_stopwords]\n",
        "    sent = \" \".join(text)\n",
        "    return sent"
      ]
    },
    {
      "cell_type": "markdown",
      "id": "ca7c89c9",
      "metadata": {
        "id": "ca7c89c9"
      },
      "source": [
        "### 7. Final overall function pre-processing the text data"
      ]
    },
    {
      "cell_type": "code",
      "execution_count": null,
      "id": "450d2270",
      "metadata": {
        "id": "450d2270"
      },
      "outputs": [],
      "source": [
        "regex_special_chars = re.compile('[^A-Za-z0-9.]+')\n",
        "regex_decimal_digits = re.compile('(?<!\\d)\\.(?!\\d)')\n",
        "regex_white_space = re.compile(r'\\s+')\n",
        "\n",
        "# Since considering positive and negative emotion of buyer, so considering negative words also\n",
        "# Reference : https://stackabuse.com/removing-stop-words-from-strings-in-python/\n",
        "# all_stopwords = stopwords.words('english')\n",
        "# all_stopwords.remove('not')\n",
        "# all_stopwords.remove('nor')\n",
        "# all_stopwords.remove('no')\n",
        "#optimized way\n",
        "all_stopwords = set(stopwords.words(\"english\")) - {\"no\", \"nor\", \"not\"} \n",
        "\n",
        "\n",
        "def process_text_data(sent):\n",
        "    '''\n",
        "    Description -> Calling the demojify and lemmatization functions one by one with data as the input\n",
        "                  and returning the final preprocessed data.\n",
        "    '''\n",
        "    \n",
        "    #Removing new line, carriage return, double quotes\n",
        "    sent = sent.replace('\\\\r', ' ')\n",
        "    #sent = sent.replace('\\\\\"', ' ')\n",
        "    sent = sent.replace('\\\\n', ' ')\n",
        "    #remove enojis  https://stackoverflow.com/questions/33404752/removing-emojis-from-a-string-in-python\n",
        "    #sent = deEmojify(sent)\n",
        "\n",
        "    #removing all special charecter except mentioned in regex strings    \n",
        "    sent = regex_special_chars.sub(' ', sent)\n",
        "\n",
        "    #removing all digit mentioned in regex strings\n",
        "    sent = regex_decimal_digits.sub(' ', sent)\n",
        "    \n",
        "    # removing all white spaces  https://bobbyhadz.com/blog/python-remove-whitespace-regex      \n",
        "    sent = regex_white_space.sub(' ', sent)\n",
        "    #sent = re.sub(r'^\\s+', '', sent, flags=re.MULTILINE)\n",
        "\n",
        "    #removing end space and converting to lower\n",
        "    sent = sent.strip().lower()\n",
        "\n",
        "    # only take the words which are not stop words\n",
        "    sent = perform_lemma(sent, all_stopwords)    \n",
        "    return sent"
      ]
    },
    {
      "cell_type": "code",
      "source": [
        "df_train['name'] = df_train['name'].apply(lambda x : process_text_data(x))\n",
        "df_train['text'] = df_train['text'].apply(lambda x : process_text_data(x))\n",
        "\n",
        "df_cval['name'] = df_cval['name'].apply(lambda x : process_text_data(x))\n",
        "df_cval['text'] = df_cval['text'].apply(lambda x : process_text_data(x))"
      ],
      "metadata": {
        "id": "tzyoEXxIN5w1"
      },
      "id": "tzyoEXxIN5w1",
      "execution_count": null,
      "outputs": []
    },
    {
      "cell_type": "markdown",
      "id": "bab98ee6",
      "metadata": {
        "id": "bab98ee6"
      },
      "source": [
        "### 8. From EDA it is known that the length is an important feature so adding that in the dataframe"
      ]
    },
    {
      "cell_type": "code",
      "source": [
        "df_train['length_combined_text'] = df_train['text'].str.len()\n",
        "df_cval['length_combined_text']    = df_cval['text'].str.len()"
      ],
      "metadata": {
        "id": "mirRqGH3O6Ss"
      },
      "id": "mirRqGH3O6Ss",
      "execution_count": null,
      "outputs": []
    },
    {
      "cell_type": "markdown",
      "id": "96bc990f",
      "metadata": {
        "id": "96bc990f"
      },
      "source": [
        "## Feature engineering"
      ]
    },
    {
      "cell_type": "markdown",
      "id": "06423094",
      "metadata": {
        "id": "06423094"
      },
      "source": [
        "### 1. Generating derived features(Price Statistics)"
      ]
    },
    {
      "cell_type": "code",
      "execution_count": null,
      "id": "c0547734",
      "metadata": {
        "id": "c0547734"
      },
      "outputs": [],
      "source": [
        "#Reference: https://www.kaggle.com/gspmoreira/cnn-glove-single-model-private-lb-0-41117-35th\n",
        "#create derived features for prices\n",
        "def create_derived_features_for_price():    \n",
        "    '''\n",
        "    Description -> Generating derived features using different kinds of statisical methods on the price feature\n",
        "                   and then returning a dataframe containing these new features.\n",
        "    \n",
        "    '''\n",
        "    #Reference: https://www.learndatasci.com/glossary/chebyshevs-inequality/\n",
        "    #Since the mean and variance is finite but the distribution is not exactly gaussian, confirmed from EDA, so would be applying chebyshevs-inequality\n",
        "    chebyshevs_kval = 2 #may be this value, could be later modified at the time of model performance improvement\n",
        "\n",
        "    stats_price_df_train = df_train.groupby(['category_name',\n",
        "                                      'brand_name',\n",
        "                                      'shipping',\n",
        "                                      'item_condition_id']).agg({'log_price': [np.median,np.mean, np.std]})\n",
        "\n",
        "    stats_price_df_train.columns = ['log_price_median', 'log_price_mean' , 'log_price_std_dev']\n",
        "    #stats_price_df_train['log_price_median'] = stats_price_df_train['log_price_median'].fillna(0)\n",
        "    #stats_price_df_train['log_price_mean'] = stats_price_df_train['log_price_mean'].fillna(0)\n",
        "    stats_price_df_train['log_price_std_dev'] = stats_price_df_train['log_price_std_dev'].fillna(0)\n",
        "    stats_price_df_train['log_price_coeff_variance'] = stats_price_df_train['log_price_std_dev'] / stats_price_df_train['log_price_mean']\n",
        "    stats_price_df_train['log_price_coeff_variance'].fillna(0, inplace=True)\n",
        "    #68-95-97 rule modified to chebyshevs-inequality\n",
        "    stats_price_df_train['log_price_min_expected'] = (stats_price_df_train['log_price_median'] - stats_price_df_train['log_price_std_dev'] * chebyshevs_kval).clip(lower=1.0)\n",
        "    stats_price_df_train['log_price_max_expected_log_price'] = (stats_price_df_train['log_price_median'] + stats_price_df_train['log_price_std_dev'] * chebyshevs_kval)\n",
        "\n",
        "    stats_price_df_cval = df_cval.groupby(['category_name',\n",
        "                                      'brand_name',\n",
        "                                      'shipping',\n",
        "                                      'item_condition_id']).agg({'log_price': [np.median,np.mean, np.std]})\n",
        "\n",
        "    stats_price_df_cval.columns = ['log_price_median', 'log_price_mean' ,  'log_price_std_dev']\n",
        "    #stats_price_df_cval['log_price_median'] = stats_price_df_cval['log_price_median'].fillna(0)\n",
        "    #stats_price_df_cval['log_price_mean'] = stats_price_df_cval['log_price_mean'].fillna(0)\n",
        "    stats_price_df_cval['log_price_std_dev'] = stats_price_df_cval['log_price_std_dev'].fillna(0)\n",
        "    stats_price_df_cval['log_price_coeff_variance'] = stats_price_df_cval['log_price_std_dev'] / stats_price_df_cval['log_price_mean']\n",
        "    stats_price_df_cval['log_price_coeff_variance'].fillna(0, inplace=True)\n",
        "    #68-95-97 rule modified to chebyshevs-inequality\n",
        "    stats_price_df_cval['log_price_min_expected'] = (stats_price_df_cval['log_price_median'] - stats_price_df_cval['log_price_std_dev'] * chebyshevs_kval).clip(lower=1.0)\n",
        "    stats_price_df_cval['log_price_max_expected_log_price'] = (stats_price_df_cval['log_price_median'] + stats_price_df_cval['log_price_std_dev'] * chebyshevs_kval)\n",
        "    \n",
        "    return stats_price_df_train,stats_price_df_cval"
      ]
    },
    {
      "cell_type": "markdown",
      "id": "bc10c6b5",
      "metadata": {
        "id": "bc10c6b5"
      },
      "source": [
        "### 2. Applying different types of text encoders on different kinds of text data "
      ]
    },
    {
      "cell_type": "code",
      "execution_count": null,
      "id": "668381a4",
      "metadata": {
        "id": "668381a4"
      },
      "outputs": [],
      "source": [
        "# Currently below code is not used in featurization and same code is copied to Training Notebook\n",
        "# Earlier I was calculating tfidf in featurization and saving the hstack for training. \n",
        "# But I was overall score was falling, therefore I moved the same code in training perform the vectorization before training in training notebook\n",
        "# Reference Applied AI Course - Amazon Food Review Assignment/Notebook\n",
        "# https://www.linkedin.com/pulse/count-vectorizers-vs-tfidf-natural-language-processing-sheel-saket/\n",
        "\n",
        "def text_encoder(training,cross_validation,type,params):\n",
        "    '''\n",
        "    Description -> Encoding different types of input text data according to its requirements using Countvectorizer\n",
        "                   & Tfidfvectorizer and returning the transformed data as output\n",
        "    '''\n",
        "    if(type == \"BOW\"):\n",
        "        vectorizer = CountVectorizer(ngram_range = params[0],min_df = params[1],max_df = params[2],max_features = params[3])\n",
        "    elif(type == \"TFIDF\"):\n",
        "        N_GRAMS =params\n",
        "        vectorizer = vectorizer = TfidfVectorizer(max_features = 100000,\n",
        "                                 ngram_range = (1, N_GRAMS),\n",
        "                                 strip_accents = 'unicode',\n",
        "                                 analyzer = 'word',\n",
        "                                 token_pattern = r'\\w+')\n",
        "    elif(type==\"CNTVECT\"):\n",
        "        vectorizer = CountVectorizer(vocabulary=params, lowercase=False, binary=True)\n",
        "\n",
        "    train_transform = vectorizer.fit_transform(training)\n",
        "    cv_transform = vectorizer.transform(cross_validation) \n",
        "\n",
        "    if (type == \"BOW\"):\n",
        "        return train_transform, cv_transform, ''\n",
        "    elif (type == \"CNTVECT\"):\n",
        "        return train_transform, cv_transform, ''\n",
        "    elif (type == \"TFIDF\"):\n",
        "        feat_names = vectorizer.get_feature_names_out()\n",
        "        del vectorizer\n",
        "        gc.collect()\n",
        "        return train_transform, cv_transform, feat_names\n"
      ]
    },
    {
      "cell_type": "code",
      "source": [
        "X_train_name, X_cval_name,_ = text_encoder(df_train['name'], df_cval['name'], \"TFIDF\", 1)\n",
        "X_train_text, X_cval_text,_ = text_encoder(df_train['text'], df_cval['text'], \"TFIDF\", 2)"
      ],
      "metadata": {
        "id": "2i_s3EZUy_SM"
      },
      "id": "2i_s3EZUy_SM",
      "execution_count": null,
      "outputs": []
    },
    {
      "cell_type": "code",
      "source": [
        "print(X_train_name.shape)\n",
        "print(X_train_text.shape)\n",
        "print(X_cval_name.shape)\n",
        "print(X_cval_text.shape)"
      ],
      "metadata": {
        "colab": {
          "base_uri": "https://localhost:8080/"
        },
        "id": "n5K3RU4Gy_WW",
        "outputId": "50952614-e145-40b7-f478-32686fc31f2b"
      },
      "id": "n5K3RU4Gy_WW",
      "execution_count": null,
      "outputs": [
        {
          "output_type": "stream",
          "name": "stdout",
          "text": [
            "(1111234, 85394)\n",
            "(1111234, 100000)\n",
            "(370424, 85394)\n",
            "(370424, 100000)\n"
          ]
        }
      ]
    },
    {
      "cell_type": "code",
      "source": [
        "def one_hot_encoder(train_data, cval_data):\n",
        "    ohe_encoder = OneHotEncoder()\n",
        "    train_ohe = ohe_encoder.fit_transform(train_data)\n",
        "    cval_ohe = ohe_encoder.transform(cval_data)\n",
        "    return train_ohe, cval_ohe"
      ],
      "metadata": {
        "id": "-xKn7XHzy_Z-"
      },
      "id": "-xKn7XHzy_Z-",
      "execution_count": null,
      "outputs": []
    },
    {
      "cell_type": "code",
      "source": [
        "X_train_shipping, X_cval_shipping = one_hot_encoder(np.reshape(df_train['shipping'].values, (-1, 1)), np.reshape(df_cval['shipping'].values, (-1, 1)))\n",
        "X_train_item_condition, X_cval_item_condition = one_hot_encoder(np.reshape(df_train['item_condition_id'].values, (-1, 1)), np.reshape(df_cval['item_condition_id'].values, (-1, 1)))"
      ],
      "metadata": {
        "id": "bOGrzSGm0wOw"
      },
      "id": "bOGrzSGm0wOw",
      "execution_count": null,
      "outputs": []
    },
    {
      "cell_type": "code",
      "source": [
        "print(X_train_shipping.shape)\n",
        "print(X_cval_shipping.shape)\n",
        "print(X_train_item_condition.shape)\n",
        "print(X_cval_item_condition.shape)"
      ],
      "metadata": {
        "colab": {
          "base_uri": "https://localhost:8080/"
        },
        "id": "RTLxJOS80wS3",
        "outputId": "2901eef7-03ea-4308-9d5f-561d3016ccab"
      },
      "id": "RTLxJOS80wS3",
      "execution_count": null,
      "outputs": [
        {
          "output_type": "stream",
          "name": "stdout",
          "text": [
            "(1111234, 2)\n",
            "(370424, 2)\n",
            "(1111234, 5)\n",
            "(370424, 5)\n"
          ]
        }
      ]
    },
    {
      "cell_type": "code",
      "source": [
        "trainframe = hstack((X_train_name,\n",
        "                  X_train_text,\n",
        "                  X_train_shipping,\n",
        "                  X_train_item_condition)).tocsr().astype('float32')\n",
        "\n",
        "cvalframe   = hstack((X_cval_name,\n",
        "                 X_cval_text,\n",
        "                 X_cval_shipping,\n",
        "                 X_cval_item_condition)).tocsr().astype('float32')"
      ],
      "metadata": {
        "id": "UcIu1sbx0wWm"
      },
      "id": "UcIu1sbx0wWm",
      "execution_count": null,
      "outputs": []
    },
    {
      "cell_type": "code",
      "source": [
        "print(trainframe.shape)\n",
        "print(cvalframe.shape)"
      ],
      "metadata": {
        "colab": {
          "base_uri": "https://localhost:8080/"
        },
        "id": "2pWO6BFQ0waj",
        "outputId": "85302f21-e983-48c5-8792-3cf74ad6cb34"
      },
      "id": "2pWO6BFQ0waj",
      "execution_count": null,
      "outputs": [
        {
          "output_type": "stream",
          "name": "stdout",
          "text": [
            "(1111234, 185401)\n",
            "(370424, 185401)\n"
          ]
        }
      ]
    },
    {
      "cell_type": "code",
      "source": [],
      "metadata": {
        "id": "rkQ7BzRF22tq"
      },
      "id": "rkQ7BzRF22tq",
      "execution_count": null,
      "outputs": []
    },
    {
      "cell_type": "markdown",
      "id": "4f2fb385",
      "metadata": {
        "id": "4f2fb385"
      },
      "source": [
        "### 3. Sentiment score generation using VADER"
      ]
    },
    {
      "cell_type": "code",
      "execution_count": null,
      "id": "d8e2f247",
      "metadata": {
        "id": "d8e2f247"
      },
      "outputs": [],
      "source": [
        "def generate_sentiment_scores(data):\n",
        "    '''\n",
        "    Description -> Calculating the sentiment score of each sentence in the input dataframe column using VADER\n",
        "                   and returning 4 lists each containing a type of score calculated.\n",
        "    '''\n",
        "    sid = SentimentIntensityAnalyzer()\n",
        "    scores_negative = []\n",
        "    scores_positive = []\n",
        "    scores_neutral = []\n",
        "    scores_compound = []\n",
        "    for sentence in tqdm(data):\n",
        "        sentence_sentiment_score = sid.polarity_scores(sentence)\n",
        "        scores_negative.append(sentence_sentiment_score['neg'])\n",
        "        scores_positive.append(sentence_sentiment_score['neu'])\n",
        "        scores_neutral.append(sentence_sentiment_score['pos'])\n",
        "        scores_compound.append(sentence_sentiment_score['compound'])\n",
        "    return scores_negative,scores_positive,scores_neutral,scores_compound"
      ]
    },
    {
      "cell_type": "markdown",
      "source": [],
      "metadata": {
        "id": "yDaPbHDGJg_C"
      },
      "id": "yDaPbHDGJg_C"
    },
    {
      "cell_type": "code",
      "source": [],
      "metadata": {
        "id": "Ti9BiLn_y_dq"
      },
      "id": "Ti9BiLn_y_dq",
      "execution_count": null,
      "outputs": []
    },
    {
      "cell_type": "code",
      "source": [],
      "metadata": {
        "id": "-xkaGI6_y_ht"
      },
      "id": "-xkaGI6_y_ht",
      "execution_count": null,
      "outputs": []
    },
    {
      "cell_type": "markdown",
      "id": "bf587b92",
      "metadata": {
        "id": "bf587b92"
      },
      "source": [
        "### 4. Sentiment score generation using Affin"
      ]
    },
    {
      "cell_type": "code",
      "execution_count": null,
      "id": "5951c723",
      "metadata": {
        "id": "5951c723"
      },
      "outputs": [],
      "source": [
        "def generate_sentiment_scores_affin(data):\n",
        "    '''\n",
        "    Description -> Calculating the sentiment score of each sentence in the input dataframe column using Affin\n",
        "                   and returning a list containing the score calculated.\n",
        "    '''\n",
        "    af = Afinn()\n",
        "    scores = []\n",
        "    for sentence in tqdm(data):\n",
        "        sentence_sentiment_score =af.score(sentence)\n",
        "        scores.append(sentence_sentiment_score)\n",
        "    return scores"
      ]
    },
    {
      "cell_type": "markdown",
      "id": "65bbc4fe",
      "metadata": {
        "id": "65bbc4fe"
      },
      "source": [
        "### 5. Sentiment score generation using BERT (not used)"
      ]
    },
    {
      "cell_type": "code",
      "execution_count": null,
      "id": "1cc44085",
      "metadata": {
        "id": "1cc44085"
      },
      "outputs": [],
      "source": [
        "def generate_sentiment_scores_bert(data):    \n",
        "    '''\n",
        "    Description -> Calculating the sentiment score and label(Positive=1 & Negative=0) of each sentence in the \n",
        "                   input dataframe column using BERT and returning it in form of 2 lists.\n",
        "    '''\n",
        "    classifier = pipeline('sentiment-analysis')\n",
        "    scores_score = []\n",
        "    scores_label = []\n",
        "    for sentence in tqdm(data):\n",
        "        c=classifier(sentence)\n",
        "        sentence_sentiment_score =round(c[0]['score'],4)\n",
        "        sentence_sentiment_label = c[0]['label']\n",
        "        scores_score.append(sentence_sentiment_score)        \n",
        "        if sentence_sentiment_label is 'POSITIVE':            \n",
        "            scores_label.append(1)\n",
        "        else:\n",
        "            scores_label.append(0)\n",
        "    return scores_score,scores_label"
      ]
    },
    {
      "cell_type": "markdown",
      "id": "e7668a56",
      "metadata": {
        "id": "e7668a56"
      },
      "source": [
        "### 6. Sentiment score generation using TextBlob"
      ]
    },
    {
      "cell_type": "code",
      "execution_count": null,
      "id": "b7e75580",
      "metadata": {
        "id": "b7e75580"
      },
      "outputs": [],
      "source": [
        "def generate_sentiment_scores_textblob(data):\n",
        "    '''\n",
        "    Description -> Calculating the sentiment polarity(positive or negative) and subjectivity(elaborate or concise) \n",
        "                   of each sentence in the input dataframe column using TextBlob and returning it in \n",
        "                   form of 2 lists.\n",
        "    '''    \n",
        "    scores_score = []\n",
        "    scores_subj = []\n",
        "    for sentence in tqdm(data):        \n",
        "        score = TextBlob(sentence)\n",
        "        scores_score.append(score.sentiment.polarity)\n",
        "        scores_subj.append(score.sentiment.subjectivity)\n",
        "    return scores_score,scores_subj"
      ]
    },
    {
      "cell_type": "markdown",
      "id": "5b53db3f",
      "metadata": {
        "id": "5b53db3f"
      },
      "source": [
        "### 6. Calling all the functions and applying them to the dataframe"
      ]
    },
    {
      "cell_type": "code",
      "execution_count": null,
      "id": "3cf1a3c2",
      "metadata": {
        "id": "3cf1a3c2"
      },
      "outputs": [],
      "source": [
        "new=create_derived_features_for_price()\n",
        "df_train=df_train.merge(new[0].reset_index(),how='left',on=['category_name', 'brand_name', 'shipping', 'item_condition_id'])\n"
      ]
    },
    {
      "cell_type": "code",
      "source": [
        "df_train.columns"
      ],
      "metadata": {
        "colab": {
          "base_uri": "https://localhost:8080/"
        },
        "id": "N5g4J44gbKNn",
        "outputId": "8390d5b9-a48c-4bc9-b86a-fc43d109fb88"
      },
      "id": "N5g4J44gbKNn",
      "execution_count": null,
      "outputs": [
        {
          "output_type": "execute_result",
          "data": {
            "text/plain": [
              "Index(['train_id', 'name', 'item_condition_id', 'category_name', 'brand_name',\n",
              "       'price', 'shipping', 'item_description', 'log_price', 'text',\n",
              "       'length_combined_text', 'log_price_median', 'log_price_mean',\n",
              "       'log_price_std_dev', 'log_price_coeff_variance',\n",
              "       'log_price_min_expected', 'log_price_max_expected_log_price'],\n",
              "      dtype='object')"
            ]
          },
          "metadata": {},
          "execution_count": 51
        }
      ]
    },
    {
      "cell_type": "markdown",
      "source": [
        "### 7. Cross validation price statistics"
      ],
      "metadata": {
        "id": "Z7NGQsnL5yBe"
      },
      "id": "Z7NGQsnL5yBe"
    },
    {
      "cell_type": "code",
      "source": [
        "df_cval=df_cval.merge(new[1].reset_index(),how='left',on=['category_name', 'brand_name', 'shipping', 'item_condition_id'])"
      ],
      "metadata": {
        "id": "FJB1aPvmxWyu"
      },
      "id": "FJB1aPvmxWyu",
      "execution_count": null,
      "outputs": []
    },
    {
      "cell_type": "code",
      "source": [
        "df_cval.columns"
      ],
      "metadata": {
        "colab": {
          "base_uri": "https://localhost:8080/"
        },
        "id": "4djchgVgbQBu",
        "outputId": "6207695c-5da4-4f8c-813e-00db79df0af0"
      },
      "id": "4djchgVgbQBu",
      "execution_count": null,
      "outputs": [
        {
          "output_type": "execute_result",
          "data": {
            "text/plain": [
              "Index(['train_id', 'name', 'item_condition_id', 'category_name', 'brand_name',\n",
              "       'price', 'shipping', 'item_description', 'log_price', 'text',\n",
              "       'length_combined_text', 'log_price_median', 'log_price_mean',\n",
              "       'log_price_std_dev', 'log_price_coeff_variance',\n",
              "       'log_price_min_expected', 'log_price_max_expected_log_price'],\n",
              "      dtype='object')"
            ]
          },
          "metadata": {},
          "execution_count": 37
        }
      ]
    },
    {
      "cell_type": "code",
      "source": [
        "print(df_train.shape)\n",
        "print(df_cval.shape)\n",
        "print(df_train.isna().sum())"
      ],
      "metadata": {
        "colab": {
          "base_uri": "https://localhost:8080/"
        },
        "id": "zW6GQb0Vax8t",
        "outputId": "18407d1f-1dff-417e-bb09-b9332dc652a5"
      },
      "id": "zW6GQb0Vax8t",
      "execution_count": null,
      "outputs": [
        {
          "output_type": "stream",
          "name": "stdout",
          "text": [
            "(1111234, 17)\n",
            "(370424, 17)\n",
            "train_id                            0\n",
            "name                                0\n",
            "item_condition_id                   0\n",
            "category_name                       0\n",
            "brand_name                          0\n",
            "price                               0\n",
            "shipping                            0\n",
            "item_description                    0\n",
            "log_price                           0\n",
            "text                                0\n",
            "length_combined_text                0\n",
            "log_price_median                    0\n",
            "log_price_mean                      0\n",
            "log_price_std_dev                   0\n",
            "log_price_coeff_variance            0\n",
            "log_price_min_expected              0\n",
            "log_price_max_expected_log_price    0\n",
            "dtype: int64\n"
          ]
        }
      ]
    },
    {
      "cell_type": "code",
      "execution_count": null,
      "id": "8d79ee0e",
      "metadata": {
        "id": "8d79ee0e",
        "outputId": "a4180c7f-d948-4253-f8d1-01af3e8ac2c8",
        "colab": {
          "base_uri": "https://localhost:8080/",
          "height": 808
        }
      },
      "outputs": [
        {
          "output_type": "execute_result",
          "data": {
            "text/plain": [
              "   train_id                         name  item_condition_id  \\\n",
              "0   1128032       nike crop legging nike                  3   \n",
              "1   1462584                white van van                  4   \n",
              "2     81673               2 piece outfit                  1   \n",
              "3   1412541         scrub top size large                  2   \n",
              "4    719491  pet dry chenille hand towel                  3   \n",
              "\n",
              "                                    category_name brand_name  price  shipping  \\\n",
              "0  Women/Athletic Apparel/Pants, Tights, Leggings       Nike   10.0         1   \n",
              "1                    Women/Shoes/Fashion Sneakers       VANS   11.0         0   \n",
              "2                             Women/Dresses/Other              13.0         1   \n",
              "3          Other/Daily & Travel items/Health Care              12.0         1   \n",
              "4                                Home/Bath/Towels              22.0         0   \n",
              "\n",
              "                                    item_description  log_price  \\\n",
              "0                                    Great condition   2.397895   \n",
              "1  Stained white vans. This is how clean it gets....   2.484907   \n",
              "2  Fuzzy outfit including long sleeve shirt and m...   2.639057   \n",
              "3  Green and Navy scrub top with small hearts. On...   2.564949   \n",
              "4  Fluffy chenille dog, frog and sponge bob with ...   3.135494   \n",
              "\n",
              "                                                text  length_combined_text  \\\n",
              "0  great condition nike crop legging nike woman a...                    81   \n",
              "1  stained white van clean get no lace men 7 woma...                    92   \n",
              "2  fuzzy outfit including long sleeve shirt mini ...                   105   \n",
              "3  green navy scrub top small heart worn not like...                   167   \n",
              "4  fluffy chenille dog frog sponge bob string han...                   207   \n",
              "\n",
              "   log_price_median  log_price_mean  log_price_std_dev  \\\n",
              "0          2.772589        2.853722           0.372539   \n",
              "1          2.833213        2.826268           0.352016   \n",
              "2          3.178054        3.232788           0.612515   \n",
              "3          2.708050        2.758282           0.600000   \n",
              "4          2.708050        2.744043           0.451228   \n",
              "\n",
              "   log_price_coeff_variance  log_price_min_expected  \\\n",
              "0                  0.130545                2.027510   \n",
              "1                  0.124551                2.129182   \n",
              "2                  0.189469                1.953024   \n",
              "3                  0.217527                1.508050   \n",
              "4                  0.164439                1.805594   \n",
              "\n",
              "   log_price_max_expected_log_price  \n",
              "0                          3.517668  \n",
              "1                          3.537245  \n",
              "2                          4.403083  \n",
              "3                          3.908050  \n",
              "4                          3.610506  "
            ],
            "text/html": [
              "\n",
              "  <div id=\"df-cb31f38c-d93d-4940-87a6-86cfbe65a8d5\">\n",
              "    <div class=\"colab-df-container\">\n",
              "      <div>\n",
              "<style scoped>\n",
              "    .dataframe tbody tr th:only-of-type {\n",
              "        vertical-align: middle;\n",
              "    }\n",
              "\n",
              "    .dataframe tbody tr th {\n",
              "        vertical-align: top;\n",
              "    }\n",
              "\n",
              "    .dataframe thead th {\n",
              "        text-align: right;\n",
              "    }\n",
              "</style>\n",
              "<table border=\"1\" class=\"dataframe\">\n",
              "  <thead>\n",
              "    <tr style=\"text-align: right;\">\n",
              "      <th></th>\n",
              "      <th>train_id</th>\n",
              "      <th>name</th>\n",
              "      <th>item_condition_id</th>\n",
              "      <th>category_name</th>\n",
              "      <th>brand_name</th>\n",
              "      <th>price</th>\n",
              "      <th>shipping</th>\n",
              "      <th>item_description</th>\n",
              "      <th>log_price</th>\n",
              "      <th>text</th>\n",
              "      <th>length_combined_text</th>\n",
              "      <th>log_price_median</th>\n",
              "      <th>log_price_mean</th>\n",
              "      <th>log_price_std_dev</th>\n",
              "      <th>log_price_coeff_variance</th>\n",
              "      <th>log_price_min_expected</th>\n",
              "      <th>log_price_max_expected_log_price</th>\n",
              "    </tr>\n",
              "  </thead>\n",
              "  <tbody>\n",
              "    <tr>\n",
              "      <th>0</th>\n",
              "      <td>1128032</td>\n",
              "      <td>nike crop legging nike</td>\n",
              "      <td>3</td>\n",
              "      <td>Women/Athletic Apparel/Pants, Tights, Leggings</td>\n",
              "      <td>Nike</td>\n",
              "      <td>10.0</td>\n",
              "      <td>1</td>\n",
              "      <td>Great condition</td>\n",
              "      <td>2.397895</td>\n",
              "      <td>great condition nike crop legging nike woman a...</td>\n",
              "      <td>81</td>\n",
              "      <td>2.772589</td>\n",
              "      <td>2.853722</td>\n",
              "      <td>0.372539</td>\n",
              "      <td>0.130545</td>\n",
              "      <td>2.027510</td>\n",
              "      <td>3.517668</td>\n",
              "    </tr>\n",
              "    <tr>\n",
              "      <th>1</th>\n",
              "      <td>1462584</td>\n",
              "      <td>white van van</td>\n",
              "      <td>4</td>\n",
              "      <td>Women/Shoes/Fashion Sneakers</td>\n",
              "      <td>VANS</td>\n",
              "      <td>11.0</td>\n",
              "      <td>0</td>\n",
              "      <td>Stained white vans. This is how clean it gets....</td>\n",
              "      <td>2.484907</td>\n",
              "      <td>stained white van clean get no lace men 7 woma...</td>\n",
              "      <td>92</td>\n",
              "      <td>2.833213</td>\n",
              "      <td>2.826268</td>\n",
              "      <td>0.352016</td>\n",
              "      <td>0.124551</td>\n",
              "      <td>2.129182</td>\n",
              "      <td>3.537245</td>\n",
              "    </tr>\n",
              "    <tr>\n",
              "      <th>2</th>\n",
              "      <td>81673</td>\n",
              "      <td>2 piece outfit</td>\n",
              "      <td>1</td>\n",
              "      <td>Women/Dresses/Other</td>\n",
              "      <td></td>\n",
              "      <td>13.0</td>\n",
              "      <td>1</td>\n",
              "      <td>Fuzzy outfit including long sleeve shirt and m...</td>\n",
              "      <td>2.639057</td>\n",
              "      <td>fuzzy outfit including long sleeve shirt mini ...</td>\n",
              "      <td>105</td>\n",
              "      <td>3.178054</td>\n",
              "      <td>3.232788</td>\n",
              "      <td>0.612515</td>\n",
              "      <td>0.189469</td>\n",
              "      <td>1.953024</td>\n",
              "      <td>4.403083</td>\n",
              "    </tr>\n",
              "    <tr>\n",
              "      <th>3</th>\n",
              "      <td>1412541</td>\n",
              "      <td>scrub top size large</td>\n",
              "      <td>2</td>\n",
              "      <td>Other/Daily &amp; Travel items/Health Care</td>\n",
              "      <td></td>\n",
              "      <td>12.0</td>\n",
              "      <td>1</td>\n",
              "      <td>Green and Navy scrub top with small hearts. On...</td>\n",
              "      <td>2.564949</td>\n",
              "      <td>green navy scrub top small heart worn not like...</td>\n",
              "      <td>167</td>\n",
              "      <td>2.708050</td>\n",
              "      <td>2.758282</td>\n",
              "      <td>0.600000</td>\n",
              "      <td>0.217527</td>\n",
              "      <td>1.508050</td>\n",
              "      <td>3.908050</td>\n",
              "    </tr>\n",
              "    <tr>\n",
              "      <th>4</th>\n",
              "      <td>719491</td>\n",
              "      <td>pet dry chenille hand towel</td>\n",
              "      <td>3</td>\n",
              "      <td>Home/Bath/Towels</td>\n",
              "      <td></td>\n",
              "      <td>22.0</td>\n",
              "      <td>0</td>\n",
              "      <td>Fluffy chenille dog, frog and sponge bob with ...</td>\n",
              "      <td>3.135494</td>\n",
              "      <td>fluffy chenille dog frog sponge bob string han...</td>\n",
              "      <td>207</td>\n",
              "      <td>2.708050</td>\n",
              "      <td>2.744043</td>\n",
              "      <td>0.451228</td>\n",
              "      <td>0.164439</td>\n",
              "      <td>1.805594</td>\n",
              "      <td>3.610506</td>\n",
              "    </tr>\n",
              "  </tbody>\n",
              "</table>\n",
              "</div>\n",
              "      <button class=\"colab-df-convert\" onclick=\"convertToInteractive('df-cb31f38c-d93d-4940-87a6-86cfbe65a8d5')\"\n",
              "              title=\"Convert this dataframe to an interactive table.\"\n",
              "              style=\"display:none;\">\n",
              "        \n",
              "  <svg xmlns=\"http://www.w3.org/2000/svg\" height=\"24px\"viewBox=\"0 0 24 24\"\n",
              "       width=\"24px\">\n",
              "    <path d=\"M0 0h24v24H0V0z\" fill=\"none\"/>\n",
              "    <path d=\"M18.56 5.44l.94 2.06.94-2.06 2.06-.94-2.06-.94-.94-2.06-.94 2.06-2.06.94zm-11 1L8.5 8.5l.94-2.06 2.06-.94-2.06-.94L8.5 2.5l-.94 2.06-2.06.94zm10 10l.94 2.06.94-2.06 2.06-.94-2.06-.94-.94-2.06-.94 2.06-2.06.94z\"/><path d=\"M17.41 7.96l-1.37-1.37c-.4-.4-.92-.59-1.43-.59-.52 0-1.04.2-1.43.59L10.3 9.45l-7.72 7.72c-.78.78-.78 2.05 0 2.83L4 21.41c.39.39.9.59 1.41.59.51 0 1.02-.2 1.41-.59l7.78-7.78 2.81-2.81c.8-.78.8-2.07 0-2.86zM5.41 20L4 18.59l7.72-7.72 1.47 1.35L5.41 20z\"/>\n",
              "  </svg>\n",
              "      </button>\n",
              "      \n",
              "  <style>\n",
              "    .colab-df-container {\n",
              "      display:flex;\n",
              "      flex-wrap:wrap;\n",
              "      gap: 12px;\n",
              "    }\n",
              "\n",
              "    .colab-df-convert {\n",
              "      background-color: #E8F0FE;\n",
              "      border: none;\n",
              "      border-radius: 50%;\n",
              "      cursor: pointer;\n",
              "      display: none;\n",
              "      fill: #1967D2;\n",
              "      height: 32px;\n",
              "      padding: 0 0 0 0;\n",
              "      width: 32px;\n",
              "    }\n",
              "\n",
              "    .colab-df-convert:hover {\n",
              "      background-color: #E2EBFA;\n",
              "      box-shadow: 0px 1px 2px rgba(60, 64, 67, 0.3), 0px 1px 3px 1px rgba(60, 64, 67, 0.15);\n",
              "      fill: #174EA6;\n",
              "    }\n",
              "\n",
              "    [theme=dark] .colab-df-convert {\n",
              "      background-color: #3B4455;\n",
              "      fill: #D2E3FC;\n",
              "    }\n",
              "\n",
              "    [theme=dark] .colab-df-convert:hover {\n",
              "      background-color: #434B5C;\n",
              "      box-shadow: 0px 1px 3px 1px rgba(0, 0, 0, 0.15);\n",
              "      filter: drop-shadow(0px 1px 2px rgba(0, 0, 0, 0.3));\n",
              "      fill: #FFFFFF;\n",
              "    }\n",
              "  </style>\n",
              "\n",
              "      <script>\n",
              "        const buttonEl =\n",
              "          document.querySelector('#df-cb31f38c-d93d-4940-87a6-86cfbe65a8d5 button.colab-df-convert');\n",
              "        buttonEl.style.display =\n",
              "          google.colab.kernel.accessAllowed ? 'block' : 'none';\n",
              "\n",
              "        async function convertToInteractive(key) {\n",
              "          const element = document.querySelector('#df-cb31f38c-d93d-4940-87a6-86cfbe65a8d5');\n",
              "          const dataTable =\n",
              "            await google.colab.kernel.invokeFunction('convertToInteractive',\n",
              "                                                     [key], {});\n",
              "          if (!dataTable) return;\n",
              "\n",
              "          const docLinkHtml = 'Like what you see? Visit the ' +\n",
              "            '<a target=\"_blank\" href=https://colab.research.google.com/notebooks/data_table.ipynb>data table notebook</a>'\n",
              "            + ' to learn more about interactive tables.';\n",
              "          element.innerHTML = '';\n",
              "          dataTable['output_type'] = 'display_data';\n",
              "          await google.colab.output.renderOutput(dataTable, element);\n",
              "          const docLink = document.createElement('div');\n",
              "          docLink.innerHTML = docLinkHtml;\n",
              "          element.appendChild(docLink);\n",
              "        }\n",
              "      </script>\n",
              "    </div>\n",
              "  </div>\n",
              "  "
            ]
          },
          "metadata": {},
          "execution_count": 39
        }
      ],
      "source": [
        "df_train.head()"
      ]
    },
    {
      "cell_type": "code",
      "source": [
        "df_cval.head()"
      ],
      "metadata": {
        "colab": {
          "base_uri": "https://localhost:8080/",
          "height": 791
        },
        "id": "-p9QVGU8Gmr6",
        "outputId": "36ad3047-f7a0-4282-910f-4e46c3b3a903"
      },
      "id": "-p9QVGU8Gmr6",
      "execution_count": null,
      "outputs": [
        {
          "output_type": "execute_result",
          "data": {
            "text/plain": [
              "   train_id                                     name  item_condition_id  \\\n",
              "0   1272357         valentine set men bath body work                  1   \n",
              "1   1164265  victoria secret 32b bra victoria secret                  3   \n",
              "2    373218                   nwt slime creation kit                  1   \n",
              "3   1152407         toddler girl size 6 cowgirl boot                  3   \n",
              "4    312768                          boy jordan nike                  4   \n",
              "\n",
              "                   category_name         brand_name  price  shipping  \\\n",
              "0  Home/Seasonal Décor/Valentine  Bath & Body Works   12.0         1   \n",
              "1           Women/Underwear/Bras  Victoria's Secret   26.0         0   \n",
              "2        Kids/Toys/Arts & Crafts                      13.0         1   \n",
              "3         Kids/Girls 2T-5T/Shoes                       8.0         1   \n",
              "4          Kids/Boys 2T-5T/Shoes               Nike   21.0         1   \n",
              "\n",
              "                                    item_description  log_price  \\\n",
              "0                                                new   2.564949   \n",
              "1  Everyday Bra - push up. Used condition but sti...   3.295837   \n",
              "2  This kit makes five different kinds of slime! ...   2.639057   \n",
              "3  Toddler girl size 6 cowgirl boots. Good used c...   2.197225   \n",
              "4                   Used boys size 13 black Jordan's   3.091042   \n",
              "\n",
              "                                                text  length_combined_text  \\\n",
              "0  new valentine set men bath body work home seas...                    64   \n",
              "1  everyday bra push used condition still lot lif...                   195   \n",
              "2  kit make five different kind slime look pictur...                    93   \n",
              "3  toddler girl size 6 cowgirl boot good used con...                   138   \n",
              "4  used boy size 13 black jordan boy jordan nike ...                    64   \n",
              "\n",
              "   log_price_median  log_price_mean  log_price_std_dev  \\\n",
              "0          2.564949        2.564949           0.000000   \n",
              "1          2.833213        2.854513           0.416390   \n",
              "2          1.945910        2.037993           0.536796   \n",
              "3          2.639057        2.665817           0.474954   \n",
              "4          2.636500        2.627824           0.395215   \n",
              "\n",
              "   log_price_coeff_variance  log_price_min_expected  \\\n",
              "0                  0.000000                2.564949   \n",
              "1                  0.145871                2.000433   \n",
              "2                  0.263394                1.000000   \n",
              "3                  0.178164                1.689150   \n",
              "4                  0.150396                1.846069   \n",
              "\n",
              "   log_price_max_expected_log_price  \n",
              "0                          2.564949  \n",
              "1                          3.665994  \n",
              "2                          3.019502  \n",
              "3                          3.588964  \n",
              "4                          3.426930  "
            ],
            "text/html": [
              "\n",
              "  <div id=\"df-bfeeb85e-28c2-40cb-8551-57f4c170a7f6\">\n",
              "    <div class=\"colab-df-container\">\n",
              "      <div>\n",
              "<style scoped>\n",
              "    .dataframe tbody tr th:only-of-type {\n",
              "        vertical-align: middle;\n",
              "    }\n",
              "\n",
              "    .dataframe tbody tr th {\n",
              "        vertical-align: top;\n",
              "    }\n",
              "\n",
              "    .dataframe thead th {\n",
              "        text-align: right;\n",
              "    }\n",
              "</style>\n",
              "<table border=\"1\" class=\"dataframe\">\n",
              "  <thead>\n",
              "    <tr style=\"text-align: right;\">\n",
              "      <th></th>\n",
              "      <th>train_id</th>\n",
              "      <th>name</th>\n",
              "      <th>item_condition_id</th>\n",
              "      <th>category_name</th>\n",
              "      <th>brand_name</th>\n",
              "      <th>price</th>\n",
              "      <th>shipping</th>\n",
              "      <th>item_description</th>\n",
              "      <th>log_price</th>\n",
              "      <th>text</th>\n",
              "      <th>length_combined_text</th>\n",
              "      <th>log_price_median</th>\n",
              "      <th>log_price_mean</th>\n",
              "      <th>log_price_std_dev</th>\n",
              "      <th>log_price_coeff_variance</th>\n",
              "      <th>log_price_min_expected</th>\n",
              "      <th>log_price_max_expected_log_price</th>\n",
              "    </tr>\n",
              "  </thead>\n",
              "  <tbody>\n",
              "    <tr>\n",
              "      <th>0</th>\n",
              "      <td>1272357</td>\n",
              "      <td>valentine set men bath body work</td>\n",
              "      <td>1</td>\n",
              "      <td>Home/Seasonal Décor/Valentine</td>\n",
              "      <td>Bath &amp; Body Works</td>\n",
              "      <td>12.0</td>\n",
              "      <td>1</td>\n",
              "      <td>new</td>\n",
              "      <td>2.564949</td>\n",
              "      <td>new valentine set men bath body work home seas...</td>\n",
              "      <td>64</td>\n",
              "      <td>2.564949</td>\n",
              "      <td>2.564949</td>\n",
              "      <td>0.000000</td>\n",
              "      <td>0.000000</td>\n",
              "      <td>2.564949</td>\n",
              "      <td>2.564949</td>\n",
              "    </tr>\n",
              "    <tr>\n",
              "      <th>1</th>\n",
              "      <td>1164265</td>\n",
              "      <td>victoria secret 32b bra victoria secret</td>\n",
              "      <td>3</td>\n",
              "      <td>Women/Underwear/Bras</td>\n",
              "      <td>Victoria's Secret</td>\n",
              "      <td>26.0</td>\n",
              "      <td>0</td>\n",
              "      <td>Everyday Bra - push up. Used condition but sti...</td>\n",
              "      <td>3.295837</td>\n",
              "      <td>everyday bra push used condition still lot lif...</td>\n",
              "      <td>195</td>\n",
              "      <td>2.833213</td>\n",
              "      <td>2.854513</td>\n",
              "      <td>0.416390</td>\n",
              "      <td>0.145871</td>\n",
              "      <td>2.000433</td>\n",
              "      <td>3.665994</td>\n",
              "    </tr>\n",
              "    <tr>\n",
              "      <th>2</th>\n",
              "      <td>373218</td>\n",
              "      <td>nwt slime creation kit</td>\n",
              "      <td>1</td>\n",
              "      <td>Kids/Toys/Arts &amp; Crafts</td>\n",
              "      <td></td>\n",
              "      <td>13.0</td>\n",
              "      <td>1</td>\n",
              "      <td>This kit makes five different kinds of slime! ...</td>\n",
              "      <td>2.639057</td>\n",
              "      <td>kit make five different kind slime look pictur...</td>\n",
              "      <td>93</td>\n",
              "      <td>1.945910</td>\n",
              "      <td>2.037993</td>\n",
              "      <td>0.536796</td>\n",
              "      <td>0.263394</td>\n",
              "      <td>1.000000</td>\n",
              "      <td>3.019502</td>\n",
              "    </tr>\n",
              "    <tr>\n",
              "      <th>3</th>\n",
              "      <td>1152407</td>\n",
              "      <td>toddler girl size 6 cowgirl boot</td>\n",
              "      <td>3</td>\n",
              "      <td>Kids/Girls 2T-5T/Shoes</td>\n",
              "      <td></td>\n",
              "      <td>8.0</td>\n",
              "      <td>1</td>\n",
              "      <td>Toddler girl size 6 cowgirl boots. Good used c...</td>\n",
              "      <td>2.197225</td>\n",
              "      <td>toddler girl size 6 cowgirl boot good used con...</td>\n",
              "      <td>138</td>\n",
              "      <td>2.639057</td>\n",
              "      <td>2.665817</td>\n",
              "      <td>0.474954</td>\n",
              "      <td>0.178164</td>\n",
              "      <td>1.689150</td>\n",
              "      <td>3.588964</td>\n",
              "    </tr>\n",
              "    <tr>\n",
              "      <th>4</th>\n",
              "      <td>312768</td>\n",
              "      <td>boy jordan nike</td>\n",
              "      <td>4</td>\n",
              "      <td>Kids/Boys 2T-5T/Shoes</td>\n",
              "      <td>Nike</td>\n",
              "      <td>21.0</td>\n",
              "      <td>1</td>\n",
              "      <td>Used boys size 13 black Jordan's</td>\n",
              "      <td>3.091042</td>\n",
              "      <td>used boy size 13 black jordan boy jordan nike ...</td>\n",
              "      <td>64</td>\n",
              "      <td>2.636500</td>\n",
              "      <td>2.627824</td>\n",
              "      <td>0.395215</td>\n",
              "      <td>0.150396</td>\n",
              "      <td>1.846069</td>\n",
              "      <td>3.426930</td>\n",
              "    </tr>\n",
              "  </tbody>\n",
              "</table>\n",
              "</div>\n",
              "      <button class=\"colab-df-convert\" onclick=\"convertToInteractive('df-bfeeb85e-28c2-40cb-8551-57f4c170a7f6')\"\n",
              "              title=\"Convert this dataframe to an interactive table.\"\n",
              "              style=\"display:none;\">\n",
              "        \n",
              "  <svg xmlns=\"http://www.w3.org/2000/svg\" height=\"24px\"viewBox=\"0 0 24 24\"\n",
              "       width=\"24px\">\n",
              "    <path d=\"M0 0h24v24H0V0z\" fill=\"none\"/>\n",
              "    <path d=\"M18.56 5.44l.94 2.06.94-2.06 2.06-.94-2.06-.94-.94-2.06-.94 2.06-2.06.94zm-11 1L8.5 8.5l.94-2.06 2.06-.94-2.06-.94L8.5 2.5l-.94 2.06-2.06.94zm10 10l.94 2.06.94-2.06 2.06-.94-2.06-.94-.94-2.06-.94 2.06-2.06.94z\"/><path d=\"M17.41 7.96l-1.37-1.37c-.4-.4-.92-.59-1.43-.59-.52 0-1.04.2-1.43.59L10.3 9.45l-7.72 7.72c-.78.78-.78 2.05 0 2.83L4 21.41c.39.39.9.59 1.41.59.51 0 1.02-.2 1.41-.59l7.78-7.78 2.81-2.81c.8-.78.8-2.07 0-2.86zM5.41 20L4 18.59l7.72-7.72 1.47 1.35L5.41 20z\"/>\n",
              "  </svg>\n",
              "      </button>\n",
              "      \n",
              "  <style>\n",
              "    .colab-df-container {\n",
              "      display:flex;\n",
              "      flex-wrap:wrap;\n",
              "      gap: 12px;\n",
              "    }\n",
              "\n",
              "    .colab-df-convert {\n",
              "      background-color: #E8F0FE;\n",
              "      border: none;\n",
              "      border-radius: 50%;\n",
              "      cursor: pointer;\n",
              "      display: none;\n",
              "      fill: #1967D2;\n",
              "      height: 32px;\n",
              "      padding: 0 0 0 0;\n",
              "      width: 32px;\n",
              "    }\n",
              "\n",
              "    .colab-df-convert:hover {\n",
              "      background-color: #E2EBFA;\n",
              "      box-shadow: 0px 1px 2px rgba(60, 64, 67, 0.3), 0px 1px 3px 1px rgba(60, 64, 67, 0.15);\n",
              "      fill: #174EA6;\n",
              "    }\n",
              "\n",
              "    [theme=dark] .colab-df-convert {\n",
              "      background-color: #3B4455;\n",
              "      fill: #D2E3FC;\n",
              "    }\n",
              "\n",
              "    [theme=dark] .colab-df-convert:hover {\n",
              "      background-color: #434B5C;\n",
              "      box-shadow: 0px 1px 3px 1px rgba(0, 0, 0, 0.15);\n",
              "      filter: drop-shadow(0px 1px 2px rgba(0, 0, 0, 0.3));\n",
              "      fill: #FFFFFF;\n",
              "    }\n",
              "  </style>\n",
              "\n",
              "      <script>\n",
              "        const buttonEl =\n",
              "          document.querySelector('#df-bfeeb85e-28c2-40cb-8551-57f4c170a7f6 button.colab-df-convert');\n",
              "        buttonEl.style.display =\n",
              "          google.colab.kernel.accessAllowed ? 'block' : 'none';\n",
              "\n",
              "        async function convertToInteractive(key) {\n",
              "          const element = document.querySelector('#df-bfeeb85e-28c2-40cb-8551-57f4c170a7f6');\n",
              "          const dataTable =\n",
              "            await google.colab.kernel.invokeFunction('convertToInteractive',\n",
              "                                                     [key], {});\n",
              "          if (!dataTable) return;\n",
              "\n",
              "          const docLinkHtml = 'Like what you see? Visit the ' +\n",
              "            '<a target=\"_blank\" href=https://colab.research.google.com/notebooks/data_table.ipynb>data table notebook</a>'\n",
              "            + ' to learn more about interactive tables.';\n",
              "          element.innerHTML = '';\n",
              "          dataTable['output_type'] = 'display_data';\n",
              "          await google.colab.output.renderOutput(dataTable, element);\n",
              "          const docLink = document.createElement('div');\n",
              "          docLink.innerHTML = docLinkHtml;\n",
              "          element.appendChild(docLink);\n",
              "        }\n",
              "      </script>\n",
              "    </div>\n",
              "  </div>\n",
              "  "
            ]
          },
          "metadata": {},
          "execution_count": 40
        }
      ]
    },
    {
      "cell_type": "markdown",
      "source": [
        "### 8. Generating Sentiments scores"
      ],
      "metadata": {
        "id": "a5-JlyCI7tqy"
      },
      "id": "a5-JlyCI7tqy"
    },
    {
      "cell_type": "markdown",
      "id": "3f146f4c",
      "metadata": {
        "id": "3f146f4c"
      },
      "source": [
        "#### 1. Generating and adding the VADER scores in the dataframe for both original and processed text"
      ]
    },
    {
      "cell_type": "code",
      "execution_count": null,
      "id": "5cb07e32",
      "metadata": {
        "id": "5cb07e32",
        "outputId": "4a4fc4c5-3c0f-4c07-8404-e934a7b7264e",
        "colab": {
          "base_uri": "https://localhost:8080/"
        }
      },
      "outputs": [
        {
          "output_type": "stream",
          "name": "stderr",
          "text": [
            "100%|██████████| 1186028/1186028 [04:03<00:00, 4878.92it/s]\n",
            "100%|██████████| 1186028/1186028 [05:18<00:00, 3722.38it/s]\n"
          ]
        }
      ],
      "source": [
        "scores_negative,scores_positive,scores_neutral,scores_compound = generate_sentiment_scores(df_train['item_description_cleaned'])\n",
        "df_train['senti_names_vader_negative_processed'] = scores_negative\n",
        "df_train['senti_names_vader_positive_processed'] = scores_positive\n",
        "df_train['senti_names_vader_neutral_processed'] = scores_neutral\n",
        "df_train['senti_names_vader_compound_processed'] = scores_compound\n",
        "\n",
        "scores_negative,scores_positive,scores_neutral,scores_compound = generate_sentiment_scores(df_train['item_description'])\n",
        "df_train['senti_names_vader_negative_original'] = scores_negative\n",
        "df_train['senti_names_vader_positive_original'] = scores_positive\n",
        "df_train['senti_names_vader_neutral_original'] = scores_neutral\n",
        "df_train['senti_names_vader_compound_original'] = scores_compound"
      ]
    },
    {
      "cell_type": "markdown",
      "id": "1e90e2ac",
      "metadata": {
        "id": "1e90e2ac"
      },
      "source": [
        "#### 2. Generating and adding the Affin scores in the dataframe for both original and processed text"
      ]
    },
    {
      "cell_type": "code",
      "execution_count": null,
      "id": "8563e8d8",
      "metadata": {
        "id": "8563e8d8",
        "outputId": "24283375-152a-49d0-fda6-8cfca2aad113",
        "colab": {
          "base_uri": "https://localhost:8080/"
        }
      },
      "outputs": [
        {
          "output_type": "stream",
          "name": "stderr",
          "text": [
            "100%|██████████| 1186028/1186028 [14:55<00:00, 1324.00it/s]\n",
            "100%|██████████| 1186028/1186028 [10:08<00:00, 1949.65it/s]\n"
          ]
        }
      ],
      "source": [
        "df_train['senti_names_affin_original'] = generate_sentiment_scores_affin(df_train['item_description'])\n",
        "df_train['senti_names_affin_processed'] = generate_sentiment_scores_affin(df_train['item_description_cleaned'])"
      ]
    },
    {
      "cell_type": "markdown",
      "id": "65eaecaf",
      "metadata": {
        "id": "65eaecaf"
      },
      "source": [
        "#### 3. Sentiment Analysis using BERT"
      ]
    },
    {
      "cell_type": "code",
      "execution_count": null,
      "id": "dae15035",
      "metadata": {
        "id": "dae15035"
      },
      "outputs": [],
      "source": [
        "#I was trying to implement sentiment analysis using BERT but it would take a lot of time(~20-30hrs) so instead implemented textblob for sentiment analysis\n",
        "#scores,labels= generate_sentiment_scores_bert(senti_data1_original)\n",
        "#df_train['senti_names_bert_score_original'] = scores\n",
        "#df_train['senti_names_bert_label_original'] = labels\n",
        "\n",
        "#scores,labels= generate_sentiment_scores_bert(senti_data1_processed)\n",
        "#df_train['senti_names_bert_score_processed'] = scores\n",
        "#df_train['senti_names_bert_label_processed'] = labels"
      ]
    },
    {
      "cell_type": "markdown",
      "id": "abbde423",
      "metadata": {
        "id": "abbde423"
      },
      "source": [
        "### 4. Generating and adding the TextBlob scores in the dataframe for both original and processed text"
      ]
    },
    {
      "cell_type": "code",
      "execution_count": null,
      "id": "68d46ec9",
      "metadata": {
        "id": "68d46ec9",
        "colab": {
          "base_uri": "https://localhost:8080/"
        },
        "outputId": "16436451-0bde-4ddd-9f1a-6d4ee1a597a0"
      },
      "outputs": [
        {
          "output_type": "stream",
          "name": "stderr",
          "text": [
            "100%|██████████| 1186028/1186028 [05:10<00:00, 3825.44it/s]\n",
            "100%|██████████| 1186028/1186028 [04:01<00:00, 4908.74it/s]\n"
          ]
        }
      ],
      "source": [
        "scores,labels= generate_sentiment_scores_textblob(df_train['item_description'])\n",
        "df_train['senti_names_textblob_polarity_original'] = scores\n",
        "df_train['senti_names_textblob_subjectivity_original'] = labels \n",
        "\n",
        "scores,labels= generate_sentiment_scores_textblob((df_train['item_description_cleaned']))\n",
        "df_train['senti_names_textblob_polarity_processed'] = scores\n",
        "df_train['senti_names_textblob_subjectivity_processed'] = labels"
      ]
    },
    {
      "cell_type": "code",
      "execution_count": null,
      "id": "a36138a2",
      "metadata": {
        "id": "a36138a2",
        "colab": {
          "base_uri": "https://localhost:8080/"
        },
        "outputId": "b16441e1-21c9-4c41-e1a3-98c2bd1650c3"
      },
      "outputs": [
        {
          "output_type": "execute_result",
          "data": {
            "text/plain": [
              "Index(['train_id', 'name', 'item_condition_id', 'category_name', 'brand_name',\n",
              "       'price', 'shipping', 'item_description', 'log_price',\n",
              "       'log_price_median', 'log_price_mean', 'log_price_std_dev',\n",
              "       'log_price_coeff_variance', 'log_price_min_expected',\n",
              "       'log_price_max_expected_log_price', 'text', 'item_description_cleaned',\n",
              "       'length_combined_text', 'senti_names_vader_negative_processed',\n",
              "       'senti_names_vader_positive_processed',\n",
              "       'senti_names_vader_neutral_processed',\n",
              "       'senti_names_vader_compound_processed',\n",
              "       'senti_names_vader_negative_original',\n",
              "       'senti_names_vader_positive_original',\n",
              "       'senti_names_vader_neutral_original',\n",
              "       'senti_names_vader_compound_original', 'senti_names_affin_original',\n",
              "       'senti_names_affin_processed', 'senti_names_textblob_polarity_original',\n",
              "       'senti_names_textblob_subjectivity_original',\n",
              "       'senti_names_textblob_polarity_processed',\n",
              "       'senti_names_textblob_subjectivity_processed'],\n",
              "      dtype='object')"
            ]
          },
          "metadata": {},
          "execution_count": 37
        }
      ],
      "source": [
        "df_train.columns"
      ]
    },
    {
      "cell_type": "markdown",
      "source": [],
      "metadata": {
        "id": "4A7TwWWP8yt6"
      },
      "id": "4A7TwWWP8yt6"
    },
    {
      "cell_type": "markdown",
      "id": "bda5c584",
      "metadata": {
        "id": "bda5c584"
      },
      "source": [
        "### 9. joblib storage\n"
      ]
    },
    {
      "cell_type": "code",
      "execution_count": null,
      "id": "5656eb32",
      "metadata": {
        "id": "5656eb32",
        "colab": {
          "base_uri": "https://localhost:8080/"
        },
        "outputId": "1adb2534-7bfe-4518-a9ec-3a210420f30b"
      },
      "outputs": [
        {
          "output_type": "execute_result",
          "data": {
            "text/plain": [
              "['/content/gdrive/MyDrive/binary_files/df_train_26Jan23_v1.joblib']"
            ]
          },
          "metadata": {},
          "execution_count": 29
        }
      ],
      "source": [
        "# Storing the final train dataframe and will be modified later on during baseline modelling \n",
        "# to accommodate transformed features which are currently stored in a joblib format\n",
        "joblib.dump(df_train, '/content/gdrive/MyDrive/binary_files/df_train_26Jan23_v1.joblib')"
      ]
    },
    {
      "cell_type": "markdown",
      "source": [],
      "metadata": {
        "id": "0pjBqdVr9Ahn"
      },
      "id": "0pjBqdVr9Ahn"
    },
    {
      "cell_type": "code",
      "execution_count": null,
      "id": "3d324866",
      "metadata": {
        "id": "3d324866",
        "colab": {
          "base_uri": "https://localhost:8080/"
        },
        "outputId": "777dcf66-e4f7-4d9d-ff1c-ff1dff135e88"
      },
      "outputs": [
        {
          "output_type": "execute_result",
          "data": {
            "text/plain": [
              "['/content/gdrive/MyDrive/binary_files/df_cval_26Jan23_v1.joblib']"
            ]
          },
          "metadata": {},
          "execution_count": 30
        }
      ],
      "source": [
        "joblib.dump(df_cval, '/content/gdrive/MyDrive/binary_files/df_cval_26Jan23_v1.joblib')"
      ]
    },
    {
      "cell_type": "code",
      "source": [
        "joblib.dump(trainframe, '/content/gdrive/MyDrive/binary_files/trainframe_26Jan23_v1.joblib')\n",
        "joblib.dump(cvalframe, '/content/gdrive/MyDrive/binary_files/cvalframe_26Jan23_v1.joblib')"
      ],
      "metadata": {
        "colab": {
          "base_uri": "https://localhost:8080/"
        },
        "id": "fOBwU7XL0whl",
        "outputId": "ef0d33b8-b590-49e3-ad6c-06851e1190bb"
      },
      "id": "fOBwU7XL0whl",
      "execution_count": null,
      "outputs": [
        {
          "output_type": "execute_result",
          "data": {
            "text/plain": [
              "['/content/gdrive/MyDrive/binary_files/cvalframe_26Jan23_v1.joblib']"
            ]
          },
          "metadata": {},
          "execution_count": 31
        }
      ]
    },
    {
      "cell_type": "code",
      "execution_count": null,
      "id": "c4f59f82",
      "metadata": {
        "id": "c4f59f82"
      },
      "outputs": [],
      "source": [
        "df_train=joblib.load('/content/gdrive/MyDrive/binary_files/df_train_24Jan23_v2.joblib')"
      ]
    },
    {
      "cell_type": "code",
      "execution_count": null,
      "id": "2a1b234b",
      "metadata": {
        "id": "2a1b234b",
        "colab": {
          "base_uri": "https://localhost:8080/"
        },
        "outputId": "ce00f19b-7061-42a1-feb5-befd46007cfa"
      },
      "outputs": [
        {
          "output_type": "execute_result",
          "data": {
            "text/plain": [
              "32"
            ]
          },
          "metadata": {},
          "execution_count": 42
        }
      ],
      "source": [
        "len(df_train.columns)"
      ]
    },
    {
      "cell_type": "markdown",
      "source": [
        "### 10. Heatmap and Observations\n"
      ],
      "metadata": {
        "id": "WBnuziIs9EnD"
      },
      "id": "WBnuziIs9EnD"
    },
    {
      "cell_type": "code",
      "execution_count": null,
      "id": "313c837d",
      "metadata": {
        "id": "313c837d",
        "colab": {
          "base_uri": "https://localhost:8080/",
          "height": 501
        },
        "outputId": "2a3fc1da-486d-4a65-b534-bc89f146b691"
      },
      "outputs": [
        {
          "output_type": "display_data",
          "data": {
            "text/plain": [
              "<Figure size 432x288 with 2 Axes>"
            ],
            "image/png": "[encoded data removed]"
          },
          "metadata": {
            "needs_background": "light"
          }
        }
      ],
      "source": [
        "df_traincorr = df_train.drop(columns = ['train_id','item_condition_id','shipping','price'])\n",
        "corMat = df_traincorr.corr()\n",
        "plt.title('Train Dataframe Correlation Matrix', fontsize = 15)\n",
        "sns.set(font_scale=0.34)\n",
        "sns.heatmap(corMat,annot=True,linewidths=0.5)\n",
        "plt.show()"
      ]
    },
    {
      "cell_type": "markdown",
      "id": "af13f84f",
      "metadata": {
        "id": "af13f84f"
      },
      "source": [
        "### Observations"
      ]
    },
    {
      "cell_type": "markdown",
      "id": "c6f064fe",
      "metadata": {
        "id": "c6f064fe"
      },
      "source": [
        "1) The following features -> log_price_median, log_price_min_expected and log_price_max_expected_log_price have a high correlation with the target variable so considering to take these 3 features\n",
        "\n",
        "2) If building a linear model will only use log_price_median as the feature"
      ]
    },
    {
      "cell_type": "markdown",
      "id": "de2cb126",
      "metadata": {
        "id": "de2cb126"
      },
      "source": [
        "### Feature selection confirmation using SelectKBest"
      ]
    },
    {
      "cell_type": "code",
      "execution_count": null,
      "id": "6683fec1",
      "metadata": {
        "id": "6683fec1",
        "colab": {
          "base_uri": "https://localhost:8080/"
        },
        "outputId": "8db48c6d-d43d-4a74-c855-28fae4d2b519"
      },
      "outputs": [
        {
          "output_type": "stream",
          "name": "stdout",
          "text": [
            "Feature = log_price_median\n",
            "Score = 1186307\n",
            "Feature = log_price_mean\n",
            "Score = 1239138\n",
            "Feature = log_price_std_dev\n",
            "Score = 15215\n",
            "Feature = log_price_coeff_variance\n",
            "Score = 44987\n",
            "Feature = log_price_min_expected\n",
            "Score = 529126\n",
            "Feature = log_price_max_expected_log_price\n",
            "Score = 724503\n",
            "Feature = length_combined_text\n",
            "Score = 1962\n",
            "Feature = senti_names_vader_negative_processed\n",
            "Score = 195\n",
            "Feature = senti_names_vader_positive_processed\n",
            "Score = 967\n",
            "Feature = senti_names_vader_neutral_processed\n",
            "Score = 502\n",
            "Feature = senti_names_vader_compound_processed\n",
            "Score = 2\n",
            "Feature = senti_names_vader_negative_original\n",
            "Score = 426\n",
            "Feature = senti_names_vader_positive_original\n",
            "Score = 1237\n",
            "Feature = senti_names_vader_neutral_original\n",
            "Score = 504\n",
            "Feature = senti_names_vader_compound_original\n",
            "Score = 1\n",
            "Feature = senti_names_affin_original\n",
            "Score = 31\n",
            "Feature = senti_names_affin_processed\n",
            "Score = 40\n",
            "Feature = senti_names_textblob_polarity_original\n",
            "Score = 493\n",
            "Feature = senti_names_textblob_subjectivity_original\n",
            "Score = 2705\n",
            "Feature = senti_names_textblob_polarity_processed\n",
            "Score = 926\n",
            "Feature = senti_names_textblob_subjectivity_processed\n",
            "Score = 2900\n"
          ]
        }
      ],
      "source": [
        "log_price = df_train['log_price']\n",
        "df_featselector = df_train.drop(columns = ['train_id','name','text','item_condition_id','category_name','brand_name','price','shipping','item_description','log_price','item_description_cleaned'])\n",
        "df_featselector.columns\n",
        "selector = SelectKBest(f_regression,k = \"all\")\n",
        "selector.fit(df_featselector, log_price)\n",
        "for feat,score in zip(df_featselector.columns,selector.scores_):\n",
        "    print(\"Feature =\",feat)\n",
        "    print(\"Score =\",round(score))"
      ]
    },
    {
      "cell_type": "markdown",
      "id": "47e0908b",
      "metadata": {
        "id": "47e0908b"
      },
      "source": [
        "### Observations"
      ]
    },
    {
      "cell_type": "markdown",
      "id": "265e2a3a",
      "metadata": {
        "id": "265e2a3a"
      },
      "source": [
        "1) The heatmap observations sets to be true as seen by scores given out by using SelectKBest as a feature selector \n",
        "\n",
        "2) This feature would be added senti_names_textblob_subjectivity_processed to check the impact on the baseline model accuracy because there is significant difference between other sentiment features and has a higher score given by SelectKBest"
      ]
    }
  ],
  "metadata": {
    "kernelspec": {
      "display_name": "Python 3 (ipykernel)",
      "language": "python",
      "name": "python3"
    },
    "language_info": {
      "codemirror_mode": {
        "name": "ipython",
        "version": 3
      },
      "file_extension": ".py",
      "mimetype": "text/x-python",
      "name": "python",
      "nbconvert_exporter": "python",
      "pygments_lexer": "ipython3",
      "version": "3.9.12"
    },
    "colab": {
      "provenance": [],
      "machine_shape": "hm",
      "collapsed_sections": [
        "3f146f4c",
        "1e90e2ac",
        "65eaecaf"
      ]
    },
    "gpuClass": "standard"
  },
  "nbformat": 4,
  "nbformat_minor": 5
}